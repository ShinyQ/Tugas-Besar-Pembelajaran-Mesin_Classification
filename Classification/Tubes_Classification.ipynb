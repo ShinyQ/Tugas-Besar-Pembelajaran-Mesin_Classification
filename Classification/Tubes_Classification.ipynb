{
 "cells": [
  {
   "cell_type": "code",
   "execution_count": 4,
   "metadata": {},
   "outputs": [],
   "source": [
    "import matplotlib.pyplot as plt\n",
    "import pandas as pd\n",
    "import seaborn as sns\n",
    "import warnings\n",
    "\n",
    "from sklearn.metrics import confusion_matrix, accuracy_score, f1_score, roc_auc_score, recall_score, precision_score\n",
    "from sklearn.model_selection import train_test_split\n",
    "\n",
    "from sklearn.linear_model import SGDClassifier\n",
    "from sklearn.naive_bayes import GaussianNB\n",
    "from sklearn.tree import DecisionTreeClassifier\n",
    "from sklearn.ensemble import RandomForestClassifier, AdaBoostClassifier\n",
    "\n",
    "warnings.filterwarnings('ignore')"
   ]
  },
  {
   "cell_type": "code",
   "execution_count": 5,
   "metadata": {},
   "outputs": [
    {
     "data": {
      "text/html": [
       "<div>\n",
       "<style scoped>\n",
       "    .dataframe tbody tr th:only-of-type {\n",
       "        vertical-align: middle;\n",
       "    }\n",
       "\n",
       "    .dataframe tbody tr th {\n",
       "        vertical-align: top;\n",
       "    }\n",
       "\n",
       "    .dataframe thead th {\n",
       "        text-align: right;\n",
       "    }\n",
       "</style>\n",
       "<table border=\"1\" class=\"dataframe\">\n",
       "  <thead>\n",
       "    <tr style=\"text-align: right;\">\n",
       "      <th></th>\n",
       "      <th>Jenis_Kelamin</th>\n",
       "      <th>Umur</th>\n",
       "      <th>SIM</th>\n",
       "      <th>Kode_Daerah</th>\n",
       "      <th>Sudah_Asuransi</th>\n",
       "      <th>Umur_Kendaraan</th>\n",
       "      <th>Kendaraan_Rusak</th>\n",
       "      <th>Premi</th>\n",
       "      <th>Kanal_Penjualan</th>\n",
       "      <th>Lama_Berlangganan</th>\n",
       "      <th>Tertarik</th>\n",
       "    </tr>\n",
       "  </thead>\n",
       "  <tbody>\n",
       "    <tr>\n",
       "      <th>257017</th>\n",
       "      <td>1.0</td>\n",
       "      <td>0.061538</td>\n",
       "      <td>1.0</td>\n",
       "      <td>0.538462</td>\n",
       "      <td>0.0</td>\n",
       "      <td>1.0</td>\n",
       "      <td>1.0</td>\n",
       "      <td>0.040453</td>\n",
       "      <td>0.154321</td>\n",
       "      <td>0.688581</td>\n",
       "      <td>0</td>\n",
       "    </tr>\n",
       "    <tr>\n",
       "      <th>91774</th>\n",
       "      <td>0.0</td>\n",
       "      <td>0.107692</td>\n",
       "      <td>1.0</td>\n",
       "      <td>0.538462</td>\n",
       "      <td>0.0</td>\n",
       "      <td>0.0</td>\n",
       "      <td>1.0</td>\n",
       "      <td>0.000000</td>\n",
       "      <td>0.956790</td>\n",
       "      <td>0.899654</td>\n",
       "      <td>0</td>\n",
       "    </tr>\n",
       "    <tr>\n",
       "      <th>47982</th>\n",
       "      <td>1.0</td>\n",
       "      <td>0.369231</td>\n",
       "      <td>1.0</td>\n",
       "      <td>0.538462</td>\n",
       "      <td>0.0</td>\n",
       "      <td>2.0</td>\n",
       "      <td>1.0</td>\n",
       "      <td>0.054348</td>\n",
       "      <td>0.746914</td>\n",
       "      <td>0.062284</td>\n",
       "      <td>0</td>\n",
       "    </tr>\n",
       "    <tr>\n",
       "      <th>64578</th>\n",
       "      <td>0.0</td>\n",
       "      <td>0.015385</td>\n",
       "      <td>1.0</td>\n",
       "      <td>0.884615</td>\n",
       "      <td>1.0</td>\n",
       "      <td>0.0</td>\n",
       "      <td>0.0</td>\n",
       "      <td>0.043776</td>\n",
       "      <td>0.981481</td>\n",
       "      <td>0.499247</td>\n",
       "      <td>0</td>\n",
       "    </tr>\n",
       "    <tr>\n",
       "      <th>274327</th>\n",
       "      <td>1.0</td>\n",
       "      <td>0.261538</td>\n",
       "      <td>1.0</td>\n",
       "      <td>0.538462</td>\n",
       "      <td>1.0</td>\n",
       "      <td>1.0</td>\n",
       "      <td>0.0</td>\n",
       "      <td>0.085613</td>\n",
       "      <td>0.154321</td>\n",
       "      <td>0.214533</td>\n",
       "      <td>0</td>\n",
       "    </tr>\n",
       "  </tbody>\n",
       "</table>\n",
       "</div>"
      ],
      "text/plain": [
       "        Jenis_Kelamin      Umur  SIM  Kode_Daerah  Sudah_Asuransi  \\\n",
       "257017            1.0  0.061538  1.0     0.538462             0.0   \n",
       "91774             0.0  0.107692  1.0     0.538462             0.0   \n",
       "47982             1.0  0.369231  1.0     0.538462             0.0   \n",
       "64578             0.0  0.015385  1.0     0.884615             1.0   \n",
       "274327            1.0  0.261538  1.0     0.538462             1.0   \n",
       "\n",
       "        Umur_Kendaraan  Kendaraan_Rusak     Premi  Kanal_Penjualan  \\\n",
       "257017             1.0              1.0  0.040453         0.154321   \n",
       "91774              0.0              1.0  0.000000         0.956790   \n",
       "47982              2.0              1.0  0.054348         0.746914   \n",
       "64578              0.0              0.0  0.043776         0.981481   \n",
       "274327             1.0              0.0  0.085613         0.154321   \n",
       "\n",
       "        Lama_Berlangganan  Tertarik  \n",
       "257017           0.688581         0  \n",
       "91774            0.899654         0  \n",
       "47982            0.062284         0  \n",
       "64578            0.499247         0  \n",
       "274327           0.214533         0  "
      ]
     },
     "execution_count": 5,
     "metadata": {},
     "output_type": "execute_result"
    }
   ],
   "source": [
    "df = pd.read_csv('../Dataset/kendaraan_train_clean.csv')\n",
    "df.sample(5)"
   ]
  },
  {
   "cell_type": "code",
   "execution_count": 6,
   "metadata": {},
   "outputs": [
    {
     "data": {
      "text/html": [
       "<div>\n",
       "<style scoped>\n",
       "    .dataframe tbody tr th:only-of-type {\n",
       "        vertical-align: middle;\n",
       "    }\n",
       "\n",
       "    .dataframe tbody tr th {\n",
       "        vertical-align: top;\n",
       "    }\n",
       "\n",
       "    .dataframe thead th {\n",
       "        text-align: right;\n",
       "    }\n",
       "</style>\n",
       "<table border=\"1\" class=\"dataframe\">\n",
       "  <thead>\n",
       "    <tr style=\"text-align: right;\">\n",
       "      <th></th>\n",
       "      <th>Jenis_Kelamin</th>\n",
       "      <th>Umur</th>\n",
       "      <th>SIM</th>\n",
       "      <th>Kode_Daerah</th>\n",
       "      <th>Sudah_Asuransi</th>\n",
       "      <th>Umur_Kendaraan</th>\n",
       "      <th>Kendaraan_Rusak</th>\n",
       "      <th>Premi</th>\n",
       "      <th>Kanal_Penjualan</th>\n",
       "      <th>Lama_Berlangganan</th>\n",
       "      <th>Tertarik</th>\n",
       "    </tr>\n",
       "  </thead>\n",
       "  <tbody>\n",
       "    <tr>\n",
       "      <th>36617</th>\n",
       "      <td>1</td>\n",
       "      <td>0.046154</td>\n",
       "      <td>1</td>\n",
       "      <td>0.903846</td>\n",
       "      <td>0</td>\n",
       "      <td>0</td>\n",
       "      <td>1</td>\n",
       "      <td>0.062926</td>\n",
       "      <td>0.932099</td>\n",
       "      <td>0.747405</td>\n",
       "      <td>1</td>\n",
       "    </tr>\n",
       "    <tr>\n",
       "      <th>24874</th>\n",
       "      <td>1</td>\n",
       "      <td>0.323077</td>\n",
       "      <td>1</td>\n",
       "      <td>0.538462</td>\n",
       "      <td>1</td>\n",
       "      <td>1</td>\n",
       "      <td>0</td>\n",
       "      <td>0.049405</td>\n",
       "      <td>0.154321</td>\n",
       "      <td>0.847751</td>\n",
       "      <td>0</td>\n",
       "    </tr>\n",
       "    <tr>\n",
       "      <th>38366</th>\n",
       "      <td>1</td>\n",
       "      <td>0.061538</td>\n",
       "      <td>1</td>\n",
       "      <td>0.057692</td>\n",
       "      <td>0</td>\n",
       "      <td>0</td>\n",
       "      <td>0</td>\n",
       "      <td>0.046661</td>\n",
       "      <td>0.932099</td>\n",
       "      <td>0.307958</td>\n",
       "      <td>0</td>\n",
       "    </tr>\n",
       "    <tr>\n",
       "      <th>36942</th>\n",
       "      <td>0</td>\n",
       "      <td>0.092308</td>\n",
       "      <td>1</td>\n",
       "      <td>0.153846</td>\n",
       "      <td>1</td>\n",
       "      <td>0</td>\n",
       "      <td>0</td>\n",
       "      <td>0.047232</td>\n",
       "      <td>0.932099</td>\n",
       "      <td>0.491349</td>\n",
       "      <td>0</td>\n",
       "    </tr>\n",
       "    <tr>\n",
       "      <th>16800</th>\n",
       "      <td>1</td>\n",
       "      <td>0.476923</td>\n",
       "      <td>1</td>\n",
       "      <td>0.903846</td>\n",
       "      <td>0</td>\n",
       "      <td>1</td>\n",
       "      <td>1</td>\n",
       "      <td>0.067287</td>\n",
       "      <td>0.154321</td>\n",
       "      <td>0.003460</td>\n",
       "      <td>0</td>\n",
       "    </tr>\n",
       "  </tbody>\n",
       "</table>\n",
       "</div>"
      ],
      "text/plain": [
       "       Jenis_Kelamin      Umur  SIM  Kode_Daerah  Sudah_Asuransi  \\\n",
       "36617              1  0.046154    1     0.903846               0   \n",
       "24874              1  0.323077    1     0.538462               1   \n",
       "38366              1  0.061538    1     0.057692               0   \n",
       "36942              0  0.092308    1     0.153846               1   \n",
       "16800              1  0.476923    1     0.903846               0   \n",
       "\n",
       "       Umur_Kendaraan  Kendaraan_Rusak     Premi  Kanal_Penjualan  \\\n",
       "36617               0                1  0.062926         0.932099   \n",
       "24874               1                0  0.049405         0.154321   \n",
       "38366               0                0  0.046661         0.932099   \n",
       "36942               0                0  0.047232         0.932099   \n",
       "16800               1                1  0.067287         0.154321   \n",
       "\n",
       "       Lama_Berlangganan  Tertarik  \n",
       "36617           0.747405         1  \n",
       "24874           0.847751         0  \n",
       "38366           0.307958         0  \n",
       "36942           0.491349         0  \n",
       "16800           0.003460         0  "
      ]
     },
     "execution_count": 6,
     "metadata": {},
     "output_type": "execute_result"
    }
   ],
   "source": [
    "df_test = pd.read_csv('../Dataset/kendaraan_test_clean.csv')\n",
    "df_test.sample(5)"
   ]
  },
  {
   "cell_type": "code",
   "execution_count": 7,
   "metadata": {},
   "outputs": [
    {
     "name": "stdout",
     "output_type": "stream",
     "text": [
      "0    250661\n",
      "1     35001\n",
      "Name: Tertarik, dtype: int64\n"
     ]
    },
    {
     "data": {
      "text/plain": [
       "<seaborn.axisgrid.FacetGrid at 0x1e427b96280>"
      ]
     },
     "execution_count": 7,
     "metadata": {},
     "output_type": "execute_result"
    },
    {
     "data": {
      "image/png": "[encoded data removed]",
      "text/plain": [
       "<Figure size 360x360 with 1 Axes>"
      ]
     },
     "metadata": {
      "needs_background": "light"
     },
     "output_type": "display_data"
    }
   ],
   "source": [
    "print(df['Tertarik'].value_counts())\n",
    "sns.catplot(x='Tertarik', data=df, kind='count')"
   ]
  },
  {
   "cell_type": "code",
   "execution_count": 8,
   "metadata": {},
   "outputs": [],
   "source": [
    "x_data = df.drop(\"Tertarik\", axis=1)\n",
    "y_data = df[\"Tertarik\"]"
   ]
  },
  {
   "cell_type": "code",
   "execution_count": 9,
   "metadata": {},
   "outputs": [
    {
     "name": "stdout",
     "output_type": "stream",
     "text": [
      "x_train shape: (228529, 10)\n",
      "x_test shape: (57133, 10)\n",
      "---------------------------------\n",
      "y_train shape: (228529,)\n",
      "y_test shape: (57133,)\n"
     ]
    }
   ],
   "source": [
    "x_train, x_val, y_train, y_val = train_test_split(x_data, y_data, test_size=0.2)\n",
    "\n",
    "print(f'x_train shape: {x_train.shape}')\n",
    "print(f'x_test shape: {x_val.shape}')\n",
    "print('---------------------------------')\n",
    "print(f'y_train shape: {y_train.shape}')\n",
    "print(f'y_test shape: {y_val.shape}')\n"
   ]
  },
  {
   "cell_type": "markdown",
   "metadata": {},
   "source": [
    "## **Tuning Model**"
   ]
  },
  {
   "cell_type": "code",
   "execution_count": 10,
   "metadata": {},
   "outputs": [],
   "source": [
    "classifier = [\n",
    "    DecisionTreeClassifier(class_weight='balanced'),\n",
    "    SGDClassifier(class_weight='balanced'),\n",
    "    GaussianNB(),\n",
    "    AdaBoostClassifier(),\n",
    "    RandomForestClassifier(class_weight='balanced'),\n",
    "]\n",
    "\n",
    "name = [\n",
    "    'Decision Tree',\n",
    "    'SGDClassifier',\n",
    "    'Naive Bayes',\n",
    "    'AdaBoost',\n",
    "    'Random Forest',\n",
    "]"
   ]
  },
  {
   "cell_type": "markdown",
   "metadata": {},
   "source": [
    "### **Melatih Model Machine Learning**"
   ]
  },
  {
   "cell_type": "code",
   "execution_count": 11,
   "metadata": {},
   "outputs": [],
   "source": [
    "for models, i in zip(classifier, name):\n",
    "    models.fit(x_train, y_train)"
   ]
  },
  {
   "cell_type": "code",
   "execution_count": 12,
   "metadata": {},
   "outputs": [],
   "source": [
    "def report(model, title, x_test, y_test):\n",
    "    result = model.predict(x_test)\n",
    "\n",
    "    conf_matrix = confusion_matrix(y_test, result)\n",
    "    plt.figure(figsize=(7, 5))\n",
    "    sns.heatmap(conf_matrix, annot=True, xticklabels=[0, 1], yticklabels=[0, 1], cmap='flare', fmt='d')\n",
    "    \n",
    "    plt.ylabel('Actual')\n",
    "    plt.xlabel('Predicted')\n",
    "    plt.title(f'Confusion matrix {title}', pad=16)\n",
    "    plt.show()\n",
    "\n",
    "    f1 = f1_score(y_test, result)\n",
    "    recall = recall_score(y_test, result)\n",
    "    precision = precision_score(y_test, result)\n",
    "    roc = roc_auc_score(y_test, result)\n",
    "    accuracy = accuracy_score(y_test, result)\n",
    "\n",
    "    print(\"F1-Score \\t:\", f1)\n",
    "    print(\"Recall \\t\\t:\", recall)\n",
    "    print(\"Precision \\t:\", precision)\n",
    "    print(\"ROC-AUC \\t:\", roc)\n",
    "    print(\"Accuracy \\t:\", accuracy, end=\"\\n\\n\")\n",
    "\n",
    "    return title, f1, recall, precision, roc, accuracy\n"
   ]
  },
  {
   "cell_type": "code",
   "execution_count": 13,
   "metadata": {},
   "outputs": [
    {
     "data": {
      "image/png": "[encoded data removed]",
      "text/plain": [
       "<Figure size 504x360 with 2 Axes>"
      ]
     },
     "metadata": {
      "needs_background": "light"
     },
     "output_type": "display_data"
    },
    {
     "name": "stdout",
     "output_type": "stream",
     "text": [
      "F1-Score \t: 0.29143766271333527\n",
      "Recall \t\t: 0.2867103016505407\n",
      "Precision \t: 0.2963235294117647\n",
      "ROC-AUC \t: 0.5956054252489805\n",
      "Accuracy \t: 0.8285054171844644\n",
      "\n"
     ]
    },
    {
     "data": {
      "image/png": "[encoded data removed]",
      "text/plain": [
       "<Figure size 504x360 with 2 Axes>"
      ]
     },
     "metadata": {
      "needs_background": "light"
     },
     "output_type": "display_data"
    },
    {
     "name": "stdout",
     "output_type": "stream",
     "text": [
      "F1-Score \t: 0.3973732172303064\n",
      "Recall \t\t: 0.977233921457029\n",
      "Precision \t: 0.24939177166926904\n",
      "ROC-AUC \t: 0.782340142047744\n",
      "Accuracy \t: 0.6353946055694607\n",
      "\n"
     ]
    },
    {
     "data": {
      "image/png": "[encoded data removed]",
      "text/plain": [
       "<Figure size 504x360 with 2 Axes>"
      ]
     },
     "metadata": {
      "needs_background": "light"
     },
     "output_type": "display_data"
    },
    {
     "name": "stdout",
     "output_type": "stream",
     "text": [
      "F1-Score \t: 0.3980855692530819\n",
      "Recall \t\t: 0.9763801935116676\n",
      "Precision \t: 0.2500091084635844\n",
      "ROC-AUC \t: 0.7827714758597155\n",
      "Accuracy \t: 0.6367948471111267\n",
      "\n"
     ]
    },
    {
     "data": {
      "image/png": "[encoded data removed]",
      "text/plain": [
       "<Figure size 504x360 with 2 Axes>"
      ]
     },
     "metadata": {
      "needs_background": "light"
     },
     "output_type": "display_data"
    },
    {
     "name": "stdout",
     "output_type": "stream",
     "text": [
      "F1-Score \t: 0.0005688282138794085\n",
      "Recall \t\t: 0.0002845759817871372\n",
      "Precision \t: 0.5\n",
      "ROC-AUC \t: 0.5001223299028783\n",
      "Accuracy \t: 0.8769887805646474\n",
      "\n"
     ]
    },
    {
     "data": {
      "image/png": "[encoded data removed]",
      "text/plain": [
       "<Figure size 504x360 with 2 Axes>"
      ]
     },
     "metadata": {
      "needs_background": "light"
     },
     "output_type": "display_data"
    },
    {
     "name": "stdout",
     "output_type": "stream",
     "text": [
      "F1-Score \t: 0.15094765342960287\n",
      "Recall \t\t: 0.09519066590779739\n",
      "Precision \t: 0.36437908496732024\n",
      "ROC-AUC \t: 0.5359497885970481\n",
      "Accuracy \t: 0.868272276967777\n",
      "\n"
     ]
    }
   ],
   "source": [
    "metrics_report = []\n",
    "\n",
    "for models, i in zip(classifier, name):\n",
    "    title, f1, recall, precision, roc, accuracy = report(models, i, x_val, y_val)\n",
    "    metrics_report.append([title, f1, recall, precision, roc, accuracy])"
   ]
  },
  {
   "cell_type": "code",
   "execution_count": 14,
   "metadata": {},
   "outputs": [
    {
     "data": {
      "text/html": [
       "<div>\n",
       "<style scoped>\n",
       "    .dataframe tbody tr th:only-of-type {\n",
       "        vertical-align: middle;\n",
       "    }\n",
       "\n",
       "    .dataframe tbody tr th {\n",
       "        vertical-align: top;\n",
       "    }\n",
       "\n",
       "    .dataframe thead th {\n",
       "        text-align: right;\n",
       "    }\n",
       "</style>\n",
       "<table border=\"1\" class=\"dataframe\">\n",
       "  <thead>\n",
       "    <tr style=\"text-align: right;\">\n",
       "      <th></th>\n",
       "      <th>Model</th>\n",
       "      <th>F1-Score</th>\n",
       "      <th>Recall</th>\n",
       "      <th>Precision</th>\n",
       "      <th>ROC-AUC</th>\n",
       "      <th>Accuracy</th>\n",
       "    </tr>\n",
       "  </thead>\n",
       "  <tbody>\n",
       "    <tr>\n",
       "      <th>2</th>\n",
       "      <td>Naive Bayes</td>\n",
       "      <td>0.398086</td>\n",
       "      <td>0.976380</td>\n",
       "      <td>0.250009</td>\n",
       "      <td>0.782771</td>\n",
       "      <td>0.636795</td>\n",
       "    </tr>\n",
       "    <tr>\n",
       "      <th>1</th>\n",
       "      <td>SGDClassifier</td>\n",
       "      <td>0.397373</td>\n",
       "      <td>0.977234</td>\n",
       "      <td>0.249392</td>\n",
       "      <td>0.782340</td>\n",
       "      <td>0.635395</td>\n",
       "    </tr>\n",
       "    <tr>\n",
       "      <th>0</th>\n",
       "      <td>Decision Tree</td>\n",
       "      <td>0.291438</td>\n",
       "      <td>0.286710</td>\n",
       "      <td>0.296324</td>\n",
       "      <td>0.595605</td>\n",
       "      <td>0.828505</td>\n",
       "    </tr>\n",
       "    <tr>\n",
       "      <th>4</th>\n",
       "      <td>Random Forest</td>\n",
       "      <td>0.150948</td>\n",
       "      <td>0.095191</td>\n",
       "      <td>0.364379</td>\n",
       "      <td>0.535950</td>\n",
       "      <td>0.868272</td>\n",
       "    </tr>\n",
       "    <tr>\n",
       "      <th>3</th>\n",
       "      <td>AdaBoost</td>\n",
       "      <td>0.000569</td>\n",
       "      <td>0.000285</td>\n",
       "      <td>0.500000</td>\n",
       "      <td>0.500122</td>\n",
       "      <td>0.876989</td>\n",
       "    </tr>\n",
       "  </tbody>\n",
       "</table>\n",
       "</div>"
      ],
      "text/plain": [
       "           Model  F1-Score    Recall  Precision   ROC-AUC  Accuracy\n",
       "2    Naive Bayes  0.398086  0.976380   0.250009  0.782771  0.636795\n",
       "1  SGDClassifier  0.397373  0.977234   0.249392  0.782340  0.635395\n",
       "0  Decision Tree  0.291438  0.286710   0.296324  0.595605  0.828505\n",
       "4  Random Forest  0.150948  0.095191   0.364379  0.535950  0.868272\n",
       "3       AdaBoost  0.000569  0.000285   0.500000  0.500122  0.876989"
      ]
     },
     "execution_count": 14,
     "metadata": {},
     "output_type": "execute_result"
    }
   ],
   "source": [
    "metrics_report = pd.DataFrame(metrics_report, columns=['Model', 'F1-Score', 'Recall', 'Precision', 'ROC-AUC', 'Accuracy'])\n",
    "metrics_report.sort_values(by=['ROC-AUC'], ascending=False)"
   ]
  },
  {
   "cell_type": "markdown",
   "metadata": {},
   "source": [
    "## **Memprediksi Dan Evaluasi Data Test**"
   ]
  },
  {
   "cell_type": "code",
   "execution_count": 15,
   "metadata": {},
   "outputs": [
    {
     "data": {
      "image/png": "[encoded data removed]",
      "text/plain": [
       "<Figure size 504x360 with 2 Axes>"
      ]
     },
     "metadata": {
      "needs_background": "light"
     },
     "output_type": "display_data"
    },
    {
     "name": "stdout",
     "output_type": "stream",
     "text": [
      "F1-Score \t: 0.28536393098011736\n",
      "Recall \t\t: 0.27793891827333217\n",
      "Precision \t: 0.29319654427645786\n",
      "ROC-AUC \t: 0.5919710389154972\n",
      "Accuracy \t: 0.8287327609731523\n",
      "\n"
     ]
    },
    {
     "data": {
      "image/png": "[encoded data removed]",
      "text/plain": [
       "<Figure size 504x360 with 2 Axes>"
      ]
     },
     "metadata": {
      "needs_background": "light"
     },
     "output_type": "display_data"
    },
    {
     "name": "stdout",
     "output_type": "stream",
     "text": [
      "F1-Score \t: 0.39972032861387874\n",
      "Recall \t\t: 0.9754308138542911\n",
      "Precision \t: 0.25136299683432994\n",
      "ROC-AUC \t: 0.7839359057542793\n",
      "Accuracy \t: 0.6395600243497974\n",
      "\n"
     ]
    },
    {
     "data": {
      "image/png": "[encoded data removed]",
      "text/plain": [
       "<Figure size 504x360 with 2 Axes>"
      ]
     },
     "metadata": {
      "needs_background": "light"
     },
     "output_type": "display_data"
    },
    {
     "name": "stdout",
     "output_type": "stream",
     "text": [
      "F1-Score \t: 0.4005613050342045\n",
      "Recall \t\t: 0.9740658590684184\n",
      "Precision \t: 0.2521197668256492\n",
      "ROC-AUC \t: 0.7843544863344389\n",
      "Accuracy \t: 0.6413232855433574\n",
      "\n"
     ]
    },
    {
     "data": {
      "image/png": "[encoded data removed]",
      "text/plain": [
       "<Figure size 504x360 with 2 Axes>"
      ]
     },
     "metadata": {
      "needs_background": "light"
     },
     "output_type": "display_data"
    },
    {
     "name": "stdout",
     "output_type": "stream",
     "text": [
      "F1-Score \t: 0.0\n",
      "Recall \t\t: 0.0\n",
      "Precision \t: 0.0\n",
      "ROC-AUC \t: 0.49996409593565994\n",
      "Accuracy \t: 0.8769075757257709\n",
      "\n"
     ]
    },
    {
     "data": {
      "image/png": "[encoded data removed]",
      "text/plain": [
       "<Figure size 504x360 with 2 Axes>"
      ]
     },
     "metadata": {
      "needs_background": "light"
     },
     "output_type": "display_data"
    },
    {
     "name": "stdout",
     "output_type": "stream",
     "text": [
      "F1-Score \t: 0.14203296703296703\n",
      "Recall \t\t: 0.0882102030370244\n",
      "Precision \t: 0.3643410852713178\n",
      "ROC-AUC \t: 0.5333099461735938\n",
      "Accuracy \t: 0.8688889355360104\n",
      "\n"
     ]
    }
   ],
   "source": [
    "x_test = df_test.drop(\"Tertarik\", axis=1)\n",
    "y_test = df_test[\"Tertarik\"]\n",
    "\n",
    "metrics_report_test = []\n",
    "\n",
    "for models, i in zip(classifier, name):\n",
    "    title, f1, recall, precision, roc, accuracy = report(models, i, x_test, y_test)\n",
    "    metrics_report_test.append([title, f1, recall, precision, roc, accuracy])"
   ]
  },
  {
   "cell_type": "code",
   "execution_count": 16,
   "metadata": {},
   "outputs": [
    {
     "data": {
      "text/html": [
       "<div>\n",
       "<style scoped>\n",
       "    .dataframe tbody tr th:only-of-type {\n",
       "        vertical-align: middle;\n",
       "    }\n",
       "\n",
       "    .dataframe tbody tr th {\n",
       "        vertical-align: top;\n",
       "    }\n",
       "\n",
       "    .dataframe thead th {\n",
       "        text-align: right;\n",
       "    }\n",
       "</style>\n",
       "<table border=\"1\" class=\"dataframe\">\n",
       "  <thead>\n",
       "    <tr style=\"text-align: right;\">\n",
       "      <th></th>\n",
       "      <th>Model</th>\n",
       "      <th>F1-Score</th>\n",
       "      <th>Recall</th>\n",
       "      <th>Precision</th>\n",
       "      <th>ROC-AUC</th>\n",
       "      <th>Accuracy</th>\n",
       "    </tr>\n",
       "  </thead>\n",
       "  <tbody>\n",
       "    <tr>\n",
       "      <th>2</th>\n",
       "      <td>Naive Bayes</td>\n",
       "      <td>0.400561</td>\n",
       "      <td>0.974066</td>\n",
       "      <td>0.252120</td>\n",
       "      <td>0.784354</td>\n",
       "      <td>0.641323</td>\n",
       "    </tr>\n",
       "    <tr>\n",
       "      <th>1</th>\n",
       "      <td>SGDClassifier</td>\n",
       "      <td>0.399720</td>\n",
       "      <td>0.975431</td>\n",
       "      <td>0.251363</td>\n",
       "      <td>0.783936</td>\n",
       "      <td>0.639560</td>\n",
       "    </tr>\n",
       "    <tr>\n",
       "      <th>0</th>\n",
       "      <td>Decision Tree</td>\n",
       "      <td>0.285364</td>\n",
       "      <td>0.277939</td>\n",
       "      <td>0.293197</td>\n",
       "      <td>0.591971</td>\n",
       "      <td>0.828733</td>\n",
       "    </tr>\n",
       "    <tr>\n",
       "      <th>4</th>\n",
       "      <td>Random Forest</td>\n",
       "      <td>0.142033</td>\n",
       "      <td>0.088210</td>\n",
       "      <td>0.364341</td>\n",
       "      <td>0.533310</td>\n",
       "      <td>0.868889</td>\n",
       "    </tr>\n",
       "    <tr>\n",
       "      <th>3</th>\n",
       "      <td>AdaBoost</td>\n",
       "      <td>0.000000</td>\n",
       "      <td>0.000000</td>\n",
       "      <td>0.000000</td>\n",
       "      <td>0.499964</td>\n",
       "      <td>0.876908</td>\n",
       "    </tr>\n",
       "  </tbody>\n",
       "</table>\n",
       "</div>"
      ],
      "text/plain": [
       "           Model  F1-Score    Recall  Precision   ROC-AUC  Accuracy\n",
       "2    Naive Bayes  0.400561  0.974066   0.252120  0.784354  0.641323\n",
       "1  SGDClassifier  0.399720  0.975431   0.251363  0.783936  0.639560\n",
       "0  Decision Tree  0.285364  0.277939   0.293197  0.591971  0.828733\n",
       "4  Random Forest  0.142033  0.088210   0.364341  0.533310  0.868889\n",
       "3       AdaBoost  0.000000  0.000000   0.000000  0.499964  0.876908"
      ]
     },
     "execution_count": 16,
     "metadata": {},
     "output_type": "execute_result"
    }
   ],
   "source": [
    "metrics_report_test = pd.DataFrame(metrics_report_test, columns=['Model', 'F1-Score', 'Recall', 'Precision', 'ROC-AUC', 'Accuracy'])\n",
    "metrics_report_test.sort_values(by=['ROC-AUC'], ascending=False)"
   ]
  }
 ],
 "metadata": {
  "interpreter": {
   "hash": "2bf746931fd58f1246b6df4740a30aa94cbb7406c646ac7ef817c7ae9c273626"
  },
  "kernelspec": {
   "display_name": "Python 3.9.0 64-bit",
   "name": "python3"
  },
  "language_info": {
   "codemirror_mode": {
    "name": "ipython",
    "version": 3
   },
   "file_extension": ".py",
   "mimetype": "text/x-python",
   "name": "python",
   "nbconvert_exporter": "python",
   "pygments_lexer": "ipython3",
   "version": "3.9.0"
  },
  "orig_nbformat": 4
 },
 "nbformat": 4,
 "nbformat_minor": 2
}
