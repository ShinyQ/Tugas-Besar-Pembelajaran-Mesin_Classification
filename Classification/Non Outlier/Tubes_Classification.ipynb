{
 "cells": [
  {
   "cell_type": "code",
   "execution_count": 6,
   "metadata": {},
   "outputs": [],
   "source": [
    "import matplotlib.pyplot as plt\n",
    "import pandas as pd\n",
    "import seaborn as sns\n",
    "import warnings\n",
    "\n",
    "from sklearn.metrics import confusion_matrix, accuracy_score, f1_score, roc_auc_score, recall_score, precision_score\n",
    "from sklearn.model_selection import train_test_split\n",
    "\n",
    "from sklearn.linear_model import SGDClassifier\n",
    "from sklearn.naive_bayes import GaussianNB\n",
    "from sklearn.tree import DecisionTreeClassifier\n",
    "from sklearn.ensemble import RandomForestClassifier, AdaBoostClassifier\n",
    "\n",
    "warnings.filterwarnings('ignore')"
   ]
  },
  {
   "cell_type": "code",
   "execution_count": 7,
   "metadata": {},
   "outputs": [
    {
     "data": {
      "text/html": [
       "<div>\n",
       "<style scoped>\n",
       "    .dataframe tbody tr th:only-of-type {\n",
       "        vertical-align: middle;\n",
       "    }\n",
       "\n",
       "    .dataframe tbody tr th {\n",
       "        vertical-align: top;\n",
       "    }\n",
       "\n",
       "    .dataframe thead th {\n",
       "        text-align: right;\n",
       "    }\n",
       "</style>\n",
       "<table border=\"1\" class=\"dataframe\">\n",
       "  <thead>\n",
       "    <tr style=\"text-align: right;\">\n",
       "      <th></th>\n",
       "      <th>Jenis_Kelamin</th>\n",
       "      <th>Umur</th>\n",
       "      <th>SIM</th>\n",
       "      <th>Kode_Daerah</th>\n",
       "      <th>Sudah_Asuransi</th>\n",
       "      <th>Umur_Kendaraan</th>\n",
       "      <th>Kendaraan_Rusak</th>\n",
       "      <th>Premi</th>\n",
       "      <th>Kanal_Penjualan</th>\n",
       "      <th>Lama_Berlangganan</th>\n",
       "      <th>Tertarik</th>\n",
       "    </tr>\n",
       "  </thead>\n",
       "  <tbody>\n",
       "    <tr>\n",
       "      <th>54591</th>\n",
       "      <td>1.0</td>\n",
       "      <td>0.107692</td>\n",
       "      <td>1.0</td>\n",
       "      <td>0.346154</td>\n",
       "      <td>1.0</td>\n",
       "      <td>0.0</td>\n",
       "      <td>0.0</td>\n",
       "      <td>0.442084</td>\n",
       "      <td>0.932099</td>\n",
       "      <td>0.401384</td>\n",
       "      <td>0</td>\n",
       "    </tr>\n",
       "    <tr>\n",
       "      <th>134239</th>\n",
       "      <td>1.0</td>\n",
       "      <td>0.061538</td>\n",
       "      <td>1.0</td>\n",
       "      <td>0.538462</td>\n",
       "      <td>0.0</td>\n",
       "      <td>0.0</td>\n",
       "      <td>1.0</td>\n",
       "      <td>0.505940</td>\n",
       "      <td>0.932099</td>\n",
       "      <td>0.442907</td>\n",
       "      <td>0</td>\n",
       "    </tr>\n",
       "    <tr>\n",
       "      <th>95655</th>\n",
       "      <td>1.0</td>\n",
       "      <td>0.061538</td>\n",
       "      <td>1.0</td>\n",
       "      <td>0.269231</td>\n",
       "      <td>1.0</td>\n",
       "      <td>1.0</td>\n",
       "      <td>0.0</td>\n",
       "      <td>0.330859</td>\n",
       "      <td>0.932099</td>\n",
       "      <td>0.529412</td>\n",
       "      <td>0</td>\n",
       "    </tr>\n",
       "    <tr>\n",
       "      <th>228279</th>\n",
       "      <td>1.0</td>\n",
       "      <td>0.000000</td>\n",
       "      <td>1.0</td>\n",
       "      <td>0.288462</td>\n",
       "      <td>0.0</td>\n",
       "      <td>0.0</td>\n",
       "      <td>0.0</td>\n",
       "      <td>0.407527</td>\n",
       "      <td>0.981481</td>\n",
       "      <td>0.363322</td>\n",
       "      <td>0</td>\n",
       "    </tr>\n",
       "    <tr>\n",
       "      <th>170025</th>\n",
       "      <td>0.0</td>\n",
       "      <td>0.215385</td>\n",
       "      <td>1.0</td>\n",
       "      <td>0.538462</td>\n",
       "      <td>1.0</td>\n",
       "      <td>1.0</td>\n",
       "      <td>0.0</td>\n",
       "      <td>0.674586</td>\n",
       "      <td>0.759259</td>\n",
       "      <td>0.595156</td>\n",
       "      <td>0</td>\n",
       "    </tr>\n",
       "  </tbody>\n",
       "</table>\n",
       "</div>"
      ],
      "text/plain": [
       "        Jenis_Kelamin      Umur  SIM  Kode_Daerah  Sudah_Asuransi  \\\n",
       "54591             1.0  0.107692  1.0     0.346154             1.0   \n",
       "134239            1.0  0.061538  1.0     0.538462             0.0   \n",
       "95655             1.0  0.061538  1.0     0.269231             1.0   \n",
       "228279            1.0  0.000000  1.0     0.288462             0.0   \n",
       "170025            0.0  0.215385  1.0     0.538462             1.0   \n",
       "\n",
       "        Umur_Kendaraan  Kendaraan_Rusak     Premi  Kanal_Penjualan  \\\n",
       "54591              0.0              0.0  0.442084         0.932099   \n",
       "134239             0.0              1.0  0.505940         0.932099   \n",
       "95655              1.0              0.0  0.330859         0.932099   \n",
       "228279             0.0              0.0  0.407527         0.981481   \n",
       "170025             1.0              0.0  0.674586         0.759259   \n",
       "\n",
       "        Lama_Berlangganan  Tertarik  \n",
       "54591            0.401384         0  \n",
       "134239           0.442907         0  \n",
       "95655            0.529412         0  \n",
       "228279           0.363322         0  \n",
       "170025           0.595156         0  "
      ]
     },
     "execution_count": 7,
     "metadata": {},
     "output_type": "execute_result"
    }
   ],
   "source": [
    "df = pd.read_csv('../../Dataset/Non_Outlier/kendaraan_train_clean.csv')\n",
    "df.sample(5)"
   ]
  },
  {
   "cell_type": "code",
   "execution_count": 8,
   "metadata": {},
   "outputs": [
    {
     "data": {
      "text/html": [
       "<div>\n",
       "<style scoped>\n",
       "    .dataframe tbody tr th:only-of-type {\n",
       "        vertical-align: middle;\n",
       "    }\n",
       "\n",
       "    .dataframe tbody tr th {\n",
       "        vertical-align: top;\n",
       "    }\n",
       "\n",
       "    .dataframe thead th {\n",
       "        text-align: right;\n",
       "    }\n",
       "</style>\n",
       "<table border=\"1\" class=\"dataframe\">\n",
       "  <thead>\n",
       "    <tr style=\"text-align: right;\">\n",
       "      <th></th>\n",
       "      <th>Jenis_Kelamin</th>\n",
       "      <th>Umur</th>\n",
       "      <th>SIM</th>\n",
       "      <th>Kode_Daerah</th>\n",
       "      <th>Sudah_Asuransi</th>\n",
       "      <th>Umur_Kendaraan</th>\n",
       "      <th>Kendaraan_Rusak</th>\n",
       "      <th>Premi</th>\n",
       "      <th>Kanal_Penjualan</th>\n",
       "      <th>Lama_Berlangganan</th>\n",
       "      <th>Tertarik</th>\n",
       "    </tr>\n",
       "  </thead>\n",
       "  <tbody>\n",
       "    <tr>\n",
       "      <th>26497</th>\n",
       "      <td>0</td>\n",
       "      <td>0.353846</td>\n",
       "      <td>1</td>\n",
       "      <td>0.538462</td>\n",
       "      <td>0</td>\n",
       "      <td>1</td>\n",
       "      <td>1</td>\n",
       "      <td>0.147564</td>\n",
       "      <td>0.154321</td>\n",
       "      <td>0.972318</td>\n",
       "      <td>0</td>\n",
       "    </tr>\n",
       "    <tr>\n",
       "      <th>25987</th>\n",
       "      <td>1</td>\n",
       "      <td>0.153846</td>\n",
       "      <td>1</td>\n",
       "      <td>0.788462</td>\n",
       "      <td>1</td>\n",
       "      <td>0</td>\n",
       "      <td>0</td>\n",
       "      <td>0.053249</td>\n",
       "      <td>0.932099</td>\n",
       "      <td>0.871972</td>\n",
       "      <td>0</td>\n",
       "    </tr>\n",
       "    <tr>\n",
       "      <th>21170</th>\n",
       "      <td>1</td>\n",
       "      <td>0.076923</td>\n",
       "      <td>1</td>\n",
       "      <td>0.038462</td>\n",
       "      <td>0</td>\n",
       "      <td>0</td>\n",
       "      <td>1</td>\n",
       "      <td>0.052397</td>\n",
       "      <td>0.932099</td>\n",
       "      <td>0.505190</td>\n",
       "      <td>0</td>\n",
       "    </tr>\n",
       "    <tr>\n",
       "      <th>43143</th>\n",
       "      <td>1</td>\n",
       "      <td>0.800000</td>\n",
       "      <td>1</td>\n",
       "      <td>0.346154</td>\n",
       "      <td>0</td>\n",
       "      <td>1</td>\n",
       "      <td>1</td>\n",
       "      <td>0.076425</td>\n",
       "      <td>0.802469</td>\n",
       "      <td>0.048443</td>\n",
       "      <td>0</td>\n",
       "    </tr>\n",
       "    <tr>\n",
       "      <th>29595</th>\n",
       "      <td>0</td>\n",
       "      <td>0.646154</td>\n",
       "      <td>1</td>\n",
       "      <td>0.538462</td>\n",
       "      <td>0</td>\n",
       "      <td>1</td>\n",
       "      <td>1</td>\n",
       "      <td>0.072148</td>\n",
       "      <td>0.154321</td>\n",
       "      <td>0.906574</td>\n",
       "      <td>0</td>\n",
       "    </tr>\n",
       "  </tbody>\n",
       "</table>\n",
       "</div>"
      ],
      "text/plain": [
       "       Jenis_Kelamin      Umur  SIM  Kode_Daerah  Sudah_Asuransi  \\\n",
       "26497              0  0.353846    1     0.538462               0   \n",
       "25987              1  0.153846    1     0.788462               1   \n",
       "21170              1  0.076923    1     0.038462               0   \n",
       "43143              1  0.800000    1     0.346154               0   \n",
       "29595              0  0.646154    1     0.538462               0   \n",
       "\n",
       "       Umur_Kendaraan  Kendaraan_Rusak     Premi  Kanal_Penjualan  \\\n",
       "26497               1                1  0.147564         0.154321   \n",
       "25987               0                0  0.053249         0.932099   \n",
       "21170               0                1  0.052397         0.932099   \n",
       "43143               1                1  0.076425         0.802469   \n",
       "29595               1                1  0.072148         0.154321   \n",
       "\n",
       "       Lama_Berlangganan  Tertarik  \n",
       "26497           0.972318         0  \n",
       "25987           0.871972         0  \n",
       "21170           0.505190         0  \n",
       "43143           0.048443         0  \n",
       "29595           0.906574         0  "
      ]
     },
     "execution_count": 8,
     "metadata": {},
     "output_type": "execute_result"
    }
   ],
   "source": [
    "df_test = pd.read_csv('../../Dataset/kendaraan_test_clean.csv')\n",
    "df_test.sample(5)"
   ]
  },
  {
   "cell_type": "code",
   "execution_count": 9,
   "metadata": {},
   "outputs": [
    {
     "name": "stdout",
     "output_type": "stream",
     "text": [
      "0    202945\n",
      "1     27686\n",
      "Name: Tertarik, dtype: int64\n"
     ]
    },
    {
     "data": {
      "text/plain": [
       "<seaborn.axisgrid.FacetGrid at 0x1a3d32a3310>"
      ]
     },
     "execution_count": 9,
     "metadata": {},
     "output_type": "execute_result"
    },
    {
     "data": {
      "image/png": "[encoded data removed]",
      "text/plain": [
       "<Figure size 360x360 with 1 Axes>"
      ]
     },
     "metadata": {
      "needs_background": "light"
     },
     "output_type": "display_data"
    }
   ],
   "source": [
    "print(df['Tertarik'].value_counts())\n",
    "sns.catplot(x='Tertarik', data=df, kind='count')"
   ]
  },
  {
   "cell_type": "code",
   "execution_count": 10,
   "metadata": {},
   "outputs": [],
   "source": [
    "x_data = df.drop(\"Tertarik\", axis=1)\n",
    "y_data = df[\"Tertarik\"]"
   ]
  },
  {
   "cell_type": "code",
   "execution_count": 11,
   "metadata": {},
   "outputs": [
    {
     "name": "stdout",
     "output_type": "stream",
     "text": [
      "x_train shape: (184504, 10)\n",
      "x_test shape: (46127, 10)\n",
      "---------------------------------\n",
      "y_train shape: (184504,)\n",
      "y_test shape: (46127,)\n"
     ]
    }
   ],
   "source": [
    "x_train, x_val, y_train, y_val = train_test_split(x_data, y_data, test_size=0.2)\n",
    "\n",
    "print(f'x_train shape: {x_train.shape}')\n",
    "print(f'x_test shape: {x_val.shape}')\n",
    "print('---------------------------------')\n",
    "print(f'y_train shape: {y_train.shape}')\n",
    "print(f'y_test shape: {y_val.shape}')\n"
   ]
  },
  {
   "cell_type": "markdown",
   "metadata": {},
   "source": [
    "## **Tuning Model**"
   ]
  },
  {
   "cell_type": "code",
   "execution_count": 12,
   "metadata": {},
   "outputs": [],
   "source": [
    "classifier = [\n",
    "    DecisionTreeClassifier(class_weight='balanced'),\n",
    "    SGDClassifier(class_weight='balanced'),\n",
    "    GaussianNB(),\n",
    "    AdaBoostClassifier(),\n",
    "    RandomForestClassifier(class_weight='balanced'),\n",
    "]\n",
    "\n",
    "name = [\n",
    "    'Decision Tree',\n",
    "    'SGDClassifier',\n",
    "    'Naive Bayes',\n",
    "    'AdaBoost',\n",
    "    'Random Forest',\n",
    "]"
   ]
  },
  {
   "cell_type": "markdown",
   "metadata": {},
   "source": [
    "### **Melatih Model Machine Learning**"
   ]
  },
  {
   "cell_type": "code",
   "execution_count": 13,
   "metadata": {},
   "outputs": [],
   "source": [
    "for models, i in zip(classifier, name):\n",
    "    models.fit(x_train, y_train)"
   ]
  },
  {
   "cell_type": "code",
   "execution_count": 14,
   "metadata": {},
   "outputs": [],
   "source": [
    "def report(model, title, x_test, y_test):\n",
    "    result = model.predict(x_test)\n",
    "\n",
    "    conf_matrix = confusion_matrix(y_test, result)\n",
    "    plt.figure(figsize=(7, 5))\n",
    "    sns.heatmap(conf_matrix, annot=True, xticklabels=[0, 1], yticklabels=[0, 1], cmap='flare', fmt='d')\n",
    "    \n",
    "    plt.ylabel('Actual')\n",
    "    plt.xlabel('Predicted')\n",
    "    plt.title(f'Confusion matrix {title}', pad=16)\n",
    "    plt.show()\n",
    "\n",
    "    f1 = f1_score(y_test, result)\n",
    "    recall = recall_score(y_test, result)\n",
    "    precision = precision_score(y_test, result)\n",
    "    roc = roc_auc_score(y_test, result)\n",
    "    accuracy = accuracy_score(y_test, result)\n",
    "\n",
    "    print(\"F1-Score \\t:\", f1)\n",
    "    print(\"Recall \\t\\t:\", recall)\n",
    "    print(\"Precision \\t:\", precision)\n",
    "    print(\"ROC-AUC \\t:\", roc)\n",
    "    print(\"Accuracy \\t:\", accuracy, end=\"\\n\\n\")\n",
    "\n",
    "    return title, f1, recall, precision, roc, accuracy\n"
   ]
  },
  {
   "cell_type": "code",
   "execution_count": 15,
   "metadata": {},
   "outputs": [
    {
     "data": {
      "image/png": "[encoded data removed]",
      "text/plain": [
       "<Figure size 504x360 with 2 Axes>"
      ]
     },
     "metadata": {
      "needs_background": "light"
     },
     "output_type": "display_data"
    },
    {
     "name": "stdout",
     "output_type": "stream",
     "text": [
      "F1-Score \t: 0.2818190307218228\n",
      "Recall \t\t: 0.2721861471861472\n",
      "Precision \t: 0.2921587608906099\n",
      "ROC-AUC \t: 0.5910495824761035\n",
      "Accuracy \t: 0.8332646822901988\n",
      "\n"
     ]
    },
    {
     "data": {
      "image/png": "[encoded data removed]",
      "text/plain": [
       "<Figure size 504x360 with 2 Axes>"
      ]
     },
     "metadata": {
      "needs_background": "light"
     },
     "output_type": "display_data"
    },
    {
     "name": "stdout",
     "output_type": "stream",
     "text": [
      "F1-Score \t: 0.4036751630112626\n",
      "Recall \t\t: 0.9826839826839827\n",
      "Precision \t: 0.25400969787392763\n",
      "ROC-AUC \t: 0.794215115556564\n",
      "Accuracy \t: 0.6510503609599584\n",
      "\n"
     ]
    },
    {
     "data": {
      "image/png": "[encoded data removed]",
      "text/plain": [
       "<Figure size 504x360 with 2 Axes>"
      ]
     },
     "metadata": {
      "needs_background": "light"
     },
     "output_type": "display_data"
    },
    {
     "name": "stdout",
     "output_type": "stream",
     "text": [
      "F1-Score \t: 0.40663744990073786\n",
      "Recall \t\t: 0.9790764790764791\n",
      "Precision \t: 0.2566066279014797\n",
      "ROC-AUC \t: 0.7957994819303742\n",
      "Accuracy \t: 0.6565785765386867\n",
      "\n"
     ]
    },
    {
     "data": {
      "image/png": "[encoded data removed]",
      "text/plain": [
       "<Figure size 504x360 with 2 Axes>"
      ]
     },
     "metadata": {
      "needs_background": "light"
     },
     "output_type": "display_data"
    },
    {
     "name": "stdout",
     "output_type": "stream",
     "text": [
      "F1-Score \t: 0.000360555255092843\n",
      "Recall \t\t: 0.00018037518037518038\n",
      "Precision \t: 0.3333333333333333\n",
      "ROC-AUC \t: 0.5000655467307145\n",
      "Accuracy \t: 0.8797884102586337\n",
      "\n"
     ]
    },
    {
     "data": {
      "image/png": "[encoded data removed]",
      "text/plain": [
       "<Figure size 504x360 with 2 Axes>"
      ]
     },
     "metadata": {
      "needs_background": "light"
     },
     "output_type": "display_data"
    },
    {
     "name": "stdout",
     "output_type": "stream",
     "text": [
      "F1-Score \t: 0.15454674825672407\n",
      "Recall \t\t: 0.09794372294372294\n",
      "Precision \t: 0.366149696561025\n",
      "ROC-AUC \t: 0.5373906575194676\n",
      "Accuracy \t: 0.8712034166540205\n",
      "\n"
     ]
    }
   ],
   "source": [
    "metrics_report = []\n",
    "\n",
    "for models, i in zip(classifier, name):\n",
    "    title, f1, recall, precision, roc, accuracy = report(models, i, x_val, y_val)\n",
    "    metrics_report.append([title, f1, recall, precision, roc, accuracy])"
   ]
  },
  {
   "cell_type": "code",
   "execution_count": 16,
   "metadata": {},
   "outputs": [
    {
     "data": {
      "text/html": [
       "<div>\n",
       "<style scoped>\n",
       "    .dataframe tbody tr th:only-of-type {\n",
       "        vertical-align: middle;\n",
       "    }\n",
       "\n",
       "    .dataframe tbody tr th {\n",
       "        vertical-align: top;\n",
       "    }\n",
       "\n",
       "    .dataframe thead th {\n",
       "        text-align: right;\n",
       "    }\n",
       "</style>\n",
       "<table border=\"1\" class=\"dataframe\">\n",
       "  <thead>\n",
       "    <tr style=\"text-align: right;\">\n",
       "      <th></th>\n",
       "      <th>Model</th>\n",
       "      <th>F1-Score</th>\n",
       "      <th>Recall</th>\n",
       "      <th>Precision</th>\n",
       "      <th>ROC-AUC</th>\n",
       "      <th>Accuracy</th>\n",
       "    </tr>\n",
       "  </thead>\n",
       "  <tbody>\n",
       "    <tr>\n",
       "      <th>2</th>\n",
       "      <td>Naive Bayes</td>\n",
       "      <td>0.406637</td>\n",
       "      <td>0.979076</td>\n",
       "      <td>0.256607</td>\n",
       "      <td>0.795799</td>\n",
       "      <td>0.656579</td>\n",
       "    </tr>\n",
       "    <tr>\n",
       "      <th>1</th>\n",
       "      <td>SGDClassifier</td>\n",
       "      <td>0.403675</td>\n",
       "      <td>0.982684</td>\n",
       "      <td>0.254010</td>\n",
       "      <td>0.794215</td>\n",
       "      <td>0.651050</td>\n",
       "    </tr>\n",
       "    <tr>\n",
       "      <th>0</th>\n",
       "      <td>Decision Tree</td>\n",
       "      <td>0.281819</td>\n",
       "      <td>0.272186</td>\n",
       "      <td>0.292159</td>\n",
       "      <td>0.591050</td>\n",
       "      <td>0.833265</td>\n",
       "    </tr>\n",
       "    <tr>\n",
       "      <th>4</th>\n",
       "      <td>Random Forest</td>\n",
       "      <td>0.154547</td>\n",
       "      <td>0.097944</td>\n",
       "      <td>0.366150</td>\n",
       "      <td>0.537391</td>\n",
       "      <td>0.871203</td>\n",
       "    </tr>\n",
       "    <tr>\n",
       "      <th>3</th>\n",
       "      <td>AdaBoost</td>\n",
       "      <td>0.000361</td>\n",
       "      <td>0.000180</td>\n",
       "      <td>0.333333</td>\n",
       "      <td>0.500066</td>\n",
       "      <td>0.879788</td>\n",
       "    </tr>\n",
       "  </tbody>\n",
       "</table>\n",
       "</div>"
      ],
      "text/plain": [
       "           Model  F1-Score    Recall  Precision   ROC-AUC  Accuracy\n",
       "2    Naive Bayes  0.406637  0.979076   0.256607  0.795799  0.656579\n",
       "1  SGDClassifier  0.403675  0.982684   0.254010  0.794215  0.651050\n",
       "0  Decision Tree  0.281819  0.272186   0.292159  0.591050  0.833265\n",
       "4  Random Forest  0.154547  0.097944   0.366150  0.537391  0.871203\n",
       "3       AdaBoost  0.000361  0.000180   0.333333  0.500066  0.879788"
      ]
     },
     "execution_count": 16,
     "metadata": {},
     "output_type": "execute_result"
    }
   ],
   "source": [
    "metrics_report = pd.DataFrame(metrics_report, columns=['Model', 'F1-Score', 'Recall', 'Precision', 'ROC-AUC', 'Accuracy'])\n",
    "metrics_report.sort_values(by=['ROC-AUC'], ascending=False)"
   ]
  },
  {
   "cell_type": "markdown",
   "metadata": {},
   "source": [
    "## **Memprediksi Dan Evaluasi Data Test**"
   ]
  },
  {
   "cell_type": "code",
   "execution_count": 17,
   "metadata": {},
   "outputs": [
    {
     "data": {
      "image/png": "[encoded data removed]",
      "text/plain": [
       "<Figure size 504x360 with 2 Axes>"
      ]
     },
     "metadata": {
      "needs_background": "light"
     },
     "output_type": "display_data"
    },
    {
     "name": "stdout",
     "output_type": "stream",
     "text": [
      "F1-Score \t: 0.1649058337161231\n",
      "Recall \t\t: 0.12250469203207644\n",
      "Precision \t: 0.2521952932911837\n",
      "ROC-AUC \t: 0.5357724283560258\n",
      "Accuracy \t: 0.8473519595289574\n",
      "\n"
     ]
    },
    {
     "data": {
      "image/png": "[encoded data removed]",
      "text/plain": [
       "<Figure size 504x360 with 2 Axes>"
      ]
     },
     "metadata": {
      "needs_background": "light"
     },
     "output_type": "display_data"
    },
    {
     "name": "stdout",
     "output_type": "stream",
     "text": [
      "F1-Score \t: 0.39972032861387874\n",
      "Recall \t\t: 0.9754308138542911\n",
      "Precision \t: 0.25136299683432994\n",
      "ROC-AUC \t: 0.7839359057542793\n",
      "Accuracy \t: 0.6395600243497974\n",
      "\n"
     ]
    },
    {
     "data": {
      "image/png": "[encoded data removed]",
      "text/plain": [
       "<Figure size 504x360 with 2 Axes>"
      ]
     },
     "metadata": {
      "needs_background": "light"
     },
     "output_type": "display_data"
    },
    {
     "name": "stdout",
     "output_type": "stream",
     "text": [
      "F1-Score \t: 0.409323603093345\n",
      "Recall \t\t: 0.9617812659955639\n",
      "Precision \t: 0.25998524121391015\n",
      "ROC-AUC \t: 0.7888637288855698\n",
      "Accuracy \t: 0.6584940909758811\n",
      "\n"
     ]
    },
    {
     "data": {
      "image/png": "[encoded data removed]",
      "text/plain": [
       "<Figure size 504x360 with 2 Axes>"
      ]
     },
     "metadata": {
      "needs_background": "light"
     },
     "output_type": "display_data"
    },
    {
     "name": "stdout",
     "output_type": "stream",
     "text": [
      "F1-Score \t: 0.0017006802721088435\n",
      "Recall \t\t: 0.0008530967411704487\n",
      "Precision \t: 0.2631578947368421\n",
      "ROC-AUC \t: 0.5002589960703314\n",
      "Accuracy \t: 0.8767816284976595\n",
      "\n"
     ]
    },
    {
     "data": {
      "image/png": "[encoded data removed]",
      "text/plain": [
       "<Figure size 504x360 with 2 Axes>"
      ]
     },
     "metadata": {
      "needs_background": "light"
     },
     "output_type": "display_data"
    },
    {
     "name": "stdout",
     "output_type": "stream",
     "text": [
      "F1-Score \t: 0.00741489720256151\n",
      "Recall \t\t: 0.003753625661149974\n",
      "Precision \t: 0.3013698630136986\n",
      "ROC-AUC \t: 0.5012664437367935\n",
      "Accuracy \t: 0.8763618044039547\n",
      "\n"
     ]
    }
   ],
   "source": [
    "x_test = df_test.drop(\"Tertarik\", axis=1)\n",
    "y_test = df_test[\"Tertarik\"]\n",
    "\n",
    "metrics_report_test = []\n",
    "\n",
    "for models, i in zip(classifier, name):\n",
    "    title, f1, recall, precision, roc, accuracy = report(models, i, x_test, y_test)\n",
    "    metrics_report_test.append([title, f1, recall, precision, roc, accuracy])"
   ]
  },
  {
   "cell_type": "code",
   "execution_count": 18,
   "metadata": {},
   "outputs": [
    {
     "data": {
      "text/html": [
       "<div>\n",
       "<style scoped>\n",
       "    .dataframe tbody tr th:only-of-type {\n",
       "        vertical-align: middle;\n",
       "    }\n",
       "\n",
       "    .dataframe tbody tr th {\n",
       "        vertical-align: top;\n",
       "    }\n",
       "\n",
       "    .dataframe thead th {\n",
       "        text-align: right;\n",
       "    }\n",
       "</style>\n",
       "<table border=\"1\" class=\"dataframe\">\n",
       "  <thead>\n",
       "    <tr style=\"text-align: right;\">\n",
       "      <th></th>\n",
       "      <th>Model</th>\n",
       "      <th>F1-Score</th>\n",
       "      <th>Recall</th>\n",
       "      <th>Precision</th>\n",
       "      <th>ROC-AUC</th>\n",
       "      <th>Accuracy</th>\n",
       "    </tr>\n",
       "  </thead>\n",
       "  <tbody>\n",
       "    <tr>\n",
       "      <th>2</th>\n",
       "      <td>Naive Bayes</td>\n",
       "      <td>0.409324</td>\n",
       "      <td>0.961781</td>\n",
       "      <td>0.259985</td>\n",
       "      <td>0.788864</td>\n",
       "      <td>0.658494</td>\n",
       "    </tr>\n",
       "    <tr>\n",
       "      <th>1</th>\n",
       "      <td>SGDClassifier</td>\n",
       "      <td>0.399720</td>\n",
       "      <td>0.975431</td>\n",
       "      <td>0.251363</td>\n",
       "      <td>0.783936</td>\n",
       "      <td>0.639560</td>\n",
       "    </tr>\n",
       "    <tr>\n",
       "      <th>0</th>\n",
       "      <td>Decision Tree</td>\n",
       "      <td>0.164906</td>\n",
       "      <td>0.122505</td>\n",
       "      <td>0.252195</td>\n",
       "      <td>0.535772</td>\n",
       "      <td>0.847352</td>\n",
       "    </tr>\n",
       "    <tr>\n",
       "      <th>4</th>\n",
       "      <td>Random Forest</td>\n",
       "      <td>0.007415</td>\n",
       "      <td>0.003754</td>\n",
       "      <td>0.301370</td>\n",
       "      <td>0.501266</td>\n",
       "      <td>0.876362</td>\n",
       "    </tr>\n",
       "    <tr>\n",
       "      <th>3</th>\n",
       "      <td>AdaBoost</td>\n",
       "      <td>0.001701</td>\n",
       "      <td>0.000853</td>\n",
       "      <td>0.263158</td>\n",
       "      <td>0.500259</td>\n",
       "      <td>0.876782</td>\n",
       "    </tr>\n",
       "  </tbody>\n",
       "</table>\n",
       "</div>"
      ],
      "text/plain": [
       "           Model  F1-Score    Recall  Precision   ROC-AUC  Accuracy\n",
       "2    Naive Bayes  0.409324  0.961781   0.259985  0.788864  0.658494\n",
       "1  SGDClassifier  0.399720  0.975431   0.251363  0.783936  0.639560\n",
       "0  Decision Tree  0.164906  0.122505   0.252195  0.535772  0.847352\n",
       "4  Random Forest  0.007415  0.003754   0.301370  0.501266  0.876362\n",
       "3       AdaBoost  0.001701  0.000853   0.263158  0.500259  0.876782"
      ]
     },
     "execution_count": 18,
     "metadata": {},
     "output_type": "execute_result"
    }
   ],
   "source": [
    "metrics_report_test = pd.DataFrame(metrics_report_test, columns=['Model', 'F1-Score', 'Recall', 'Precision', 'ROC-AUC', 'Accuracy'])\n",
    "metrics_report_test.sort_values(by=['ROC-AUC'], ascending=False)"
   ]
  }
 ],
 "metadata": {
  "interpreter": {
   "hash": "2bf746931fd58f1246b6df4740a30aa94cbb7406c646ac7ef817c7ae9c273626"
  },
  "kernelspec": {
   "display_name": "Python 3.9.0 64-bit",
   "name": "python3"
  },
  "language_info": {
   "codemirror_mode": {
    "name": "ipython",
    "version": 3
   },
   "file_extension": ".py",
   "mimetype": "text/x-python",
   "name": "python",
   "nbconvert_exporter": "python",
   "pygments_lexer": "ipython3",
   "version": "3.9.0"
  },
  "orig_nbformat": 4
 },
 "nbformat": 4,
 "nbformat_minor": 2
}
