{
 "cells": [
  {
   "cell_type": "code",
   "execution_count": 6,
   "metadata": {},
   "outputs": [],
   "source": [
    "import matplotlib.pyplot as plt\n",
    "import pandas as pd\n",
    "import seaborn as sns\n",
    "import warnings\n",
    "\n",
    "from sklearn.metrics import confusion_matrix, accuracy_score, f1_score, roc_auc_score, recall_score, precision_score\n",
    "from sklearn.model_selection import train_test_split\n",
    "\n",
    "from sklearn.linear_model import SGDClassifier\n",
    "from sklearn.naive_bayes import GaussianNB\n",
    "from sklearn.tree import DecisionTreeClassifier\n",
    "from sklearn.ensemble import RandomForestClassifier, AdaBoostClassifier\n",
    "\n",
    "warnings.filterwarnings('ignore')"
   ]
  },
  {
   "cell_type": "code",
   "execution_count": 7,
   "metadata": {},
   "outputs": [
    {
     "data": {
      "text/html": [
       "<div>\n",
       "<style scoped>\n",
       "    .dataframe tbody tr th:only-of-type {\n",
       "        vertical-align: middle;\n",
       "    }\n",
       "\n",
       "    .dataframe tbody tr th {\n",
       "        vertical-align: top;\n",
       "    }\n",
       "\n",
       "    .dataframe thead th {\n",
       "        text-align: right;\n",
       "    }\n",
       "</style>\n",
       "<table border=\"1\" class=\"dataframe\">\n",
       "  <thead>\n",
       "    <tr style=\"text-align: right;\">\n",
       "      <th></th>\n",
       "      <th>Jenis_Kelamin</th>\n",
       "      <th>Umur</th>\n",
       "      <th>SIM</th>\n",
       "      <th>Kode_Daerah</th>\n",
       "      <th>Sudah_Asuransi</th>\n",
       "      <th>Umur_Kendaraan</th>\n",
       "      <th>Kendaraan_Rusak</th>\n",
       "      <th>Premi</th>\n",
       "      <th>Kanal_Penjualan</th>\n",
       "      <th>Lama_Berlangganan</th>\n",
       "      <th>Tertarik</th>\n",
       "    </tr>\n",
       "  </thead>\n",
       "  <tbody>\n",
       "    <tr>\n",
       "      <th>158207</th>\n",
       "      <td>1.0</td>\n",
       "      <td>0.138462</td>\n",
       "      <td>1.0</td>\n",
       "      <td>0.634615</td>\n",
       "      <td>1.0</td>\n",
       "      <td>0.0</td>\n",
       "      <td>0.0</td>\n",
       "      <td>0.450383</td>\n",
       "      <td>0.932099</td>\n",
       "      <td>0.602076</td>\n",
       "      <td>0</td>\n",
       "    </tr>\n",
       "    <tr>\n",
       "      <th>61272</th>\n",
       "      <td>0.0</td>\n",
       "      <td>0.123077</td>\n",
       "      <td>1.0</td>\n",
       "      <td>0.538462</td>\n",
       "      <td>1.0</td>\n",
       "      <td>0.0</td>\n",
       "      <td>0.0</td>\n",
       "      <td>0.928685</td>\n",
       "      <td>0.932099</td>\n",
       "      <td>0.242215</td>\n",
       "      <td>0</td>\n",
       "    </tr>\n",
       "    <tr>\n",
       "      <th>119141</th>\n",
       "      <td>0.0</td>\n",
       "      <td>0.246154</td>\n",
       "      <td>1.0</td>\n",
       "      <td>0.288462</td>\n",
       "      <td>1.0</td>\n",
       "      <td>1.0</td>\n",
       "      <td>0.0</td>\n",
       "      <td>0.566681</td>\n",
       "      <td>0.932099</td>\n",
       "      <td>0.955017</td>\n",
       "      <td>0</td>\n",
       "    </tr>\n",
       "    <tr>\n",
       "      <th>108043</th>\n",
       "      <td>1.0</td>\n",
       "      <td>0.123077</td>\n",
       "      <td>1.0</td>\n",
       "      <td>0.826923</td>\n",
       "      <td>0.0</td>\n",
       "      <td>0.0</td>\n",
       "      <td>0.0</td>\n",
       "      <td>0.227914</td>\n",
       "      <td>0.932099</td>\n",
       "      <td>0.103806</td>\n",
       "      <td>0</td>\n",
       "    </tr>\n",
       "    <tr>\n",
       "      <th>190209</th>\n",
       "      <td>0.0</td>\n",
       "      <td>0.138462</td>\n",
       "      <td>1.0</td>\n",
       "      <td>0.288462</td>\n",
       "      <td>0.0</td>\n",
       "      <td>0.0</td>\n",
       "      <td>1.0</td>\n",
       "      <td>0.687305</td>\n",
       "      <td>0.932099</td>\n",
       "      <td>0.813149</td>\n",
       "      <td>0</td>\n",
       "    </tr>\n",
       "  </tbody>\n",
       "</table>\n",
       "</div>"
      ],
      "text/plain": [
       "        Jenis_Kelamin      Umur  SIM  Kode_Daerah  Sudah_Asuransi  \\\n",
       "158207            1.0  0.138462  1.0     0.634615             1.0   \n",
       "61272             0.0  0.123077  1.0     0.538462             1.0   \n",
       "119141            0.0  0.246154  1.0     0.288462             1.0   \n",
       "108043            1.0  0.123077  1.0     0.826923             0.0   \n",
       "190209            0.0  0.138462  1.0     0.288462             0.0   \n",
       "\n",
       "        Umur_Kendaraan  Kendaraan_Rusak     Premi  Kanal_Penjualan  \\\n",
       "158207             0.0              0.0  0.450383         0.932099   \n",
       "61272              0.0              0.0  0.928685         0.932099   \n",
       "119141             1.0              0.0  0.566681         0.932099   \n",
       "108043             0.0              0.0  0.227914         0.932099   \n",
       "190209             0.0              1.0  0.687305         0.932099   \n",
       "\n",
       "        Lama_Berlangganan  Tertarik  \n",
       "158207           0.602076         0  \n",
       "61272            0.242215         0  \n",
       "119141           0.955017         0  \n",
       "108043           0.103806         0  \n",
       "190209           0.813149         0  "
      ]
     },
     "execution_count": 7,
     "metadata": {},
     "output_type": "execute_result"
    }
   ],
   "source": [
    "df = pd.read_csv('../../Dataset/Non_Outlier/kendaraan_train_clean.csv')\n",
    "df.sample(5)"
   ]
  },
  {
   "cell_type": "code",
   "execution_count": 8,
   "metadata": {},
   "outputs": [
    {
     "data": {
      "text/html": [
       "<div>\n",
       "<style scoped>\n",
       "    .dataframe tbody tr th:only-of-type {\n",
       "        vertical-align: middle;\n",
       "    }\n",
       "\n",
       "    .dataframe tbody tr th {\n",
       "        vertical-align: top;\n",
       "    }\n",
       "\n",
       "    .dataframe thead th {\n",
       "        text-align: right;\n",
       "    }\n",
       "</style>\n",
       "<table border=\"1\" class=\"dataframe\">\n",
       "  <thead>\n",
       "    <tr style=\"text-align: right;\">\n",
       "      <th></th>\n",
       "      <th>Jenis_Kelamin</th>\n",
       "      <th>Umur</th>\n",
       "      <th>SIM</th>\n",
       "      <th>Kode_Daerah</th>\n",
       "      <th>Sudah_Asuransi</th>\n",
       "      <th>Umur_Kendaraan</th>\n",
       "      <th>Kendaraan_Rusak</th>\n",
       "      <th>Premi</th>\n",
       "      <th>Kanal_Penjualan</th>\n",
       "      <th>Lama_Berlangganan</th>\n",
       "      <th>Tertarik</th>\n",
       "    </tr>\n",
       "  </thead>\n",
       "  <tbody>\n",
       "    <tr>\n",
       "      <th>45471</th>\n",
       "      <td>1</td>\n",
       "      <td>0.507692</td>\n",
       "      <td>1</td>\n",
       "      <td>0.403846</td>\n",
       "      <td>0</td>\n",
       "      <td>1</td>\n",
       "      <td>1</td>\n",
       "      <td>0.061896</td>\n",
       "      <td>0.759259</td>\n",
       "      <td>0.415225</td>\n",
       "      <td>0</td>\n",
       "    </tr>\n",
       "    <tr>\n",
       "      <th>42568</th>\n",
       "      <td>1</td>\n",
       "      <td>0.076923</td>\n",
       "      <td>1</td>\n",
       "      <td>0.557692</td>\n",
       "      <td>1</td>\n",
       "      <td>0</td>\n",
       "      <td>0</td>\n",
       "      <td>0.000000</td>\n",
       "      <td>0.932099</td>\n",
       "      <td>0.100346</td>\n",
       "      <td>0</td>\n",
       "    </tr>\n",
       "    <tr>\n",
       "      <th>10976</th>\n",
       "      <td>1</td>\n",
       "      <td>0.015385</td>\n",
       "      <td>1</td>\n",
       "      <td>0.115385</td>\n",
       "      <td>1</td>\n",
       "      <td>0</td>\n",
       "      <td>0</td>\n",
       "      <td>0.040637</td>\n",
       "      <td>0.932099</td>\n",
       "      <td>0.723183</td>\n",
       "      <td>0</td>\n",
       "    </tr>\n",
       "    <tr>\n",
       "      <th>25847</th>\n",
       "      <td>1</td>\n",
       "      <td>0.246154</td>\n",
       "      <td>1</td>\n",
       "      <td>0.538462</td>\n",
       "      <td>1</td>\n",
       "      <td>1</td>\n",
       "      <td>0</td>\n",
       "      <td>0.092528</td>\n",
       "      <td>0.759259</td>\n",
       "      <td>0.615917</td>\n",
       "      <td>0</td>\n",
       "    </tr>\n",
       "    <tr>\n",
       "      <th>16177</th>\n",
       "      <td>1</td>\n",
       "      <td>0.138462</td>\n",
       "      <td>1</td>\n",
       "      <td>0.057692</td>\n",
       "      <td>1</td>\n",
       "      <td>0</td>\n",
       "      <td>0</td>\n",
       "      <td>0.055639</td>\n",
       "      <td>0.932099</td>\n",
       "      <td>0.121107</td>\n",
       "      <td>0</td>\n",
       "    </tr>\n",
       "  </tbody>\n",
       "</table>\n",
       "</div>"
      ],
      "text/plain": [
       "       Jenis_Kelamin      Umur  SIM  Kode_Daerah  Sudah_Asuransi  \\\n",
       "45471              1  0.507692    1     0.403846               0   \n",
       "42568              1  0.076923    1     0.557692               1   \n",
       "10976              1  0.015385    1     0.115385               1   \n",
       "25847              1  0.246154    1     0.538462               1   \n",
       "16177              1  0.138462    1     0.057692               1   \n",
       "\n",
       "       Umur_Kendaraan  Kendaraan_Rusak     Premi  Kanal_Penjualan  \\\n",
       "45471               1                1  0.061896         0.759259   \n",
       "42568               0                0  0.000000         0.932099   \n",
       "10976               0                0  0.040637         0.932099   \n",
       "25847               1                0  0.092528         0.759259   \n",
       "16177               0                0  0.055639         0.932099   \n",
       "\n",
       "       Lama_Berlangganan  Tertarik  \n",
       "45471           0.415225         0  \n",
       "42568           0.100346         0  \n",
       "10976           0.723183         0  \n",
       "25847           0.615917         0  \n",
       "16177           0.121107         0  "
      ]
     },
     "execution_count": 8,
     "metadata": {},
     "output_type": "execute_result"
    }
   ],
   "source": [
    "df_test = pd.read_csv('../../Dataset/kendaraan_test_clean.csv')\n",
    "df_test.sample(5)"
   ]
  },
  {
   "cell_type": "code",
   "execution_count": 9,
   "metadata": {},
   "outputs": [
    {
     "name": "stdout",
     "output_type": "stream",
     "text": [
      "0    202945\n",
      "1     27686\n",
      "Name: Tertarik, dtype: int64\n"
     ]
    },
    {
     "data": {
      "text/plain": [
       "<seaborn.axisgrid.FacetGrid at 0x14c1c9c8190>"
      ]
     },
     "execution_count": 9,
     "metadata": {},
     "output_type": "execute_result"
    },
    {
     "data": {
      "image/png": "[encoded data removed]",
      "text/plain": [
       "<Figure size 360x360 with 1 Axes>"
      ]
     },
     "metadata": {
      "needs_background": "light"
     },
     "output_type": "display_data"
    }
   ],
   "source": [
    "print(df['Tertarik'].value_counts())\n",
    "sns.catplot(x='Tertarik', data=df, kind='count')"
   ]
  },
  {
   "cell_type": "code",
   "execution_count": 10,
   "metadata": {},
   "outputs": [],
   "source": [
    "x_data = df.drop(\"Tertarik\", axis=1)\n",
    "y_data = df[\"Tertarik\"]"
   ]
  },
  {
   "cell_type": "code",
   "execution_count": 11,
   "metadata": {},
   "outputs": [],
   "source": [
    "from imblearn.over_sampling import SMOTE\n",
    "\n",
    "smt = SMOTE(random_state=42, k_neighbors=5)\n",
    "x_data, y_data = smt.fit_sample(x_data, y_data)"
   ]
  },
  {
   "cell_type": "code",
   "execution_count": 12,
   "metadata": {},
   "outputs": [
    {
     "name": "stdout",
     "output_type": "stream",
     "text": [
      "x_train shape: (324712, 10)\n",
      "x_test shape: (81178, 10)\n",
      "---------------------------------\n",
      "y_train shape: (324712,)\n",
      "y_test shape: (81178,)\n"
     ]
    }
   ],
   "source": [
    "x_train, x_val, y_train, y_val = train_test_split(x_data, y_data, test_size=0.2)\n",
    "\n",
    "print(f'x_train shape: {x_train.shape}')\n",
    "print(f'x_test shape: {x_val.shape}')\n",
    "print('---------------------------------')\n",
    "print(f'y_train shape: {y_train.shape}')\n",
    "print(f'y_test shape: {y_val.shape}')\n"
   ]
  },
  {
   "cell_type": "markdown",
   "metadata": {},
   "source": [
    "## **Tuning Model**"
   ]
  },
  {
   "cell_type": "code",
   "execution_count": 13,
   "metadata": {},
   "outputs": [],
   "source": [
    "classifier = [\n",
    "    DecisionTreeClassifier(class_weight='balanced'),\n",
    "    SGDClassifier(class_weight='balanced'),\n",
    "    GaussianNB(),\n",
    "    AdaBoostClassifier(),\n",
    "    RandomForestClassifier(class_weight='balanced'),\n",
    "]\n",
    "\n",
    "name = [\n",
    "    'Decision Tree',\n",
    "    'SGDClassifier',\n",
    "    'Naive Bayes',\n",
    "    'AdaBoost',\n",
    "    'Random Forest',\n",
    "]"
   ]
  },
  {
   "cell_type": "markdown",
   "metadata": {},
   "source": [
    "### **Melatih Model Machine Learning**"
   ]
  },
  {
   "cell_type": "code",
   "execution_count": 14,
   "metadata": {},
   "outputs": [],
   "source": [
    "for models, i in zip(classifier, name):\n",
    "    models.fit(x_train, y_train)"
   ]
  },
  {
   "cell_type": "code",
   "execution_count": 15,
   "metadata": {},
   "outputs": [],
   "source": [
    "def report(model, title, x_test, y_test):\n",
    "    result = model.predict(x_test)\n",
    "\n",
    "    conf_matrix = confusion_matrix(y_test, result)\n",
    "    plt.figure(figsize=(7, 5))\n",
    "    sns.heatmap(conf_matrix, annot=True, xticklabels=[0, 1], yticklabels=[0, 1], cmap='flare', fmt='d')\n",
    "    \n",
    "    plt.ylabel('Actual')\n",
    "    plt.xlabel('Predicted')\n",
    "    plt.title(f'Confusion matrix {title}', pad=16)\n",
    "    plt.show()\n",
    "\n",
    "    f1 = f1_score(y_test, result)\n",
    "    recall = recall_score(y_test, result)\n",
    "    precision = precision_score(y_test, result)\n",
    "    roc = roc_auc_score(y_test, result)\n",
    "    accuracy = accuracy_score(y_test, result)\n",
    "\n",
    "    print(\"F1-Score \\t:\", f1)\n",
    "    print(\"Recall \\t\\t:\", recall)\n",
    "    print(\"Precision \\t:\", precision)\n",
    "    print(\"ROC-AUC \\t:\", roc)\n",
    "    print(\"Accuracy \\t:\", accuracy, end=\"\\n\\n\")\n",
    "\n",
    "    return title, f1, recall, precision, roc, accuracy"
   ]
  },
  {
   "cell_type": "code",
   "execution_count": 16,
   "metadata": {},
   "outputs": [
    {
     "data": {
      "image/png": "[encoded data removed]",
      "text/plain": [
       "<Figure size 504x360 with 2 Axes>"
      ]
     },
     "metadata": {
      "needs_background": "light"
     },
     "output_type": "display_data"
    },
    {
     "name": "stdout",
     "output_type": "stream",
     "text": [
      "F1-Score \t: 0.8967175693656083\n",
      "Recall \t\t: 0.9059517055965272\n",
      "Precision \t: 0.88766977620958\n",
      "ROC-AUC \t: 0.8957837770015367\n",
      "Accuracy \t: 0.8957722535662371\n",
      "\n"
     ]
    },
    {
     "data": {
      "image/png": "[encoded data removed]",
      "text/plain": [
       "<Figure size 504x360 with 2 Axes>"
      ]
     },
     "metadata": {
      "needs_background": "light"
     },
     "output_type": "display_data"
    },
    {
     "name": "stdout",
     "output_type": "stream",
     "text": [
      "F1-Score \t: 0.8236268571724388\n",
      "Recall \t\t: 0.9810571491996152\n",
      "Precision \t: 0.70973555547625\n",
      "ROC-AUC \t: 0.7903686139747307\n",
      "Accuracy \t: 0.790152504373106\n",
      "\n"
     ]
    },
    {
     "data": {
      "image/png": "[encoded data removed]",
      "text/plain": [
       "<Figure size 504x360 with 2 Axes>"
      ]
     },
     "metadata": {
      "needs_background": "light"
     },
     "output_type": "display_data"
    },
    {
     "name": "stdout",
     "output_type": "stream",
     "text": [
      "F1-Score \t: 0.8236268571724388\n",
      "Recall \t\t: 0.9810571491996152\n",
      "Precision \t: 0.70973555547625\n",
      "ROC-AUC \t: 0.7903686139747307\n",
      "Accuracy \t: 0.790152504373106\n",
      "\n"
     ]
    },
    {
     "data": {
      "image/png": "[encoded data removed]",
      "text/plain": [
       "<Figure size 504x360 with 2 Axes>"
      ]
     },
     "metadata": {
      "needs_background": "light"
     },
     "output_type": "display_data"
    },
    {
     "name": "stdout",
     "output_type": "stream",
     "text": [
      "F1-Score \t: 0.837196081861116\n",
      "Recall \t\t: 0.9444293712848087\n",
      "Precision \t: 0.7518309803844568\n",
      "ROC-AUC \t: 0.8166960440772513\n",
      "Accuracy \t: 0.8165512823671438\n",
      "\n"
     ]
    },
    {
     "data": {
      "image/png": "[encoded data removed]",
      "text/plain": [
       "<Figure size 504x360 with 2 Axes>"
      ]
     },
     "metadata": {
      "needs_background": "light"
     },
     "output_type": "display_data"
    },
    {
     "name": "stdout",
     "output_type": "stream",
     "text": [
      "F1-Score \t: 0.9212912847898775\n",
      "Recall \t\t: 0.9446513578176258\n",
      "Precision \t: 0.8990586633489049\n",
      "ROC-AUC \t: 0.9194156259987599\n",
      "Accuracy \t: 0.9193870260415383\n",
      "\n"
     ]
    }
   ],
   "source": [
    "metrics_report = []\n",
    "\n",
    "for models, i in zip(classifier, name):\n",
    "    title, f1, recall, precision, roc, accuracy = report(models, i, x_val, y_val)\n",
    "    metrics_report.append([title, f1, recall, precision, roc, accuracy])"
   ]
  },
  {
   "cell_type": "code",
   "execution_count": 17,
   "metadata": {},
   "outputs": [
    {
     "data": {
      "text/html": [
       "<div>\n",
       "<style scoped>\n",
       "    .dataframe tbody tr th:only-of-type {\n",
       "        vertical-align: middle;\n",
       "    }\n",
       "\n",
       "    .dataframe tbody tr th {\n",
       "        vertical-align: top;\n",
       "    }\n",
       "\n",
       "    .dataframe thead th {\n",
       "        text-align: right;\n",
       "    }\n",
       "</style>\n",
       "<table border=\"1\" class=\"dataframe\">\n",
       "  <thead>\n",
       "    <tr style=\"text-align: right;\">\n",
       "      <th></th>\n",
       "      <th>Model</th>\n",
       "      <th>F1-Score</th>\n",
       "      <th>Recall</th>\n",
       "      <th>Precision</th>\n",
       "      <th>ROC-AUC</th>\n",
       "      <th>Accuracy</th>\n",
       "    </tr>\n",
       "  </thead>\n",
       "  <tbody>\n",
       "    <tr>\n",
       "      <th>4</th>\n",
       "      <td>Random Forest</td>\n",
       "      <td>0.921291</td>\n",
       "      <td>0.944651</td>\n",
       "      <td>0.899059</td>\n",
       "      <td>0.919416</td>\n",
       "      <td>0.919387</td>\n",
       "    </tr>\n",
       "    <tr>\n",
       "      <th>0</th>\n",
       "      <td>Decision Tree</td>\n",
       "      <td>0.896718</td>\n",
       "      <td>0.905952</td>\n",
       "      <td>0.887670</td>\n",
       "      <td>0.895784</td>\n",
       "      <td>0.895772</td>\n",
       "    </tr>\n",
       "    <tr>\n",
       "      <th>3</th>\n",
       "      <td>AdaBoost</td>\n",
       "      <td>0.837196</td>\n",
       "      <td>0.944429</td>\n",
       "      <td>0.751831</td>\n",
       "      <td>0.816696</td>\n",
       "      <td>0.816551</td>\n",
       "    </tr>\n",
       "    <tr>\n",
       "      <th>1</th>\n",
       "      <td>SGDClassifier</td>\n",
       "      <td>0.823627</td>\n",
       "      <td>0.981057</td>\n",
       "      <td>0.709736</td>\n",
       "      <td>0.790369</td>\n",
       "      <td>0.790153</td>\n",
       "    </tr>\n",
       "    <tr>\n",
       "      <th>2</th>\n",
       "      <td>Naive Bayes</td>\n",
       "      <td>0.823627</td>\n",
       "      <td>0.981057</td>\n",
       "      <td>0.709736</td>\n",
       "      <td>0.790369</td>\n",
       "      <td>0.790153</td>\n",
       "    </tr>\n",
       "  </tbody>\n",
       "</table>\n",
       "</div>"
      ],
      "text/plain": [
       "           Model  F1-Score    Recall  Precision   ROC-AUC  Accuracy\n",
       "4  Random Forest  0.921291  0.944651   0.899059  0.919416  0.919387\n",
       "0  Decision Tree  0.896718  0.905952   0.887670  0.895784  0.895772\n",
       "3       AdaBoost  0.837196  0.944429   0.751831  0.816696  0.816551\n",
       "1  SGDClassifier  0.823627  0.981057   0.709736  0.790369  0.790153\n",
       "2    Naive Bayes  0.823627  0.981057   0.709736  0.790369  0.790153"
      ]
     },
     "execution_count": 17,
     "metadata": {},
     "output_type": "execute_result"
    }
   ],
   "source": [
    "metrics_report = pd.DataFrame(metrics_report, columns=['Model', 'F1-Score', 'Recall', 'Precision', 'ROC-AUC', 'Accuracy'])\n",
    "metrics_report.sort_values(by=['ROC-AUC'], ascending=False)"
   ]
  },
  {
   "cell_type": "markdown",
   "metadata": {},
   "source": [
    "## **Memprediksi Dan Evaluasi Data Test**"
   ]
  },
  {
   "cell_type": "code",
   "execution_count": 18,
   "metadata": {},
   "outputs": [
    {
     "data": {
      "image/png": "[encoded data removed]",
      "text/plain": [
       "<Figure size 504x360 with 2 Axes>"
      ]
     },
     "metadata": {
      "needs_background": "light"
     },
     "output_type": "display_data"
    },
    {
     "name": "stdout",
     "output_type": "stream",
     "text": [
      "F1-Score \t: 0.31036479444122755\n",
      "Recall \t\t: 0.3658078826138884\n",
      "Precision \t: 0.26951602765556254\n",
      "ROC-AUC \t: 0.6133577686802029\n",
      "Accuracy \t: 0.7999958017590629\n",
      "\n"
     ]
    },
    {
     "data": {
      "image/png": "[encoded data removed]",
      "text/plain": [
       "<Figure size 504x360 with 2 Axes>"
      ]
     },
     "metadata": {
      "needs_background": "light"
     },
     "output_type": "display_data"
    },
    {
     "name": "stdout",
     "output_type": "stream",
     "text": [
      "F1-Score \t: 0.39972032861387874\n",
      "Recall \t\t: 0.9754308138542911\n",
      "Precision \t: 0.25136299683432994\n",
      "ROC-AUC \t: 0.7839359057542793\n",
      "Accuracy \t: 0.6395600243497974\n",
      "\n"
     ]
    },
    {
     "data": {
      "image/png": "[encoded data removed]",
      "text/plain": [
       "<Figure size 504x360 with 2 Axes>"
      ]
     },
     "metadata": {
      "needs_background": "light"
     },
     "output_type": "display_data"
    },
    {
     "name": "stdout",
     "output_type": "stream",
     "text": [
      "F1-Score \t: 0.39972032861387874\n",
      "Recall \t\t: 0.9754308138542911\n",
      "Precision \t: 0.25136299683432994\n",
      "ROC-AUC \t: 0.7839359057542793\n",
      "Accuracy \t: 0.6395600243497974\n",
      "\n"
     ]
    },
    {
     "data": {
      "image/png": "[encoded data removed]",
      "text/plain": [
       "<Figure size 504x360 with 2 Axes>"
      ]
     },
     "metadata": {
      "needs_background": "light"
     },
     "output_type": "display_data"
    },
    {
     "name": "stdout",
     "output_type": "stream",
     "text": [
      "F1-Score \t: 0.429337231968811\n",
      "Recall \t\t: 0.9018938747653984\n",
      "Precision \t: 0.28172467089484626\n",
      "ROC-AUC \t: 0.7896539123455983\n",
      "Accuracy \t: 0.7050315917630513\n",
      "\n"
     ]
    },
    {
     "data": {
      "image/png": "[encoded data removed]",
      "text/plain": [
       "<Figure size 504x360 with 2 Axes>"
      ]
     },
     "metadata": {
      "needs_background": "light"
     },
     "output_type": "display_data"
    },
    {
     "name": "stdout",
     "output_type": "stream",
     "text": [
      "F1-Score \t: 0.17884615384615388\n",
      "Recall \t\t: 0.12694079508616277\n",
      "Precision \t: 0.3025620170801139\n",
      "ROC-AUC \t: 0.5429452407620003\n",
      "Accuracy \t: 0.8565880895904616\n",
      "\n"
     ]
    }
   ],
   "source": [
    "x_test = df_test.drop(\"Tertarik\", axis=1)\n",
    "y_test = df_test[\"Tertarik\"]\n",
    "\n",
    "metrics_report_test = []\n",
    "\n",
    "for models, i in zip(classifier, name):\n",
    "    title, f1, recall, precision, roc, accuracy = report(models, i, x_test, y_test)\n",
    "    metrics_report_test.append([title, f1, recall, precision, roc, accuracy])"
   ]
  },
  {
   "cell_type": "code",
   "execution_count": 19,
   "metadata": {},
   "outputs": [
    {
     "data": {
      "text/html": [
       "<div>\n",
       "<style scoped>\n",
       "    .dataframe tbody tr th:only-of-type {\n",
       "        vertical-align: middle;\n",
       "    }\n",
       "\n",
       "    .dataframe tbody tr th {\n",
       "        vertical-align: top;\n",
       "    }\n",
       "\n",
       "    .dataframe thead th {\n",
       "        text-align: right;\n",
       "    }\n",
       "</style>\n",
       "<table border=\"1\" class=\"dataframe\">\n",
       "  <thead>\n",
       "    <tr style=\"text-align: right;\">\n",
       "      <th></th>\n",
       "      <th>Model</th>\n",
       "      <th>F1-Score</th>\n",
       "      <th>Recall</th>\n",
       "      <th>Precision</th>\n",
       "      <th>ROC-AUC</th>\n",
       "      <th>Accuracy</th>\n",
       "    </tr>\n",
       "  </thead>\n",
       "  <tbody>\n",
       "    <tr>\n",
       "      <th>3</th>\n",
       "      <td>AdaBoost</td>\n",
       "      <td>0.429337</td>\n",
       "      <td>0.901894</td>\n",
       "      <td>0.281725</td>\n",
       "      <td>0.789654</td>\n",
       "      <td>0.705032</td>\n",
       "    </tr>\n",
       "    <tr>\n",
       "      <th>1</th>\n",
       "      <td>SGDClassifier</td>\n",
       "      <td>0.399720</td>\n",
       "      <td>0.975431</td>\n",
       "      <td>0.251363</td>\n",
       "      <td>0.783936</td>\n",
       "      <td>0.639560</td>\n",
       "    </tr>\n",
       "    <tr>\n",
       "      <th>2</th>\n",
       "      <td>Naive Bayes</td>\n",
       "      <td>0.399720</td>\n",
       "      <td>0.975431</td>\n",
       "      <td>0.251363</td>\n",
       "      <td>0.783936</td>\n",
       "      <td>0.639560</td>\n",
       "    </tr>\n",
       "    <tr>\n",
       "      <th>0</th>\n",
       "      <td>Decision Tree</td>\n",
       "      <td>0.310365</td>\n",
       "      <td>0.365808</td>\n",
       "      <td>0.269516</td>\n",
       "      <td>0.613358</td>\n",
       "      <td>0.799996</td>\n",
       "    </tr>\n",
       "    <tr>\n",
       "      <th>4</th>\n",
       "      <td>Random Forest</td>\n",
       "      <td>0.178846</td>\n",
       "      <td>0.126941</td>\n",
       "      <td>0.302562</td>\n",
       "      <td>0.542945</td>\n",
       "      <td>0.856588</td>\n",
       "    </tr>\n",
       "  </tbody>\n",
       "</table>\n",
       "</div>"
      ],
      "text/plain": [
       "           Model  F1-Score    Recall  Precision   ROC-AUC  Accuracy\n",
       "3       AdaBoost  0.429337  0.901894   0.281725  0.789654  0.705032\n",
       "1  SGDClassifier  0.399720  0.975431   0.251363  0.783936  0.639560\n",
       "2    Naive Bayes  0.399720  0.975431   0.251363  0.783936  0.639560\n",
       "0  Decision Tree  0.310365  0.365808   0.269516  0.613358  0.799996\n",
       "4  Random Forest  0.178846  0.126941   0.302562  0.542945  0.856588"
      ]
     },
     "execution_count": 19,
     "metadata": {},
     "output_type": "execute_result"
    }
   ],
   "source": [
    "metrics_report_test = pd.DataFrame(metrics_report_test, columns=['Model', 'F1-Score', 'Recall', 'Precision', 'ROC-AUC', 'Accuracy'])\n",
    "metrics_report_test.sort_values(by=['ROC-AUC'], ascending=False)"
   ]
  }
 ],
 "metadata": {
  "interpreter": {
   "hash": "2bf746931fd58f1246b6df4740a30aa94cbb7406c646ac7ef817c7ae9c273626"
  },
  "kernelspec": {
   "display_name": "Python 3.9.0 64-bit",
   "name": "python3"
  },
  "language_info": {
   "codemirror_mode": {
    "name": "ipython",
    "version": 3
   },
   "file_extension": ".py",
   "mimetype": "text/x-python",
   "name": "python",
   "nbconvert_exporter": "python",
   "pygments_lexer": "ipython3",
   "version": "3.9.0"
  },
  "orig_nbformat": 4
 },
 "nbformat": 4,
 "nbformat_minor": 2
}
