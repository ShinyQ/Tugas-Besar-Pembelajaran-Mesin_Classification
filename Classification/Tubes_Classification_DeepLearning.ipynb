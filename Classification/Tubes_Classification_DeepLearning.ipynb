{
  "cells": [
    {
      "cell_type": "code",
      "execution_count": 1,
      "metadata": {},
      "outputs": [],
      "source": [
        "import pandas as pd\n",
        "import seaborn as sns\n",
        "import numpy as np\n",
        "import matplotlib.pyplot as plt\n",
        "\n",
        "from tensorflow import keras\n",
        "from tensorflow.keras.utils import plot_model\n",
        "from keras.callbacks import EarlyStopping\n",
        "from keras.layers import Dense, Dropout\n",
        "from keras.models import Sequential\n",
        "from keras.losses import BinaryCrossentropy\n",
        "from sklearn.metrics import confusion_matrix, f1_score\n",
        "from sklearn.model_selection import train_test_split\n"
      ]
    },
    {
      "cell_type": "code",
      "execution_count": 2,
      "metadata": {
        "colab": {
          "base_uri": "https://localhost:8080/",
          "height": 206
        },
        "id": "hIJin-t8Rvm5",
        "outputId": "05c5dd60-eef5-4f02-e2ba-59bfc7e9adec"
      },
      "outputs": [
        {
          "data": {
            "text/html": [
              "<div>\n",
              "<style scoped>\n",
              "    .dataframe tbody tr th:only-of-type {\n",
              "        vertical-align: middle;\n",
              "    }\n",
              "\n",
              "    .dataframe tbody tr th {\n",
              "        vertical-align: top;\n",
              "    }\n",
              "\n",
              "    .dataframe thead th {\n",
              "        text-align: right;\n",
              "    }\n",
              "</style>\n",
              "<table border=\"1\" class=\"dataframe\">\n",
              "  <thead>\n",
              "    <tr style=\"text-align: right;\">\n",
              "      <th></th>\n",
              "      <th>Jenis_Kelamin</th>\n",
              "      <th>Umur</th>\n",
              "      <th>SIM</th>\n",
              "      <th>Kode_Daerah</th>\n",
              "      <th>Sudah_Asuransi</th>\n",
              "      <th>Umur_Kendaraan</th>\n",
              "      <th>Kendaraan_Rusak</th>\n",
              "      <th>Premi</th>\n",
              "      <th>Kanal_Penjualan</th>\n",
              "      <th>Lama_Berlangganan</th>\n",
              "      <th>Tertarik</th>\n",
              "    </tr>\n",
              "  </thead>\n",
              "  <tbody>\n",
              "    <tr>\n",
              "      <th>0</th>\n",
              "      <td>0.0</td>\n",
              "      <td>0.153846</td>\n",
              "      <td>1.0</td>\n",
              "      <td>0.634615</td>\n",
              "      <td>1.0</td>\n",
              "      <td>0.0</td>\n",
              "      <td>0.0</td>\n",
              "      <td>0.047251</td>\n",
              "      <td>0.932099</td>\n",
              "      <td>0.301038</td>\n",
              "      <td>0</td>\n",
              "    </tr>\n",
              "    <tr>\n",
              "      <th>1</th>\n",
              "      <td>1.0</td>\n",
              "      <td>0.430769</td>\n",
              "      <td>1.0</td>\n",
              "      <td>0.750000</td>\n",
              "      <td>0.0</td>\n",
              "      <td>2.0</td>\n",
              "      <td>1.0</td>\n",
              "      <td>0.043104</td>\n",
              "      <td>0.172840</td>\n",
              "      <td>0.512111</td>\n",
              "      <td>0</td>\n",
              "    </tr>\n",
              "    <tr>\n",
              "      <th>2</th>\n",
              "      <td>1.0</td>\n",
              "      <td>0.015385</td>\n",
              "      <td>1.0</td>\n",
              "      <td>0.884615</td>\n",
              "      <td>1.0</td>\n",
              "      <td>0.0</td>\n",
              "      <td>0.0</td>\n",
              "      <td>0.056002</td>\n",
              "      <td>0.981481</td>\n",
              "      <td>0.377163</td>\n",
              "      <td>0</td>\n",
              "    </tr>\n",
              "    <tr>\n",
              "      <th>3</th>\n",
              "      <td>0.0</td>\n",
              "      <td>0.584615</td>\n",
              "      <td>1.0</td>\n",
              "      <td>0.923077</td>\n",
              "      <td>0.0</td>\n",
              "      <td>1.0</td>\n",
              "      <td>0.0</td>\n",
              "      <td>0.000000</td>\n",
              "      <td>0.759259</td>\n",
              "      <td>0.183391</td>\n",
              "      <td>0</td>\n",
              "    </tr>\n",
              "    <tr>\n",
              "      <th>4</th>\n",
              "      <td>1.0</td>\n",
              "      <td>0.461538</td>\n",
              "      <td>1.0</td>\n",
              "      <td>0.673077</td>\n",
              "      <td>0.0</td>\n",
              "      <td>2.0</td>\n",
              "      <td>1.0</td>\n",
              "      <td>0.059953</td>\n",
              "      <td>0.537037</td>\n",
              "      <td>0.636678</td>\n",
              "      <td>0</td>\n",
              "    </tr>\n",
              "  </tbody>\n",
              "</table>\n",
              "</div>"
            ],
            "text/plain": [
              "   Jenis_Kelamin      Umur  SIM  Kode_Daerah  Sudah_Asuransi  Umur_Kendaraan  \\\n",
              "0            0.0  0.153846  1.0     0.634615             1.0             0.0   \n",
              "1            1.0  0.430769  1.0     0.750000             0.0             2.0   \n",
              "2            1.0  0.015385  1.0     0.884615             1.0             0.0   \n",
              "3            0.0  0.584615  1.0     0.923077             0.0             1.0   \n",
              "4            1.0  0.461538  1.0     0.673077             0.0             2.0   \n",
              "\n",
              "   Kendaraan_Rusak     Premi  Kanal_Penjualan  Lama_Berlangganan  Tertarik  \n",
              "0              0.0  0.047251         0.932099           0.301038         0  \n",
              "1              1.0  0.043104         0.172840           0.512111         0  \n",
              "2              0.0  0.056002         0.981481           0.377163         0  \n",
              "3              0.0  0.000000         0.759259           0.183391         0  \n",
              "4              1.0  0.059953         0.537037           0.636678         0  "
            ]
          },
          "execution_count": 2,
          "metadata": {},
          "output_type": "execute_result"
        }
      ],
      "source": [
        "df_train = pd.read_csv('../Dataset/kendaraan_train_clean.csv')\n",
        "df_train.head()"
      ]
    },
    {
      "cell_type": "code",
      "execution_count": 3,
      "metadata": {
        "colab": {
          "base_uri": "https://localhost:8080/",
          "height": 380
        },
        "id": "QK8EZMiiQs5Q",
        "outputId": "8c933f12-9a3b-44df-dcdf-79765ff4a8be"
      },
      "outputs": [],
      "source": [
        "def transform_data(df):\n",
        "\tX = df.drop('Tertarik', axis=1)\n",
        "\ty = df['Tertarik']\n",
        "\n",
        "\tX_train, X_test, y_train, y_test = train_test_split(X, y, test_size=0.2, random_state=42)\n",
        "\n",
        "\tX_train = np.clip(np.array(X_train), -5, 5)\n",
        "\tX_test = np.clip(np.array(X_test), -5, 5)\n",
        "\ty_train = np.clip(np.array(y_train), -5, 5)\n",
        "\ty_test = np.clip(np.array(y_test), -5, 5)\n",
        "\n",
        "\treturn X_train, X_test, y_train, y_test\n",
        " \n",
        "\n",
        "def define_model(n_input):\n",
        "\tmetrics = [\n",
        "\t\tkeras.metrics.BinaryAccuracy(name='accuracy'),\n",
        "\t\tkeras.metrics.Precision(name='precision'),\n",
        "\t\tkeras.metrics.Recall(name='recall'),\n",
        "\t\tkeras.metrics.AUC(name='auc'),\n",
        "\t\tkeras.metrics.AUC(name='prc', curve='PR'),\n",
        "\t]\n",
        "\n",
        "\tmodel = Sequential()\n",
        "\tmodel.add(Dense(64, activation=\"relu\", input_shape=(n_input,)))\n",
        "\tmodel.add(Dense(32, activation=\"relu\"))\n",
        "\tmodel.add(Dropout(0.5)),\n",
        "\tmodel.add(Dense(1, activation='sigmoid'))\n",
        "\n",
        "\tmodel.compile(\n",
        "\t\toptimizer=keras.optimizers.Adam(learning_rate=1e-3),\n",
        "\t\tloss=BinaryCrossentropy(),\n",
        "\t\tmetrics=metrics\n",
        "\t)\n",
        "\n",
        "\treturn model\n",
        "\n",
        "\n",
        "def calculate_class_weight(df):\n",
        "\ttotal = len(df)\n",
        "\n",
        "\tneg = len(df[df['Tertarik'] == 0])\n",
        "\tpos = len(df[df['Tertarik'] == 1])\n",
        "\n",
        "\tweight_for_0 = (1 / neg) * (total / 2.0)\n",
        "\tweight_for_1 = (1 / pos) * (total / 2.0)\n",
        "\tweights = {0: weight_for_0, 1: weight_for_1}\n",
        "\n",
        "\treturn weights\n",
        "\n",
        "\n",
        "EarlyStop = EarlyStopping(\n",
        "    monitor='auc',\n",
        "    patience=6,\n",
        "    mode='max',\n",
        "    restore_best_weights=True\n",
        ")\n",
        "\n",
        "trainX, trainy, testX, testy = transform_data(df_train)\n"
      ]
    },
    {
      "cell_type": "markdown",
      "metadata": {},
      "source": [
        "### **Melatih Model Deep Learning** "
      ]
    },
    {
      "cell_type": "code",
      "execution_count": 4,
      "metadata": {},
      "outputs": [
        {
          "name": "stdout",
          "output_type": "stream",
          "text": [
            "Epoch 1/100\n",
            "1786/1786 [==============================] - 5s 2ms/step - loss: 0.4608 - accuracy: 0.6519 - precision: 0.2523 - recall: 0.9440 - auc: 0.8220 - prc: 0.2939\n",
            "Epoch 2/100\n",
            "1786/1786 [==============================] - 3s 2ms/step - loss: 0.4471 - accuracy: 0.6675 - precision: 0.2614 - recall: 0.9448 - auc: 0.8308 - prc: 0.3054\n",
            "Epoch 3/100\n",
            "1786/1786 [==============================] - 3s 2ms/step - loss: 0.4445 - accuracy: 0.6749 - precision: 0.2652 - recall: 0.9400 - auc: 0.8344 - prc: 0.3115\n",
            "Epoch 4/100\n",
            "1786/1786 [==============================] - 3s 2ms/step - loss: 0.4439 - accuracy: 0.6764 - precision: 0.2658 - recall: 0.9374 - auc: 0.8358 - prc: 0.3162A: 2s - loss: 0.4456 - accuracy: 0.6739 - precision: 0.26\n",
            "Epoch 5/100\n",
            "1786/1786 [==============================] - 3s 2ms/step - loss: 0.4425 - accuracy: 0.6771 - precision: 0.2661 - recall: 0.9366 - auc: 0.8371 - prc: 0.3191\n",
            "Epoch 6/100\n",
            "1786/1786 [==============================] - 3s 2ms/step - loss: 0.4417 - accuracy: 0.6767 - precision: 0.2659 - recall: 0.9369 - auc: 0.8386 - prc: 0.3233\n",
            "Epoch 7/100\n",
            "1786/1786 [==============================] - 3s 2ms/step - loss: 0.4410 - accuracy: 0.6758 - precision: 0.2656 - recall: 0.9391 - auc: 0.8396 - prc: 0.3244\n",
            "Epoch 8/100\n",
            "1786/1786 [==============================] - 3s 2ms/step - loss: 0.4414 - accuracy: 0.6758 - precision: 0.2654 - recall: 0.9373 - auc: 0.8397 - prc: 0.3257\n",
            "Epoch 9/100\n",
            "1786/1786 [==============================] - 3s 2ms/step - loss: 0.4414 - accuracy: 0.6765 - precision: 0.2660 - recall: 0.9386 - auc: 0.8392 - prc: 0.3241A: 0s - loss: 0.4413 - accuracy: 0.6765 - precision: 0.2659 - recall: 0.9383 - auc: 0.8393 - prc: 0.32\n",
            "Epoch 10/100\n",
            "1786/1786 [==============================] - 3s 2ms/step - loss: 0.4401 - accuracy: 0.6763 - precision: 0.2663 - recall: 0.9413 - auc: 0.8406 - prc: 0.3257\n",
            "Epoch 11/100\n",
            "1786/1786 [==============================] - 4s 2ms/step - loss: 0.4408 - accuracy: 0.6763 - precision: 0.2661 - recall: 0.9401 - auc: 0.8407 - prc: 0.3283\n",
            "Epoch 12/100\n",
            "1786/1786 [==============================] - 4s 2ms/step - loss: 0.4409 - accuracy: 0.6747 - precision: 0.2651 - recall: 0.9401 - auc: 0.8402 - prc: 0.3260\n",
            "Epoch 13/100\n",
            "1786/1786 [==============================] - 4s 2ms/step - loss: 0.4406 - accuracy: 0.6766 - precision: 0.2661 - recall: 0.9384 - auc: 0.8408 - prc: 0.3273\n",
            "Epoch 14/100\n",
            "1786/1786 [==============================] - 4s 2ms/step - loss: 0.4406 - accuracy: 0.6766 - precision: 0.2664 - recall: 0.9412 - auc: 0.8406 - prc: 0.3272\n",
            "Epoch 15/100\n",
            "1786/1786 [==============================] - 4s 2ms/step - loss: 0.4404 - accuracy: 0.6759 - precision: 0.2659 - recall: 0.9406 - auc: 0.8413 - prc: 0.3288\n",
            "Epoch 16/100\n",
            "1786/1786 [==============================] - 4s 2ms/step - loss: 0.4399 - accuracy: 0.6760 - precision: 0.2659 - recall: 0.9399 - auc: 0.8413 - prc: 0.3293\n",
            "Epoch 17/100\n",
            "1786/1786 [==============================] - 3s 2ms/step - loss: 0.4403 - accuracy: 0.6769 - precision: 0.2664 - recall: 0.9393 - auc: 0.8419 - prc: 0.3295A: 0s - loss: 0.4404 - accuracy: 0.6767 - precision: 0.2665 - recall: 0.9396 - auc: 0.8419 - pr\n",
            "Epoch 18/100\n",
            "1786/1786 [==============================] - 4s 2ms/step - loss: 0.4393 - accuracy: 0.6761 - precision: 0.2661 - recall: 0.9406 - auc: 0.8419 - prc: 0.3325\n",
            "Epoch 19/100\n",
            "1786/1786 [==============================] - 3s 2ms/step - loss: 0.4400 - accuracy: 0.6758 - precision: 0.2657 - recall: 0.9393 - auc: 0.8415 - prc: 0.3284\n",
            "Epoch 20/100\n",
            "1786/1786 [==============================] - 3s 2ms/step - loss: 0.4404 - accuracy: 0.6771 - precision: 0.2664 - recall: 0.9390 - auc: 0.8411 - prc: 0.3284\n",
            "Epoch 21/100\n",
            "1786/1786 [==============================] - 3s 2ms/step - loss: 0.4401 - accuracy: 0.6764 - precision: 0.2661 - recall: 0.9394 - auc: 0.8421 - prc: 0.3342\n",
            "Epoch 22/100\n",
            "1786/1786 [==============================] - 3s 2ms/step - loss: 0.4392 - accuracy: 0.6766 - precision: 0.2664 - recall: 0.9411 - auc: 0.8425 - prc: 0.3325\n",
            "Epoch 23/100\n",
            "1786/1786 [==============================] - 3s 2ms/step - loss: 0.4390 - accuracy: 0.6775 - precision: 0.2667 - recall: 0.9390 - auc: 0.8420 - prc: 0.3308\n",
            "Epoch 24/100\n",
            "1786/1786 [==============================] - 3s 2ms/step - loss: 0.4393 - accuracy: 0.6761 - precision: 0.2661 - recall: 0.9407 - auc: 0.8423 - prc: 0.3313\n",
            "Epoch 25/100\n",
            "1786/1786 [==============================] - 3s 2ms/step - loss: 0.4394 - accuracy: 0.6775 - precision: 0.2668 - recall: 0.9396 - auc: 0.8418 - prc: 0.3309\n",
            "Epoch 26/100\n",
            "1786/1786 [==============================] - 3s 2ms/step - loss: 0.4389 - accuracy: 0.6747 - precision: 0.2651 - recall: 0.9402 - auc: 0.8421 - prc: 0.3302A: 2s - loss: 0.4343 - accuracy: 0.6755 - precision: 0\n",
            "Epoch 27/100\n",
            "1786/1786 [==============================] - 3s 2ms/step - loss: 0.4391 - accuracy: 0.6783 - precision: 0.2674 - recall: 0.9402 - auc: 0.8425 - prc: 0.3322A: 0s - loss: 0.4388 - accuracy: 0.6784 - precision: 0.2672 - recall: 0.9401 - auc: 0.8426 - prc: 0.332\n",
            "Epoch 28/100\n",
            "1786/1786 [==============================] - 3s 2ms/step - loss: 0.4383 - accuracy: 0.6780 - precision: 0.2670 - recall: 0.9395 - auc: 0.8432 - prc: 0.3337A: 1s - loss: 0.4373 - accuracy: 0.6800 - precision: 0.2694 - recall: 0.9402 - auc: 0.8436 - - ETA: 1s - loss: 0.4391 - accuracy: 0.6782 - precision: 0.2688 - recall: 0.9399 - auc: 0.8436 - prc:  - ETA: 0s - loss: 0.4382 - accuracy: 0.6790 - precision: 0.2684 - recall: 0.9392 - auc: 0.8\n",
            "Epoch 29/100\n",
            "1786/1786 [==============================] - 3s 2ms/step - loss: 0.4392 - accuracy: 0.6763 - precision: 0.2661 - recall: 0.9400 - auc: 0.8429 - prc: 0.3336A: 0s - loss: 0.4380 - accuracy: 0.6768 - precision: 0.2658 - recall: 0.9399 - auc: \n",
            "Epoch 30/100\n",
            "1786/1786 [==============================] - 3s 2ms/step - loss: 0.4388 - accuracy: 0.6765 - precision: 0.2662 - recall: 0.9398 - auc: 0.8427 - prc: 0.3339A: 1s - loss: 0.4357 - accuracy: 0.6765 - precision: 0.2643 - recall: 0\n",
            "Epoch 31/100\n",
            "1786/1786 [==============================] - 3s 2ms/step - loss: 0.4394 - accuracy: 0.6762 - precision: 0.2662 - recall: 0.9415 - auc: 0.8425 - prc: 0.3319\n",
            "Epoch 32/100\n",
            "1786/1786 [==============================] - 3s 2ms/step - loss: 0.4392 - accuracy: 0.6783 - precision: 0.2671 - recall: 0.9383 - auc: 0.8430 - prc: 0.3348\n",
            "Epoch 33/100\n",
            "1786/1786 [==============================] - 3s 2ms/step - loss: 0.4387 - accuracy: 0.6756 - precision: 0.2658 - recall: 0.9409 - auc: 0.8427 - prc: 0.3331A: 3s - loss: 0.4393 - accuracy: 0.6681 - precisio\n",
            "Epoch 34/100\n",
            "1786/1786 [==============================] - 3s 2ms/step - loss: 0.4391 - accuracy: 0.6762 - precision: 0.2661 - recall: 0.9404 - auc: 0.8427 - prc: 0.3340A: 0s - loss: 0.4394 - accuracy: 0.6762 - precision: 0.2662 - recall: 0.9404 - auc: 0.8426 - prc: 0.334\n"
          ]
        }
      ],
      "source": [
        "model = define_model(trainX.shape[1])\n",
        "\n",
        "history = model.fit(\n",
        "    trainX, testX,\n",
        "    epochs=100,\n",
        "    class_weight=calculate_class_weight(df_train),\n",
        "    verbose=1,\n",
        "    callbacks=EarlyStop,\n",
        "    batch_size=128\n",
        ")\n"
      ]
    },
    {
      "cell_type": "markdown",
      "metadata": {},
      "source": [
        "### **Evaluasi Model**"
      ]
    },
    {
      "cell_type": "code",
      "execution_count": 6,
      "metadata": {},
      "outputs": [],
      "source": [
        "def plot_cm(labels, predictions, p=0.5):\n",
        "    predictions = model.predict(predictions)\n",
        "    cm = confusion_matrix(labels, predictions > p)\n",
        "\n",
        "    plt.figure(figsize=(7, 5))\n",
        "    sns.heatmap(cm, annot=True, xticklabels=[0, 1], yticklabels=[0, 1], cmap='flare', fmt='d')\n",
        "\n",
        "    plt.title('Confusion matrix')\n",
        "    plt.ylabel('Actual label')\n",
        "    plt.xlabel('Predicted label')\n",
        "    plt.show()\n",
        "\n",
        "    return predictions"
      ]
    },
    {
      "cell_type": "code",
      "execution_count": 7,
      "metadata": {},
      "outputs": [
        {
          "name": "stdout",
          "output_type": "stream",
          "text": [
            "1786/1786 [==============================] - 3s 1ms/step - loss: 0.4877 - accuracy: 0.6709 - precision: 0.2687 - recall: 0.9540 - auc: 0.8492 - prc: 0.3529\n"
          ]
        },
        {
          "data": {
            "image/png": "[encoded data removed]",
            "text/plain": [
              "<Figure size 504x360 with 2 Axes>"
            ]
          },
          "metadata": {
            "needs_background": "light"
          },
          "output_type": "display_data"
        },
        {
          "name": "stdout",
          "output_type": "stream",
          "text": [
            "loss :  0.4877283275127411\n",
            "accuracy :  0.6709082126617432\n",
            "precision :  0.2686643898487091\n",
            "recall :  0.9540342688560486\n",
            "auc :  0.8492296934127808\n",
            "prc :  0.3529033660888672\n",
            "f1-score : 0.41926118112181865\n"
          ]
        }
      ],
      "source": [
        "baseline_results = model.evaluate(trainy, testy)\n",
        "predictions = plot_cm(testy, trainy)\n",
        "\n",
        "for name, value in zip(model.metrics_names, baseline_results):\n",
        "  print(name, ': ', value)\n",
        "\n",
        "print('f1-score :', f1_score(testy, predictions > 0.5))"
      ]
    },
    {
      "cell_type": "markdown",
      "metadata": {},
      "source": [
        "### **Prediksi Dan Evaluasi Data Test**"
      ]
    },
    {
      "cell_type": "code",
      "execution_count": 8,
      "metadata": {},
      "outputs": [
        {
          "data": {
            "text/html": [
              "<div>\n",
              "<style scoped>\n",
              "    .dataframe tbody tr th:only-of-type {\n",
              "        vertical-align: middle;\n",
              "    }\n",
              "\n",
              "    .dataframe tbody tr th {\n",
              "        vertical-align: top;\n",
              "    }\n",
              "\n",
              "    .dataframe thead th {\n",
              "        text-align: right;\n",
              "    }\n",
              "</style>\n",
              "<table border=\"1\" class=\"dataframe\">\n",
              "  <thead>\n",
              "    <tr style=\"text-align: right;\">\n",
              "      <th></th>\n",
              "      <th>Jenis_Kelamin</th>\n",
              "      <th>Umur</th>\n",
              "      <th>SIM</th>\n",
              "      <th>Kode_Daerah</th>\n",
              "      <th>Sudah_Asuransi</th>\n",
              "      <th>Umur_Kendaraan</th>\n",
              "      <th>Kendaraan_Rusak</th>\n",
              "      <th>Premi</th>\n",
              "      <th>Kanal_Penjualan</th>\n",
              "      <th>Lama_Berlangganan</th>\n",
              "      <th>Tertarik</th>\n",
              "    </tr>\n",
              "  </thead>\n",
              "  <tbody>\n",
              "    <tr>\n",
              "      <th>0</th>\n",
              "      <td>0</td>\n",
              "      <td>0.446154</td>\n",
              "      <td>1</td>\n",
              "      <td>0.153846</td>\n",
              "      <td>0</td>\n",
              "      <td>1</td>\n",
              "      <td>1</td>\n",
              "      <td>0.082475</td>\n",
              "      <td>0.154321</td>\n",
              "      <td>0.467128</td>\n",
              "      <td>0</td>\n",
              "    </tr>\n",
              "    <tr>\n",
              "      <th>1</th>\n",
              "      <td>1</td>\n",
              "      <td>0.030769</td>\n",
              "      <td>1</td>\n",
              "      <td>0.903846</td>\n",
              "      <td>1</td>\n",
              "      <td>0</td>\n",
              "      <td>0</td>\n",
              "      <td>0.068822</td>\n",
              "      <td>0.932099</td>\n",
              "      <td>0.799308</td>\n",
              "      <td>0</td>\n",
              "    </tr>\n",
              "    <tr>\n",
              "      <th>2</th>\n",
              "      <td>1</td>\n",
              "      <td>0.061538</td>\n",
              "      <td>1</td>\n",
              "      <td>0.538462</td>\n",
              "      <td>1</td>\n",
              "      <td>0</td>\n",
              "      <td>0</td>\n",
              "      <td>0.200636</td>\n",
              "      <td>0.932099</td>\n",
              "      <td>0.179931</td>\n",
              "      <td>0</td>\n",
              "    </tr>\n",
              "    <tr>\n",
              "      <th>3</th>\n",
              "      <td>1</td>\n",
              "      <td>0.400000</td>\n",
              "      <td>1</td>\n",
              "      <td>0.153846</td>\n",
              "      <td>1</td>\n",
              "      <td>1</td>\n",
              "      <td>0</td>\n",
              "      <td>0.062575</td>\n",
              "      <td>0.759259</td>\n",
              "      <td>0.083045</td>\n",
              "      <td>0</td>\n",
              "    </tr>\n",
              "    <tr>\n",
              "      <th>4</th>\n",
              "      <td>1</td>\n",
              "      <td>0.230769</td>\n",
              "      <td>1</td>\n",
              "      <td>0.442308</td>\n",
              "      <td>0</td>\n",
              "      <td>1</td>\n",
              "      <td>1</td>\n",
              "      <td>0.045268</td>\n",
              "      <td>0.932099</td>\n",
              "      <td>0.757785</td>\n",
              "      <td>0</td>\n",
              "    </tr>\n",
              "  </tbody>\n",
              "</table>\n",
              "</div>"
            ],
            "text/plain": [
              "   Jenis_Kelamin      Umur  SIM  Kode_Daerah  Sudah_Asuransi  Umur_Kendaraan  \\\n",
              "0              0  0.446154    1     0.153846               0               1   \n",
              "1              1  0.030769    1     0.903846               1               0   \n",
              "2              1  0.061538    1     0.538462               1               0   \n",
              "3              1  0.400000    1     0.153846               1               1   \n",
              "4              1  0.230769    1     0.442308               0               1   \n",
              "\n",
              "   Kendaraan_Rusak     Premi  Kanal_Penjualan  Lama_Berlangganan  Tertarik  \n",
              "0                1  0.082475         0.154321           0.467128         0  \n",
              "1                0  0.068822         0.932099           0.799308         0  \n",
              "2                0  0.200636         0.932099           0.179931         0  \n",
              "3                0  0.062575         0.759259           0.083045         0  \n",
              "4                1  0.045268         0.932099           0.757785         0  "
            ]
          },
          "execution_count": 8,
          "metadata": {},
          "output_type": "execute_result"
        }
      ],
      "source": [
        "df = pd.read_csv('../Dataset/kendaraan_test_clean.csv')\n",
        "df.head()"
      ]
    },
    {
      "cell_type": "code",
      "execution_count": 9,
      "metadata": {},
      "outputs": [],
      "source": [
        "trainy = df.drop('Tertarik', axis=1)\n",
        "testy = df['Tertarik']"
      ]
    },
    {
      "cell_type": "code",
      "execution_count": 13,
      "metadata": {},
      "outputs": [
        {
          "name": "stdout",
          "output_type": "stream",
          "text": [
            "1489/1489 [==============================] - 2s 2ms/step - loss: 0.4744 - accuracy: 0.6790 - precision: 0.2699 - recall: 0.9442 - auc: 0.8507 - prc: 0.3565\n"
          ]
        },
        {
          "data": {
            "image/png": "[encoded data removed]",
            "text/plain": [
              "<Figure size 504x360 with 2 Axes>"
            ]
          },
          "metadata": {
            "needs_background": "light"
          },
          "output_type": "display_data"
        },
        {
          "name": "stdout",
          "output_type": "stream",
          "text": [
            "loss :  0.47435277700424194\n",
            "accuracy :  0.6789605021476746\n",
            "precision :  0.26993805170059204\n",
            "recall :  0.944207489490509\n",
            "auc :  0.8506543636322021\n",
            "prc :  0.356477826833725\n",
            "f1-score : 0.41984674910856534\n"
          ]
        }
      ],
      "source": [
        "baseline_test_results = model.evaluate(trainy, testy)\n",
        "predictions = plot_cm(testy, trainy)\n",
        "\n",
        "for name, value in zip(model.metrics_names, baseline_test_results):\n",
        "  print(name, ': ', value)\n",
        "\n",
        "print('f1-score :', f1_score(testy, predictions > 0.5))"
      ]
    }
  ],
  "metadata": {
    "colab": {
      "collapsed_sections": [],
      "name": "Untitled12.ipynb",
      "provenance": []
    },
    "kernelspec": {
      "display_name": "Python 3",
      "name": "python3"
    },
    "language_info": {
      "codemirror_mode": {
        "name": "ipython",
        "version": 3
      },
      "file_extension": ".py",
      "mimetype": "text/x-python",
      "name": "python",
      "nbconvert_exporter": "python",
      "pygments_lexer": "ipython3",
      "version": "3.9.0"
    }
  },
  "nbformat": 4,
  "nbformat_minor": 0
}
