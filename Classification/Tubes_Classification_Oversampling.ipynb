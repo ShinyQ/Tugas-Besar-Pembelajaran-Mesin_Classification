{
 "cells": [
  {
   "cell_type": "code",
   "execution_count": 73,
   "metadata": {},
   "outputs": [],
   "source": [
    "import matplotlib.pyplot as plt\n",
    "import pandas as pd\n",
    "import seaborn as sns\n",
    "import warnings\n",
    "\n",
    "from sklearn.metrics import confusion_matrix, accuracy_score, f1_score, roc_auc_score, recall_score, precision_score\n",
    "from sklearn.model_selection import train_test_split\n",
    "\n",
    "from sklearn.linear_model import SGDClassifier\n",
    "from sklearn.naive_bayes import GaussianNB\n",
    "from sklearn.tree import DecisionTreeClassifier\n",
    "from sklearn.ensemble import RandomForestClassifier, AdaBoostClassifier\n",
    "\n",
    "warnings.filterwarnings('ignore')"
   ]
  },
  {
   "cell_type": "code",
   "execution_count": 74,
   "metadata": {},
   "outputs": [
    {
     "data": {
      "text/html": [
       "<div>\n",
       "<style scoped>\n",
       "    .dataframe tbody tr th:only-of-type {\n",
       "        vertical-align: middle;\n",
       "    }\n",
       "\n",
       "    .dataframe tbody tr th {\n",
       "        vertical-align: top;\n",
       "    }\n",
       "\n",
       "    .dataframe thead th {\n",
       "        text-align: right;\n",
       "    }\n",
       "</style>\n",
       "<table border=\"1\" class=\"dataframe\">\n",
       "  <thead>\n",
       "    <tr style=\"text-align: right;\">\n",
       "      <th></th>\n",
       "      <th>Jenis_Kelamin</th>\n",
       "      <th>Umur</th>\n",
       "      <th>SIM</th>\n",
       "      <th>Kode_Daerah</th>\n",
       "      <th>Sudah_Asuransi</th>\n",
       "      <th>Umur_Kendaraan</th>\n",
       "      <th>Kendaraan_Rusak</th>\n",
       "      <th>Premi</th>\n",
       "      <th>Kanal_Penjualan</th>\n",
       "      <th>Lama_Berlangganan</th>\n",
       "      <th>Tertarik</th>\n",
       "    </tr>\n",
       "  </thead>\n",
       "  <tbody>\n",
       "    <tr>\n",
       "      <th>155801</th>\n",
       "      <td>0.0</td>\n",
       "      <td>0.030769</td>\n",
       "      <td>1.0</td>\n",
       "      <td>0.538462</td>\n",
       "      <td>0.0</td>\n",
       "      <td>0.0</td>\n",
       "      <td>1.0</td>\n",
       "      <td>0.094463</td>\n",
       "      <td>0.932099</td>\n",
       "      <td>0.051903</td>\n",
       "      <td>1</td>\n",
       "    </tr>\n",
       "    <tr>\n",
       "      <th>198194</th>\n",
       "      <td>1.0</td>\n",
       "      <td>0.046154</td>\n",
       "      <td>1.0</td>\n",
       "      <td>0.615385</td>\n",
       "      <td>0.0</td>\n",
       "      <td>0.0</td>\n",
       "      <td>0.0</td>\n",
       "      <td>0.031527</td>\n",
       "      <td>0.932099</td>\n",
       "      <td>0.290657</td>\n",
       "      <td>0</td>\n",
       "    </tr>\n",
       "    <tr>\n",
       "      <th>146352</th>\n",
       "      <td>0.0</td>\n",
       "      <td>0.061538</td>\n",
       "      <td>1.0</td>\n",
       "      <td>0.153846</td>\n",
       "      <td>1.0</td>\n",
       "      <td>0.0</td>\n",
       "      <td>0.0</td>\n",
       "      <td>0.052034</td>\n",
       "      <td>0.932099</td>\n",
       "      <td>0.480969</td>\n",
       "      <td>0</td>\n",
       "    </tr>\n",
       "    <tr>\n",
       "      <th>217707</th>\n",
       "      <td>1.0</td>\n",
       "      <td>0.246154</td>\n",
       "      <td>1.0</td>\n",
       "      <td>0.250000</td>\n",
       "      <td>0.0</td>\n",
       "      <td>1.0</td>\n",
       "      <td>0.0</td>\n",
       "      <td>0.021656</td>\n",
       "      <td>0.154321</td>\n",
       "      <td>0.162630</td>\n",
       "      <td>0</td>\n",
       "    </tr>\n",
       "    <tr>\n",
       "      <th>153648</th>\n",
       "      <td>0.0</td>\n",
       "      <td>0.046154</td>\n",
       "      <td>1.0</td>\n",
       "      <td>0.576923</td>\n",
       "      <td>0.0</td>\n",
       "      <td>0.0</td>\n",
       "      <td>0.0</td>\n",
       "      <td>0.000000</td>\n",
       "      <td>0.962963</td>\n",
       "      <td>0.044983</td>\n",
       "      <td>1</td>\n",
       "    </tr>\n",
       "  </tbody>\n",
       "</table>\n",
       "</div>"
      ],
      "text/plain": [
       "        Jenis_Kelamin      Umur  SIM  Kode_Daerah  Sudah_Asuransi  \\\n",
       "155801            0.0  0.030769  1.0     0.538462             0.0   \n",
       "198194            1.0  0.046154  1.0     0.615385             0.0   \n",
       "146352            0.0  0.061538  1.0     0.153846             1.0   \n",
       "217707            1.0  0.246154  1.0     0.250000             0.0   \n",
       "153648            0.0  0.046154  1.0     0.576923             0.0   \n",
       "\n",
       "        Umur_Kendaraan  Kendaraan_Rusak     Premi  Kanal_Penjualan  \\\n",
       "155801             0.0              1.0  0.094463         0.932099   \n",
       "198194             0.0              0.0  0.031527         0.932099   \n",
       "146352             0.0              0.0  0.052034         0.932099   \n",
       "217707             1.0              0.0  0.021656         0.154321   \n",
       "153648             0.0              0.0  0.000000         0.962963   \n",
       "\n",
       "        Lama_Berlangganan  Tertarik  \n",
       "155801           0.051903         1  \n",
       "198194           0.290657         0  \n",
       "146352           0.480969         0  \n",
       "217707           0.162630         0  \n",
       "153648           0.044983         1  "
      ]
     },
     "execution_count": 74,
     "metadata": {},
     "output_type": "execute_result"
    }
   ],
   "source": [
    "df = pd.read_csv('../Dataset/kendaraan_train_clean.csv')\n",
    "df.sample(5)"
   ]
  },
  {
   "cell_type": "code",
   "execution_count": 75,
   "metadata": {},
   "outputs": [
    {
     "data": {
      "text/html": [
       "<div>\n",
       "<style scoped>\n",
       "    .dataframe tbody tr th:only-of-type {\n",
       "        vertical-align: middle;\n",
       "    }\n",
       "\n",
       "    .dataframe tbody tr th {\n",
       "        vertical-align: top;\n",
       "    }\n",
       "\n",
       "    .dataframe thead th {\n",
       "        text-align: right;\n",
       "    }\n",
       "</style>\n",
       "<table border=\"1\" class=\"dataframe\">\n",
       "  <thead>\n",
       "    <tr style=\"text-align: right;\">\n",
       "      <th></th>\n",
       "      <th>Jenis_Kelamin</th>\n",
       "      <th>Umur</th>\n",
       "      <th>SIM</th>\n",
       "      <th>Kode_Daerah</th>\n",
       "      <th>Sudah_Asuransi</th>\n",
       "      <th>Umur_Kendaraan</th>\n",
       "      <th>Kendaraan_Rusak</th>\n",
       "      <th>Premi</th>\n",
       "      <th>Kanal_Penjualan</th>\n",
       "      <th>Lama_Berlangganan</th>\n",
       "      <th>Tertarik</th>\n",
       "    </tr>\n",
       "  </thead>\n",
       "  <tbody>\n",
       "    <tr>\n",
       "      <th>13739</th>\n",
       "      <td>1</td>\n",
       "      <td>0.076923</td>\n",
       "      <td>1</td>\n",
       "      <td>0.961538</td>\n",
       "      <td>1</td>\n",
       "      <td>0</td>\n",
       "      <td>0</td>\n",
       "      <td>0.044870</td>\n",
       "      <td>0.932099</td>\n",
       "      <td>0.550173</td>\n",
       "      <td>0</td>\n",
       "    </tr>\n",
       "    <tr>\n",
       "      <th>18255</th>\n",
       "      <td>1</td>\n",
       "      <td>0.030769</td>\n",
       "      <td>1</td>\n",
       "      <td>0.500000</td>\n",
       "      <td>0</td>\n",
       "      <td>0</td>\n",
       "      <td>1</td>\n",
       "      <td>0.076570</td>\n",
       "      <td>0.932099</td>\n",
       "      <td>0.622837</td>\n",
       "      <td>1</td>\n",
       "    </tr>\n",
       "    <tr>\n",
       "      <th>31003</th>\n",
       "      <td>1</td>\n",
       "      <td>0.246154</td>\n",
       "      <td>1</td>\n",
       "      <td>0.576923</td>\n",
       "      <td>1</td>\n",
       "      <td>1</td>\n",
       "      <td>0</td>\n",
       "      <td>0.066950</td>\n",
       "      <td>0.932099</td>\n",
       "      <td>0.256055</td>\n",
       "      <td>0</td>\n",
       "    </tr>\n",
       "    <tr>\n",
       "      <th>37118</th>\n",
       "      <td>0</td>\n",
       "      <td>0.092308</td>\n",
       "      <td>1</td>\n",
       "      <td>0.788462</td>\n",
       "      <td>1</td>\n",
       "      <td>0</td>\n",
       "      <td>0</td>\n",
       "      <td>0.049614</td>\n",
       "      <td>0.932099</td>\n",
       "      <td>0.688581</td>\n",
       "      <td>0</td>\n",
       "    </tr>\n",
       "    <tr>\n",
       "      <th>5949</th>\n",
       "      <td>1</td>\n",
       "      <td>0.723077</td>\n",
       "      <td>1</td>\n",
       "      <td>0.538462</td>\n",
       "      <td>1</td>\n",
       "      <td>1</td>\n",
       "      <td>0</td>\n",
       "      <td>0.040678</td>\n",
       "      <td>0.154321</td>\n",
       "      <td>0.570934</td>\n",
       "      <td>0</td>\n",
       "    </tr>\n",
       "  </tbody>\n",
       "</table>\n",
       "</div>"
      ],
      "text/plain": [
       "       Jenis_Kelamin      Umur  SIM  Kode_Daerah  Sudah_Asuransi  \\\n",
       "13739              1  0.076923    1     0.961538               1   \n",
       "18255              1  0.030769    1     0.500000               0   \n",
       "31003              1  0.246154    1     0.576923               1   \n",
       "37118              0  0.092308    1     0.788462               1   \n",
       "5949               1  0.723077    1     0.538462               1   \n",
       "\n",
       "       Umur_Kendaraan  Kendaraan_Rusak     Premi  Kanal_Penjualan  \\\n",
       "13739               0                0  0.044870         0.932099   \n",
       "18255               0                1  0.076570         0.932099   \n",
       "31003               1                0  0.066950         0.932099   \n",
       "37118               0                0  0.049614         0.932099   \n",
       "5949                1                0  0.040678         0.154321   \n",
       "\n",
       "       Lama_Berlangganan  Tertarik  \n",
       "13739           0.550173         0  \n",
       "18255           0.622837         1  \n",
       "31003           0.256055         0  \n",
       "37118           0.688581         0  \n",
       "5949            0.570934         0  "
      ]
     },
     "execution_count": 75,
     "metadata": {},
     "output_type": "execute_result"
    }
   ],
   "source": [
    "df_test = pd.read_csv('../Dataset/kendaraan_test_clean.csv')\n",
    "df_test.sample(5)"
   ]
  },
  {
   "cell_type": "code",
   "execution_count": 76,
   "metadata": {},
   "outputs": [
    {
     "name": "stdout",
     "output_type": "stream",
     "text": [
      "0    250661\n",
      "1     35001\n",
      "Name: Tertarik, dtype: int64\n"
     ]
    },
    {
     "data": {
      "text/plain": [
       "<seaborn.axisgrid.FacetGrid at 0x22da0df3b50>"
      ]
     },
     "execution_count": 76,
     "metadata": {},
     "output_type": "execute_result"
    },
    {
     "data": {
      "image/png": "[encoded data removed]",
      "text/plain": [
       "<Figure size 360x360 with 1 Axes>"
      ]
     },
     "metadata": {
      "needs_background": "light"
     },
     "output_type": "display_data"
    }
   ],
   "source": [
    "print(df['Tertarik'].value_counts())\n",
    "sns.catplot(x='Tertarik', data=df, kind='count')"
   ]
  },
  {
   "cell_type": "code",
   "execution_count": 77,
   "metadata": {},
   "outputs": [],
   "source": [
    "x_data = df.drop(\"Tertarik\", axis=1)\n",
    "y_data = df[\"Tertarik\"]"
   ]
  },
  {
   "cell_type": "code",
   "execution_count": 78,
   "metadata": {},
   "outputs": [],
   "source": [
    "from imblearn.over_sampling import SMOTE\n",
    "\n",
    "smt = SMOTE(random_state=42, k_neighbors=5)\n",
    "x_data, y_data = smt.fit_sample(x_data, y_data)"
   ]
  },
  {
   "cell_type": "code",
   "execution_count": 79,
   "metadata": {},
   "outputs": [
    {
     "name": "stdout",
     "output_type": "stream",
     "text": [
      "x_train shape: (401057, 10)\n",
      "x_test shape: (100265, 10)\n",
      "---------------------------------\n",
      "y_train shape: (401057,)\n",
      "y_test shape: (100265,)\n"
     ]
    }
   ],
   "source": [
    "x_train, x_val, y_train, y_val = train_test_split(x_data, y_data, test_size=0.2)\n",
    "\n",
    "print(f'x_train shape: {x_train.shape}')\n",
    "print(f'x_test shape: {x_val.shape}')\n",
    "print('---------------------------------')\n",
    "print(f'y_train shape: {y_train.shape}')\n",
    "print(f'y_test shape: {y_val.shape}')\n"
   ]
  },
  {
   "cell_type": "markdown",
   "metadata": {},
   "source": [
    "## **Tuning Model**"
   ]
  },
  {
   "cell_type": "code",
   "execution_count": 80,
   "metadata": {},
   "outputs": [],
   "source": [
    "classifier = [\n",
    "    DecisionTreeClassifier(class_weight='balanced'),\n",
    "    SGDClassifier(class_weight='balanced'),\n",
    "    GaussianNB(),\n",
    "    AdaBoostClassifier(),\n",
    "    RandomForestClassifier(class_weight='balanced'),\n",
    "]\n",
    "\n",
    "name = [\n",
    "    'Decision Tree',\n",
    "    'SGDClassifier',\n",
    "    'Naive Bayes',\n",
    "    'AdaBoost',\n",
    "    'Random Forest',\n",
    "]"
   ]
  },
  {
   "cell_type": "markdown",
   "metadata": {},
   "source": [
    "### **Melatih Model Machine Learning**"
   ]
  },
  {
   "cell_type": "code",
   "execution_count": 81,
   "metadata": {},
   "outputs": [],
   "source": [
    "for models, i in zip(classifier, name):\n",
    "    models.fit(x_train, y_train)"
   ]
  },
  {
   "cell_type": "code",
   "execution_count": 82,
   "metadata": {},
   "outputs": [],
   "source": [
    "def report(model, title, x_test, y_test):\n",
    "    result = model.predict(x_test)\n",
    "\n",
    "    conf_matrix = confusion_matrix(y_test, result)\n",
    "    plt.figure(figsize=(7, 5))\n",
    "    sns.heatmap(conf_matrix, annot=True, xticklabels=[0, 1], yticklabels=[0, 1], cmap='flare', fmt='d')\n",
    "    \n",
    "    plt.ylabel('Actual')\n",
    "    plt.xlabel('Predicted')\n",
    "    plt.title(f'Confusion matrix {title}', pad=16)\n",
    "    plt.show()\n",
    "\n",
    "    f1 = f1_score(y_test, result)\n",
    "    recall = recall_score(y_test, result)\n",
    "    precision = precision_score(y_test, result)\n",
    "    roc = roc_auc_score(y_test, result)\n",
    "    accuracy = accuracy_score(y_test, result)\n",
    "\n",
    "    print(\"F1-Score \\t:\", f1)\n",
    "    print(\"Recall \\t\\t:\", recall)\n",
    "    print(\"Precision \\t:\", precision)\n",
    "    print(\"ROC-AUC \\t:\", roc)\n",
    "    print(\"Accuracy \\t:\", accuracy, end=\"\\n\\n\")\n",
    "\n",
    "    return title, f1, recall, precision, roc, accuracy"
   ]
  },
  {
   "cell_type": "code",
   "execution_count": 83,
   "metadata": {},
   "outputs": [
    {
     "data": {
      "image/png": "[encoded data removed]",
      "text/plain": [
       "<Figure size 504x360 with 2 Axes>"
      ]
     },
     "metadata": {
      "needs_background": "light"
     },
     "output_type": "display_data"
    },
    {
     "name": "stdout",
     "output_type": "stream",
     "text": [
      "F1-Score \t: 0.8845310741157651\n",
      "Recall \t\t: 0.8936373974980547\n",
      "Precision \t: 0.8756084687115125\n",
      "ROC-AUC \t: 0.8833714268919757\n",
      "Accuracy \t: 0.8833690719593078\n",
      "\n"
     ]
    },
    {
     "data": {
      "image/png": "[encoded data removed]",
      "text/plain": [
       "<Figure size 504x360 with 2 Axes>"
      ]
     },
     "metadata": {
      "needs_background": "light"
     },
     "output_type": "display_data"
    },
    {
     "name": "stdout",
     "output_type": "stream",
     "text": [
      "F1-Score \t: 0.8174718927883854\n",
      "Recall \t\t: 0.9784920492408372\n",
      "Precision \t: 0.7019580339507057\n",
      "ROC-AUC \t: 0.7816140048373937\n",
      "Accuracy \t: 0.7815688425671969\n",
      "\n"
     ]
    },
    {
     "data": {
      "image/png": "[encoded data removed]",
      "text/plain": [
       "<Figure size 504x360 with 2 Axes>"
      ]
     },
     "metadata": {
      "needs_background": "light"
     },
     "output_type": "display_data"
    },
    {
     "name": "stdout",
     "output_type": "stream",
     "text": [
      "F1-Score \t: 0.8173907245023838\n",
      "Recall \t\t: 0.9782725803555395\n",
      "Precision \t: 0.7019512963307611\n",
      "ROC-AUC \t: 0.7815441555255681\n",
      "Accuracy \t: 0.7814990275769211\n",
      "\n"
     ]
    },
    {
     "data": {
      "image/png": "[encoded data removed]",
      "text/plain": [
       "<Figure size 504x360 with 2 Axes>"
      ]
     },
     "metadata": {
      "needs_background": "light"
     },
     "output_type": "display_data"
    },
    {
     "name": "stdout",
     "output_type": "stream",
     "text": [
      "F1-Score \t: 0.83276511273912\n",
      "Recall \t\t: 0.9332615071526905\n",
      "Precision \t: 0.7518081584107493\n",
      "ROC-AUC \t: 0.8126542060332693\n",
      "Accuracy \t: 0.8126265396698749\n",
      "\n"
     ]
    },
    {
     "data": {
      "image/png": "[encoded data removed]",
      "text/plain": [
       "<Figure size 504x360 with 2 Axes>"
      ]
     },
     "metadata": {
      "needs_background": "light"
     },
     "output_type": "display_data"
    },
    {
     "name": "stdout",
     "output_type": "stream",
     "text": [
      "F1-Score \t: 0.9084058925510174\n",
      "Recall \t\t: 0.9356557131741187\n",
      "Precision \t: 0.8826983887968679\n",
      "ROC-AUC \t: 0.9056868227644683\n",
      "Accuracy \t: 0.9056799481374358\n",
      "\n"
     ]
    }
   ],
   "source": [
    "metrics_report = []\n",
    "\n",
    "for models, i in zip(classifier, name):\n",
    "    title, f1, recall, precision, roc, accuracy = report(models, i, x_val, y_val)\n",
    "    metrics_report.append([title, f1, recall, precision, roc, accuracy])"
   ]
  },
  {
   "cell_type": "code",
   "execution_count": 84,
   "metadata": {},
   "outputs": [
    {
     "data": {
      "text/html": [
       "<div>\n",
       "<style scoped>\n",
       "    .dataframe tbody tr th:only-of-type {\n",
       "        vertical-align: middle;\n",
       "    }\n",
       "\n",
       "    .dataframe tbody tr th {\n",
       "        vertical-align: top;\n",
       "    }\n",
       "\n",
       "    .dataframe thead th {\n",
       "        text-align: right;\n",
       "    }\n",
       "</style>\n",
       "<table border=\"1\" class=\"dataframe\">\n",
       "  <thead>\n",
       "    <tr style=\"text-align: right;\">\n",
       "      <th></th>\n",
       "      <th>Model</th>\n",
       "      <th>F1-Score</th>\n",
       "      <th>Recall</th>\n",
       "      <th>Precision</th>\n",
       "      <th>ROC-AUC</th>\n",
       "      <th>Accuracy</th>\n",
       "    </tr>\n",
       "  </thead>\n",
       "  <tbody>\n",
       "    <tr>\n",
       "      <th>4</th>\n",
       "      <td>Random Forest</td>\n",
       "      <td>0.908406</td>\n",
       "      <td>0.935656</td>\n",
       "      <td>0.882698</td>\n",
       "      <td>0.905687</td>\n",
       "      <td>0.905680</td>\n",
       "    </tr>\n",
       "    <tr>\n",
       "      <th>0</th>\n",
       "      <td>Decision Tree</td>\n",
       "      <td>0.884531</td>\n",
       "      <td>0.893637</td>\n",
       "      <td>0.875608</td>\n",
       "      <td>0.883371</td>\n",
       "      <td>0.883369</td>\n",
       "    </tr>\n",
       "    <tr>\n",
       "      <th>3</th>\n",
       "      <td>AdaBoost</td>\n",
       "      <td>0.832765</td>\n",
       "      <td>0.933262</td>\n",
       "      <td>0.751808</td>\n",
       "      <td>0.812654</td>\n",
       "      <td>0.812627</td>\n",
       "    </tr>\n",
       "    <tr>\n",
       "      <th>1</th>\n",
       "      <td>SGDClassifier</td>\n",
       "      <td>0.817472</td>\n",
       "      <td>0.978492</td>\n",
       "      <td>0.701958</td>\n",
       "      <td>0.781614</td>\n",
       "      <td>0.781569</td>\n",
       "    </tr>\n",
       "    <tr>\n",
       "      <th>2</th>\n",
       "      <td>Naive Bayes</td>\n",
       "      <td>0.817391</td>\n",
       "      <td>0.978273</td>\n",
       "      <td>0.701951</td>\n",
       "      <td>0.781544</td>\n",
       "      <td>0.781499</td>\n",
       "    </tr>\n",
       "  </tbody>\n",
       "</table>\n",
       "</div>"
      ],
      "text/plain": [
       "           Model  F1-Score    Recall  Precision   ROC-AUC  Accuracy\n",
       "4  Random Forest  0.908406  0.935656   0.882698  0.905687  0.905680\n",
       "0  Decision Tree  0.884531  0.893637   0.875608  0.883371  0.883369\n",
       "3       AdaBoost  0.832765  0.933262   0.751808  0.812654  0.812627\n",
       "1  SGDClassifier  0.817472  0.978492   0.701958  0.781614  0.781569\n",
       "2    Naive Bayes  0.817391  0.978273   0.701951  0.781544  0.781499"
      ]
     },
     "execution_count": 84,
     "metadata": {},
     "output_type": "execute_result"
    }
   ],
   "source": [
    "metrics_report = pd.DataFrame(metrics_report, columns=['Model', 'F1-Score', 'Recall', 'Precision', 'ROC-AUC', 'Accuracy'])\n",
    "metrics_report.sort_values(by=['ROC-AUC'], ascending=False)"
   ]
  },
  {
   "cell_type": "markdown",
   "metadata": {},
   "source": [
    "## **Memprediksi Dan Evaluasi Data Test**"
   ]
  },
  {
   "cell_type": "code",
   "execution_count": 85,
   "metadata": {},
   "outputs": [
    {
     "data": {
      "image/png": "[encoded data removed]",
      "text/plain": [
       "<Figure size 504x360 with 2 Axes>"
      ]
     },
     "metadata": {
      "needs_background": "light"
     },
     "output_type": "display_data"
    },
    {
     "name": "stdout",
     "output_type": "stream",
     "text": [
      "F1-Score \t: 0.31150824218148204\n",
      "Recall \t\t: 0.34499232212932945\n",
      "Precision \t: 0.2839488835837663\n",
      "ROC-AUC \t: 0.6114712197079698\n",
      "Accuracy \t: 0.8123806125233527\n",
      "\n"
     ]
    },
    {
     "data": {
      "image/png": "[encoded data removed]",
      "text/plain": [
       "<Figure size 504x360 with 2 Axes>"
      ]
     },
     "metadata": {
      "needs_background": "light"
     },
     "output_type": "display_data"
    },
    {
     "name": "stdout",
     "output_type": "stream",
     "text": [
      "F1-Score \t: 0.39972032861387874\n",
      "Recall \t\t: 0.9754308138542911\n",
      "Precision \t: 0.25136299683432994\n",
      "ROC-AUC \t: 0.7839359057542793\n",
      "Accuracy \t: 0.6395600243497974\n",
      "\n"
     ]
    },
    {
     "data": {
      "image/png": "[encoded data removed]",
      "text/plain": [
       "<Figure size 504x360 with 2 Axes>"
      ]
     },
     "metadata": {
      "needs_background": "light"
     },
     "output_type": "display_data"
    },
    {
     "name": "stdout",
     "output_type": "stream",
     "text": [
      "F1-Score \t: 0.399720230809582\n",
      "Recall \t\t: 0.9750895751578229\n",
      "Precision \t: 0.25138558986539983\n",
      "ROC-AUC \t: 0.7838610305776189\n",
      "Accuracy \t: 0.6396859715779089\n",
      "\n"
     ]
    },
    {
     "data": {
      "image/png": "[encoded data removed]",
      "text/plain": [
       "<Figure size 504x360 with 2 Axes>"
      ]
     },
     "metadata": {
      "needs_background": "light"
     },
     "output_type": "display_data"
    },
    {
     "name": "stdout",
     "output_type": "stream",
     "text": [
      "F1-Score \t: 0.4357024512511152\n",
      "Recall \t\t: 0.8749360177444122\n",
      "Precision \t: 0.2900780631293133\n",
      "ROC-AUC \t: 0.787269339716191\n",
      "Accuracy \t: 0.7211738281659984\n",
      "\n"
     ]
    },
    {
     "data": {
      "image/png": "[encoded data removed]",
      "text/plain": [
       "<Figure size 504x360 with 2 Axes>"
      ]
     },
     "metadata": {
      "needs_background": "light"
     },
     "output_type": "display_data"
    },
    {
     "name": "stdout",
     "output_type": "stream",
     "text": [
      "F1-Score \t: 0.37730889975907134\n",
      "Recall \t\t: 0.44088039583688793\n",
      "Precision \t: 0.32976008167432364\n",
      "ROC-AUC \t: 0.6575841492804048\n",
      "Accuracy \t: 0.8209660152396147\n",
      "\n"
     ]
    }
   ],
   "source": [
    "x_test = df_test.drop(\"Tertarik\", axis=1)\n",
    "y_test = df_test[\"Tertarik\"]\n",
    "\n",
    "metrics_report_test = []\n",
    "\n",
    "for models, i in zip(classifier, name):\n",
    "    title, f1, recall, precision, roc, accuracy = report(models, i, x_test, y_test)\n",
    "    metrics_report_test.append([title, f1, recall, precision, roc, accuracy])"
   ]
  },
  {
   "cell_type": "code",
   "execution_count": 86,
   "metadata": {},
   "outputs": [
    {
     "data": {
      "text/html": [
       "<div>\n",
       "<style scoped>\n",
       "    .dataframe tbody tr th:only-of-type {\n",
       "        vertical-align: middle;\n",
       "    }\n",
       "\n",
       "    .dataframe tbody tr th {\n",
       "        vertical-align: top;\n",
       "    }\n",
       "\n",
       "    .dataframe thead th {\n",
       "        text-align: right;\n",
       "    }\n",
       "</style>\n",
       "<table border=\"1\" class=\"dataframe\">\n",
       "  <thead>\n",
       "    <tr style=\"text-align: right;\">\n",
       "      <th></th>\n",
       "      <th>Model</th>\n",
       "      <th>F1-Score</th>\n",
       "      <th>Recall</th>\n",
       "      <th>Precision</th>\n",
       "      <th>ROC-AUC</th>\n",
       "      <th>Accuracy</th>\n",
       "    </tr>\n",
       "  </thead>\n",
       "  <tbody>\n",
       "    <tr>\n",
       "      <th>3</th>\n",
       "      <td>AdaBoost</td>\n",
       "      <td>0.435702</td>\n",
       "      <td>0.874936</td>\n",
       "      <td>0.290078</td>\n",
       "      <td>0.787269</td>\n",
       "      <td>0.721174</td>\n",
       "    </tr>\n",
       "    <tr>\n",
       "      <th>1</th>\n",
       "      <td>SGDClassifier</td>\n",
       "      <td>0.399720</td>\n",
       "      <td>0.975431</td>\n",
       "      <td>0.251363</td>\n",
       "      <td>0.783936</td>\n",
       "      <td>0.639560</td>\n",
       "    </tr>\n",
       "    <tr>\n",
       "      <th>2</th>\n",
       "      <td>Naive Bayes</td>\n",
       "      <td>0.399720</td>\n",
       "      <td>0.975090</td>\n",
       "      <td>0.251386</td>\n",
       "      <td>0.783861</td>\n",
       "      <td>0.639686</td>\n",
       "    </tr>\n",
       "    <tr>\n",
       "      <th>4</th>\n",
       "      <td>Random Forest</td>\n",
       "      <td>0.377309</td>\n",
       "      <td>0.440880</td>\n",
       "      <td>0.329760</td>\n",
       "      <td>0.657584</td>\n",
       "      <td>0.820966</td>\n",
       "    </tr>\n",
       "    <tr>\n",
       "      <th>0</th>\n",
       "      <td>Decision Tree</td>\n",
       "      <td>0.311508</td>\n",
       "      <td>0.344992</td>\n",
       "      <td>0.283949</td>\n",
       "      <td>0.611471</td>\n",
       "      <td>0.812381</td>\n",
       "    </tr>\n",
       "  </tbody>\n",
       "</table>\n",
       "</div>"
      ],
      "text/plain": [
       "           Model  F1-Score    Recall  Precision   ROC-AUC  Accuracy\n",
       "3       AdaBoost  0.435702  0.874936   0.290078  0.787269  0.721174\n",
       "1  SGDClassifier  0.399720  0.975431   0.251363  0.783936  0.639560\n",
       "2    Naive Bayes  0.399720  0.975090   0.251386  0.783861  0.639686\n",
       "4  Random Forest  0.377309  0.440880   0.329760  0.657584  0.820966\n",
       "0  Decision Tree  0.311508  0.344992   0.283949  0.611471  0.812381"
      ]
     },
     "execution_count": 86,
     "metadata": {},
     "output_type": "execute_result"
    }
   ],
   "source": [
    "metrics_report_test = pd.DataFrame(metrics_report_test, columns=['Model', 'F1-Score', 'Recall', 'Precision', 'ROC-AUC', 'Accuracy'])\n",
    "metrics_report_test.sort_values(by=['ROC-AUC'], ascending=False)"
   ]
  }
 ],
 "metadata": {
  "interpreter": {
   "hash": "2bf746931fd58f1246b6df4740a30aa94cbb7406c646ac7ef817c7ae9c273626"
  },
  "kernelspec": {
   "display_name": "Python 3.9.0 64-bit",
   "name": "python3"
  },
  "language_info": {
   "codemirror_mode": {
    "name": "ipython",
    "version": 3
   },
   "file_extension": ".py",
   "mimetype": "text/x-python",
   "name": "python",
   "nbconvert_exporter": "python",
   "pygments_lexer": "ipython3",
   "version": "3.9.0"
  },
  "orig_nbformat": 4
 },
 "nbformat": 4,
 "nbformat_minor": 2
}
