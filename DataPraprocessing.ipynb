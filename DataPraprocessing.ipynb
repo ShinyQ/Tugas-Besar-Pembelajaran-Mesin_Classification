{
 "cells": [
  {
   "cell_type": "code",
   "execution_count": 380,
   "metadata": {},
   "outputs": [],
   "source": [
    "import pandas as pd\n",
    "import seaborn as sns\n",
    "import matplotlib.pyplot as plt\n",
    "\n",
    "from sklearn.preprocessing import MinMaxScaler\n",
    "from sklearn.preprocessing import StandardScaler\n",
    "from sklearn.decomposition import PCA\n"
   ]
  },
  {
   "cell_type": "code",
   "execution_count": 381,
   "metadata": {},
   "outputs": [
    {
     "name": "stdout",
     "output_type": "stream",
     "text": [
      "Total Dataset : 285831\n"
     ]
    },
    {
     "data": {
      "text/html": [
       "<div>\n",
       "<style scoped>\n",
       "    .dataframe tbody tr th:only-of-type {\n",
       "        vertical-align: middle;\n",
       "    }\n",
       "\n",
       "    .dataframe tbody tr th {\n",
       "        vertical-align: top;\n",
       "    }\n",
       "\n",
       "    .dataframe thead th {\n",
       "        text-align: right;\n",
       "    }\n",
       "</style>\n",
       "<table border=\"1\" class=\"dataframe\">\n",
       "  <thead>\n",
       "    <tr style=\"text-align: right;\">\n",
       "      <th></th>\n",
       "      <th>Jenis_Kelamin</th>\n",
       "      <th>Umur</th>\n",
       "      <th>SIM</th>\n",
       "      <th>Kode_Daerah</th>\n",
       "      <th>Sudah_Asuransi</th>\n",
       "      <th>Umur_Kendaraan</th>\n",
       "      <th>Kendaraan_Rusak</th>\n",
       "      <th>Premi</th>\n",
       "      <th>Kanal_Penjualan</th>\n",
       "      <th>Lama_Berlangganan</th>\n",
       "      <th>Tertarik</th>\n",
       "    </tr>\n",
       "  </thead>\n",
       "  <tbody>\n",
       "    <tr>\n",
       "      <th>100805</th>\n",
       "      <td>Wanita</td>\n",
       "      <td>22.0</td>\n",
       "      <td>1.0</td>\n",
       "      <td>46.0</td>\n",
       "      <td>1.0</td>\n",
       "      <td>&lt; 1 Tahun</td>\n",
       "      <td>Tidak</td>\n",
       "      <td>27894.0</td>\n",
       "      <td>152.0</td>\n",
       "      <td>75.0</td>\n",
       "      <td>0</td>\n",
       "    </tr>\n",
       "    <tr>\n",
       "      <th>283857</th>\n",
       "      <td>Pria</td>\n",
       "      <td>46.0</td>\n",
       "      <td>1.0</td>\n",
       "      <td>46.0</td>\n",
       "      <td>0.0</td>\n",
       "      <td>1-2 Tahun</td>\n",
       "      <td>Pernah</td>\n",
       "      <td>21389.0</td>\n",
       "      <td>124.0</td>\n",
       "      <td>179.0</td>\n",
       "      <td>1</td>\n",
       "    </tr>\n",
       "    <tr>\n",
       "      <th>115072</th>\n",
       "      <td>Wanita</td>\n",
       "      <td>27.0</td>\n",
       "      <td>1.0</td>\n",
       "      <td>41.0</td>\n",
       "      <td>1.0</td>\n",
       "      <td>&lt; 1 Tahun</td>\n",
       "      <td>Tidak</td>\n",
       "      <td>47908.0</td>\n",
       "      <td>152.0</td>\n",
       "      <td>NaN</td>\n",
       "      <td>0</td>\n",
       "    </tr>\n",
       "    <tr>\n",
       "      <th>271551</th>\n",
       "      <td>Wanita</td>\n",
       "      <td>23.0</td>\n",
       "      <td>1.0</td>\n",
       "      <td>15.0</td>\n",
       "      <td>1.0</td>\n",
       "      <td>&lt; 1 Tahun</td>\n",
       "      <td>Tidak</td>\n",
       "      <td>44912.0</td>\n",
       "      <td>152.0</td>\n",
       "      <td>208.0</td>\n",
       "      <td>0</td>\n",
       "    </tr>\n",
       "    <tr>\n",
       "      <th>193434</th>\n",
       "      <td>Wanita</td>\n",
       "      <td>28.0</td>\n",
       "      <td>1.0</td>\n",
       "      <td>46.0</td>\n",
       "      <td>1.0</td>\n",
       "      <td>&lt; 1 Tahun</td>\n",
       "      <td>Tidak</td>\n",
       "      <td>59901.0</td>\n",
       "      <td>152.0</td>\n",
       "      <td>62.0</td>\n",
       "      <td>0</td>\n",
       "    </tr>\n",
       "  </tbody>\n",
       "</table>\n",
       "</div>"
      ],
      "text/plain": [
       "       Jenis_Kelamin  Umur  SIM  Kode_Daerah  Sudah_Asuransi Umur_Kendaraan  \\\n",
       "100805        Wanita  22.0  1.0         46.0             1.0      < 1 Tahun   \n",
       "283857          Pria  46.0  1.0         46.0             0.0      1-2 Tahun   \n",
       "115072        Wanita  27.0  1.0         41.0             1.0      < 1 Tahun   \n",
       "271551        Wanita  23.0  1.0         15.0             1.0      < 1 Tahun   \n",
       "193434        Wanita  28.0  1.0         46.0             1.0      < 1 Tahun   \n",
       "\n",
       "       Kendaraan_Rusak    Premi  Kanal_Penjualan  Lama_Berlangganan  Tertarik  \n",
       "100805           Tidak  27894.0            152.0               75.0         0  \n",
       "283857          Pernah  21389.0            124.0              179.0         1  \n",
       "115072           Tidak  47908.0            152.0                NaN         0  \n",
       "271551           Tidak  44912.0            152.0              208.0         0  \n",
       "193434           Tidak  59901.0            152.0               62.0         0  "
      ]
     },
     "execution_count": 381,
     "metadata": {},
     "output_type": "execute_result"
    }
   ],
   "source": [
    "df_train = pd.read_csv(\"Dataset/kendaraan_train.csv\")\n",
    "df_train.drop(['id'], axis=1, inplace=True)\n",
    "\n",
    "print(\"Total Dataset :\", len(df_train))\n",
    "df_train.sample(5)"
   ]
  },
  {
   "cell_type": "code",
   "execution_count": 382,
   "metadata": {},
   "outputs": [
    {
     "name": "stdout",
     "output_type": "stream",
     "text": [
      "Total Dataset : 47639\n"
     ]
    },
    {
     "data": {
      "text/html": [
       "<div>\n",
       "<style scoped>\n",
       "    .dataframe tbody tr th:only-of-type {\n",
       "        vertical-align: middle;\n",
       "    }\n",
       "\n",
       "    .dataframe tbody tr th {\n",
       "        vertical-align: top;\n",
       "    }\n",
       "\n",
       "    .dataframe thead th {\n",
       "        text-align: right;\n",
       "    }\n",
       "</style>\n",
       "<table border=\"1\" class=\"dataframe\">\n",
       "  <thead>\n",
       "    <tr style=\"text-align: right;\">\n",
       "      <th></th>\n",
       "      <th>Jenis_Kelamin</th>\n",
       "      <th>Umur</th>\n",
       "      <th>SIM</th>\n",
       "      <th>Kode_Daerah</th>\n",
       "      <th>Sudah_Asuransi</th>\n",
       "      <th>Umur_Kendaraan</th>\n",
       "      <th>Kendaraan_Rusak</th>\n",
       "      <th>Premi</th>\n",
       "      <th>Kanal_Penjualan</th>\n",
       "      <th>Lama_Berlangganan</th>\n",
       "      <th>Tertarik</th>\n",
       "    </tr>\n",
       "  </thead>\n",
       "  <tbody>\n",
       "    <tr>\n",
       "      <th>7620</th>\n",
       "      <td>Wanita</td>\n",
       "      <td>23</td>\n",
       "      <td>1</td>\n",
       "      <td>30</td>\n",
       "      <td>1</td>\n",
       "      <td>&lt; 1 Tahun</td>\n",
       "      <td>Tidak</td>\n",
       "      <td>25422</td>\n",
       "      <td>152</td>\n",
       "      <td>25</td>\n",
       "      <td>0</td>\n",
       "    </tr>\n",
       "    <tr>\n",
       "      <th>17037</th>\n",
       "      <td>Pria</td>\n",
       "      <td>49</td>\n",
       "      <td>1</td>\n",
       "      <td>28</td>\n",
       "      <td>1</td>\n",
       "      <td>1-2 Tahun</td>\n",
       "      <td>Tidak</td>\n",
       "      <td>26523</td>\n",
       "      <td>26</td>\n",
       "      <td>187</td>\n",
       "      <td>0</td>\n",
       "    </tr>\n",
       "    <tr>\n",
       "      <th>23082</th>\n",
       "      <td>Pria</td>\n",
       "      <td>52</td>\n",
       "      <td>1</td>\n",
       "      <td>41</td>\n",
       "      <td>0</td>\n",
       "      <td>1-2 Tahun</td>\n",
       "      <td>Pernah</td>\n",
       "      <td>36108</td>\n",
       "      <td>152</td>\n",
       "      <td>149</td>\n",
       "      <td>0</td>\n",
       "    </tr>\n",
       "    <tr>\n",
       "      <th>13654</th>\n",
       "      <td>Wanita</td>\n",
       "      <td>24</td>\n",
       "      <td>1</td>\n",
       "      <td>8</td>\n",
       "      <td>1</td>\n",
       "      <td>&lt; 1 Tahun</td>\n",
       "      <td>Tidak</td>\n",
       "      <td>42862</td>\n",
       "      <td>152</td>\n",
       "      <td>289</td>\n",
       "      <td>0</td>\n",
       "    </tr>\n",
       "    <tr>\n",
       "      <th>39369</th>\n",
       "      <td>Wanita</td>\n",
       "      <td>78</td>\n",
       "      <td>1</td>\n",
       "      <td>33</td>\n",
       "      <td>0</td>\n",
       "      <td>1-2 Tahun</td>\n",
       "      <td>Pernah</td>\n",
       "      <td>35443</td>\n",
       "      <td>26</td>\n",
       "      <td>35</td>\n",
       "      <td>0</td>\n",
       "    </tr>\n",
       "  </tbody>\n",
       "</table>\n",
       "</div>"
      ],
      "text/plain": [
       "      Jenis_Kelamin  Umur  SIM  Kode_Daerah  Sudah_Asuransi Umur_Kendaraan  \\\n",
       "7620         Wanita    23    1           30               1      < 1 Tahun   \n",
       "17037          Pria    49    1           28               1      1-2 Tahun   \n",
       "23082          Pria    52    1           41               0      1-2 Tahun   \n",
       "13654        Wanita    24    1            8               1      < 1 Tahun   \n",
       "39369        Wanita    78    1           33               0      1-2 Tahun   \n",
       "\n",
       "      Kendaraan_Rusak  Premi  Kanal_Penjualan  Lama_Berlangganan  Tertarik  \n",
       "7620            Tidak  25422              152                 25         0  \n",
       "17037           Tidak  26523               26                187         0  \n",
       "23082          Pernah  36108              152                149         0  \n",
       "13654           Tidak  42862              152                289         0  \n",
       "39369          Pernah  35443               26                 35         0  "
      ]
     },
     "execution_count": 382,
     "metadata": {},
     "output_type": "execute_result"
    }
   ],
   "source": [
    "df_test = pd.read_csv(\"Dataset/kendaraan_test.csv\")\n",
    "\n",
    "print(\"Total Dataset :\", len(df_test))\n",
    "df_test.sample(5)"
   ]
  },
  {
   "cell_type": "code",
   "execution_count": 383,
   "metadata": {},
   "outputs": [
    {
     "name": "stdout",
     "output_type": "stream",
     "text": [
      "<class 'pandas.core.frame.DataFrame'>\n",
      "RangeIndex: 285831 entries, 0 to 285830\n",
      "Data columns (total 11 columns):\n",
      " #   Column             Non-Null Count   Dtype  \n",
      "---  ------             --------------   -----  \n",
      " 0   Jenis_Kelamin      271391 non-null  object \n",
      " 1   Umur               271617 non-null  float64\n",
      " 2   SIM                271427 non-null  float64\n",
      " 3   Kode_Daerah        271525 non-null  float64\n",
      " 4   Sudah_Asuransi     271602 non-null  float64\n",
      " 5   Umur_Kendaraan     271556 non-null  object \n",
      " 6   Kendaraan_Rusak    271643 non-null  object \n",
      " 7   Premi              271262 non-null  float64\n",
      " 8   Kanal_Penjualan    271532 non-null  float64\n",
      " 9   Lama_Berlangganan  271839 non-null  float64\n",
      " 10  Tertarik           285831 non-null  int64  \n",
      "dtypes: float64(7), int64(1), object(3)\n",
      "memory usage: 24.0+ MB\n"
     ]
    }
   ],
   "source": [
    "df_train.info()"
   ]
  },
  {
   "cell_type": "code",
   "execution_count": 384,
   "metadata": {},
   "outputs": [
    {
     "data": {
      "text/plain": [
       "Jenis_Kelamin        14440\n",
       "Umur                 14214\n",
       "SIM                  14404\n",
       "Kode_Daerah          14306\n",
       "Sudah_Asuransi       14229\n",
       "Umur_Kendaraan       14275\n",
       "Kendaraan_Rusak      14188\n",
       "Premi                14569\n",
       "Kanal_Penjualan      14299\n",
       "Lama_Berlangganan    13992\n",
       "Tertarik                 0\n",
       "dtype: int64"
      ]
     },
     "execution_count": 384,
     "metadata": {},
     "output_type": "execute_result"
    }
   ],
   "source": [
    "df_train.isna().sum()\n"
   ]
  },
  {
   "cell_type": "code",
   "execution_count": 385,
   "metadata": {},
   "outputs": [
    {
     "data": {
      "text/plain": [
       "Jenis_Kelamin        0\n",
       "Umur                 0\n",
       "SIM                  0\n",
       "Kode_Daerah          0\n",
       "Sudah_Asuransi       0\n",
       "Umur_Kendaraan       0\n",
       "Kendaraan_Rusak      0\n",
       "Premi                0\n",
       "Kanal_Penjualan      0\n",
       "Lama_Berlangganan    0\n",
       "Tertarik             0\n",
       "dtype: int64"
      ]
     },
     "execution_count": 385,
     "metadata": {},
     "output_type": "execute_result"
    }
   ],
   "source": [
    "df_test.isna().sum()\n"
   ]
  },
  {
   "cell_type": "code",
   "execution_count": 386,
   "metadata": {},
   "outputs": [
    {
     "name": "stdout",
     "output_type": "stream",
     "text": [
      "Data Duplikasi : 169\n"
     ]
    }
   ],
   "source": [
    "duplicate = list(df_train.duplicated())\n",
    "print(\"Data Duplikasi :\", duplicate.count(True))"
   ]
  },
  {
   "cell_type": "code",
   "execution_count": 387,
   "metadata": {},
   "outputs": [],
   "source": [
    "df_train.drop_duplicates(inplace=True)"
   ]
  },
  {
   "cell_type": "code",
   "execution_count": 388,
   "metadata": {},
   "outputs": [
    {
     "name": "stdout",
     "output_type": "stream",
     "text": [
      "Data Duplikasi : 0\n"
     ]
    }
   ],
   "source": [
    "duplicate = list(df_train.duplicated())\n",
    "print(\"Data Duplikasi :\", duplicate.count(True))"
   ]
  },
  {
   "cell_type": "markdown",
   "metadata": {},
   "source": [
    "## **Label Encoding**\n"
   ]
  },
  {
   "cell_type": "code",
   "execution_count": 389,
   "metadata": {},
   "outputs": [],
   "source": [
    "def label_encoding(df):\n",
    "    df['Jenis_Kelamin'] = df['Jenis_Kelamin'].replace(['Wanita', 'Pria'], [0, 1])\n",
    "    df['Umur_Kendaraan'] = df['Umur_Kendaraan'].replace(['< 1 Tahun', '1-2 Tahun', '> 2 Tahun'], [0, 1, 2])\n",
    "    df['Kendaraan_Rusak'] = df['Kendaraan_Rusak'].replace(['Tidak', 'Pernah'], [0, 1])\n",
    "\n",
    "label_encoding(df_train)\n",
    "label_encoding(df_test)\n"
   ]
  },
  {
   "cell_type": "code",
   "execution_count": 390,
   "metadata": {},
   "outputs": [],
   "source": [
    "# -2 Ke 2 Diisi Mean Berdasarkan Skewnessn Selain Itu Median\n",
    "df_train['SIM'] = df_train['SIM'].fillna(df_train['SIM'].median())\n",
    "df_train = df_train.fillna(df_train.mean())\n"
   ]
  },
  {
   "cell_type": "code",
   "execution_count": 391,
   "metadata": {},
   "outputs": [
    {
     "data": {
      "text/plain": [
       "Jenis_Kelamin        0\n",
       "Umur                 0\n",
       "SIM                  0\n",
       "Kode_Daerah          0\n",
       "Sudah_Asuransi       0\n",
       "Umur_Kendaraan       0\n",
       "Kendaraan_Rusak      0\n",
       "Premi                0\n",
       "Kanal_Penjualan      0\n",
       "Lama_Berlangganan    0\n",
       "Tertarik             0\n",
       "dtype: int64"
      ]
     },
     "execution_count": 391,
     "metadata": {},
     "output_type": "execute_result"
    }
   ],
   "source": [
    "df_train.isna().sum()"
   ]
  },
  {
   "cell_type": "code",
   "execution_count": 392,
   "metadata": {},
   "outputs": [
    {
     "data": {
      "image/png": "[encoded data removed]",
      "text/plain": [
       "<Figure size 1152x288 with 3 Axes>"
      ]
     },
     "metadata": {
      "needs_background": "light"
     },
     "output_type": "display_data"
    }
   ],
   "source": [
    "fig, ax = plt.subplots(ncols=3, figsize=(16, 4))\n",
    "sns.boxplot(y='Premi', data=df_train, ax=ax[0])\n",
    "sns.boxplot(y='Lama_Berlangganan', data=df_train, ax=ax[1])\n",
    "sns.boxplot(y='Kanal_Penjualan', data=df_train, ax=ax[2])\n",
    "plt.show()\n"
   ]
  },
  {
   "cell_type": "code",
   "execution_count": 393,
   "metadata": {},
   "outputs": [],
   "source": [
    "# Q1 = df_train[\"Premi\"].quantile(0.25)\n",
    "# Q3 = df_train[\"Premi\"].quantile(0.75)\n",
    "# IQR = Q3 - Q1\n",
    "\n",
    "# BB = Q1 - (1.5 * IQR)\n",
    "# BA = Q3 + (1.5 * IQR)\n",
    "\n",
    "# print(\"Batas Atas : \", BA)\n",
    "# print(\"Batas Bawah : \", BB)\n",
    "\n",
    "# df_train = df_train[~((df_train[\"Premi\"] < BB) | (df_train[\"Premi\"] > BA))]\n",
    "\n",
    "# fig, ax = plt.subplots(ncols=3, figsize=(16, 4))\n",
    "# sns.boxplot(y='Premi', data=df_train, ax=ax[0])\n",
    "# sns.boxplot(y='Lama_Berlangganan', data=df_train, ax=ax[1])\n",
    "# sns.boxplot(y='Kanal_Penjualan', data=df_train, ax=ax[2])\n",
    "# plt.show()\n"
   ]
  },
  {
   "cell_type": "markdown",
   "metadata": {},
   "source": [
    "## **Min Max Scaler**"
   ]
  },
  {
   "cell_type": "code",
   "execution_count": 394,
   "metadata": {},
   "outputs": [
    {
     "data": {
      "text/html": [
       "<div>\n",
       "<style scoped>\n",
       "    .dataframe tbody tr th:only-of-type {\n",
       "        vertical-align: middle;\n",
       "    }\n",
       "\n",
       "    .dataframe tbody tr th {\n",
       "        vertical-align: top;\n",
       "    }\n",
       "\n",
       "    .dataframe thead th {\n",
       "        text-align: right;\n",
       "    }\n",
       "</style>\n",
       "<table border=\"1\" class=\"dataframe\">\n",
       "  <thead>\n",
       "    <tr style=\"text-align: right;\">\n",
       "      <th></th>\n",
       "      <th>Jenis_Kelamin</th>\n",
       "      <th>Umur</th>\n",
       "      <th>SIM</th>\n",
       "      <th>Kode_Daerah</th>\n",
       "      <th>Sudah_Asuransi</th>\n",
       "      <th>Umur_Kendaraan</th>\n",
       "      <th>Kendaraan_Rusak</th>\n",
       "      <th>Premi</th>\n",
       "      <th>Kanal_Penjualan</th>\n",
       "      <th>Lama_Berlangganan</th>\n",
       "      <th>Tertarik</th>\n",
       "    </tr>\n",
       "  </thead>\n",
       "  <tbody>\n",
       "    <tr>\n",
       "      <th>124944</th>\n",
       "      <td>0.946297</td>\n",
       "      <td>-0.782875</td>\n",
       "      <td>0.045261</td>\n",
       "      <td>-0.418536</td>\n",
       "      <td>1.114408</td>\n",
       "      <td>-1.102610</td>\n",
       "      <td>-1.03581</td>\n",
       "      <td>-0.006404</td>\n",
       "      <td>0.965057</td>\n",
       "      <td>0.462056</td>\n",
       "      <td>0</td>\n",
       "    </tr>\n",
       "    <tr>\n",
       "      <th>129807</th>\n",
       "      <td>0.946297</td>\n",
       "      <td>1.662139</td>\n",
       "      <td>0.045261</td>\n",
       "      <td>1.362143</td>\n",
       "      <td>1.114408</td>\n",
       "      <td>0.705243</td>\n",
       "      <td>-1.03581</td>\n",
       "      <td>-1.670935</td>\n",
       "      <td>0.756843</td>\n",
       "      <td>1.772854</td>\n",
       "      <td>0</td>\n",
       "    </tr>\n",
       "    <tr>\n",
       "      <th>55866</th>\n",
       "      <td>-1.113009</td>\n",
       "      <td>-0.915037</td>\n",
       "      <td>0.045261</td>\n",
       "      <td>-1.425006</td>\n",
       "      <td>1.114408</td>\n",
       "      <td>-1.102610</td>\n",
       "      <td>-1.03581</td>\n",
       "      <td>0.035252</td>\n",
       "      <td>0.756843</td>\n",
       "      <td>0.217047</td>\n",
       "      <td>0</td>\n",
       "    </tr>\n",
       "    <tr>\n",
       "      <th>278335</th>\n",
       "      <td>0.946297</td>\n",
       "      <td>-1.245445</td>\n",
       "      <td>0.045261</td>\n",
       "      <td>-0.728219</td>\n",
       "      <td>1.114408</td>\n",
       "      <td>-1.102610</td>\n",
       "      <td>1.01588</td>\n",
       "      <td>-1.670935</td>\n",
       "      <td>0.965057</td>\n",
       "      <td>-1.106001</td>\n",
       "      <td>0</td>\n",
       "    </tr>\n",
       "    <tr>\n",
       "      <th>251261</th>\n",
       "      <td>-1.113009</td>\n",
       "      <td>-1.047200</td>\n",
       "      <td>0.045261</td>\n",
       "      <td>-1.579848</td>\n",
       "      <td>1.114408</td>\n",
       "      <td>-1.102610</td>\n",
       "      <td>-1.03581</td>\n",
       "      <td>-1.670935</td>\n",
       "      <td>0.756843</td>\n",
       "      <td>1.099079</td>\n",
       "      <td>0</td>\n",
       "    </tr>\n",
       "  </tbody>\n",
       "</table>\n",
       "</div>"
      ],
      "text/plain": [
       "        Jenis_Kelamin      Umur       SIM  Kode_Daerah  Sudah_Asuransi  \\\n",
       "124944       0.946297 -0.782875  0.045261    -0.418536        1.114408   \n",
       "129807       0.946297  1.662139  0.045261     1.362143        1.114408   \n",
       "55866       -1.113009 -0.915037  0.045261    -1.425006        1.114408   \n",
       "278335       0.946297 -1.245445  0.045261    -0.728219        1.114408   \n",
       "251261      -1.113009 -1.047200  0.045261    -1.579848        1.114408   \n",
       "\n",
       "        Umur_Kendaraan  Kendaraan_Rusak     Premi  Kanal_Penjualan  \\\n",
       "124944       -1.102610         -1.03581 -0.006404         0.965057   \n",
       "129807        0.705243         -1.03581 -1.670935         0.756843   \n",
       "55866        -1.102610         -1.03581  0.035252         0.756843   \n",
       "278335       -1.102610          1.01588 -1.670935         0.965057   \n",
       "251261       -1.102610         -1.03581 -1.670935         0.756843   \n",
       "\n",
       "        Lama_Berlangganan  Tertarik  \n",
       "124944           0.462056         0  \n",
       "129807           1.772854         0  \n",
       "55866            0.217047         0  \n",
       "278335          -1.106001         0  \n",
       "251261           1.099079         0  "
      ]
     },
     "execution_count": 394,
     "metadata": {},
     "output_type": "execute_result"
    }
   ],
   "source": [
    "numerical = [\n",
    "    'Premi', 'Lama_Berlangganan', 'Umur', 'Kode_Daerah', 'Kanal_Penjualan', \n",
    "    'Jenis_Kelamin', 'SIM', 'Kendaraan_Rusak', 'Sudah_Asuransi', 'Umur_Kendaraan'\n",
    "]\n",
    "\n",
    "scaler = StandardScaler()\n",
    "\n",
    "df_train[numerical] = scaler.fit_transform(df_train[numerical].values)\n",
    "df_train.sample(5)\n"
   ]
  },
  {
   "cell_type": "code",
   "execution_count": 395,
   "metadata": {},
   "outputs": [
    {
     "data": {
      "text/html": [
       "<div>\n",
       "<style scoped>\n",
       "    .dataframe tbody tr th:only-of-type {\n",
       "        vertical-align: middle;\n",
       "    }\n",
       "\n",
       "    .dataframe tbody tr th {\n",
       "        vertical-align: top;\n",
       "    }\n",
       "\n",
       "    .dataframe thead th {\n",
       "        text-align: right;\n",
       "    }\n",
       "</style>\n",
       "<table border=\"1\" class=\"dataframe\">\n",
       "  <thead>\n",
       "    <tr style=\"text-align: right;\">\n",
       "      <th></th>\n",
       "      <th>Jenis_Kelamin</th>\n",
       "      <th>Umur</th>\n",
       "      <th>SIM</th>\n",
       "      <th>Kode_Daerah</th>\n",
       "      <th>Sudah_Asuransi</th>\n",
       "      <th>Umur_Kendaraan</th>\n",
       "      <th>Kendaraan_Rusak</th>\n",
       "      <th>Premi</th>\n",
       "      <th>Kanal_Penjualan</th>\n",
       "      <th>Lama_Berlangganan</th>\n",
       "      <th>Tertarik</th>\n",
       "    </tr>\n",
       "  </thead>\n",
       "  <tbody>\n",
       "    <tr>\n",
       "      <th>41030</th>\n",
       "      <td>-1.113009</td>\n",
       "      <td>-0.981119</td>\n",
       "      <td>0.045261</td>\n",
       "      <td>-1.425006</td>\n",
       "      <td>1.114408</td>\n",
       "      <td>-1.102610</td>\n",
       "      <td>-1.03581</td>\n",
       "      <td>-0.548599</td>\n",
       "      <td>0.756843</td>\n",
       "      <td>1.466593</td>\n",
       "      <td>0</td>\n",
       "    </tr>\n",
       "    <tr>\n",
       "      <th>4239</th>\n",
       "      <td>-1.113009</td>\n",
       "      <td>-0.254223</td>\n",
       "      <td>0.045261</td>\n",
       "      <td>1.516984</td>\n",
       "      <td>-0.944378</td>\n",
       "      <td>0.705243</td>\n",
       "      <td>1.01588</td>\n",
       "      <td>0.650645</td>\n",
       "      <td>0.851486</td>\n",
       "      <td>-0.873243</td>\n",
       "      <td>1</td>\n",
       "    </tr>\n",
       "    <tr>\n",
       "      <th>7170</th>\n",
       "      <td>0.946297</td>\n",
       "      <td>0.340510</td>\n",
       "      <td>0.045261</td>\n",
       "      <td>1.284722</td>\n",
       "      <td>-0.944378</td>\n",
       "      <td>0.705243</td>\n",
       "      <td>1.01588</td>\n",
       "      <td>-1.670935</td>\n",
       "      <td>-1.628152</td>\n",
       "      <td>-1.510266</td>\n",
       "      <td>0</td>\n",
       "    </tr>\n",
       "    <tr>\n",
       "      <th>40964</th>\n",
       "      <td>-1.113009</td>\n",
       "      <td>1.463894</td>\n",
       "      <td>0.045261</td>\n",
       "      <td>1.439564</td>\n",
       "      <td>-0.944378</td>\n",
       "      <td>0.705243</td>\n",
       "      <td>-1.03581</td>\n",
       "      <td>-0.099055</td>\n",
       "      <td>-1.628152</td>\n",
       "      <td>0.376303</td>\n",
       "      <td>0</td>\n",
       "    </tr>\n",
       "    <tr>\n",
       "      <th>40064</th>\n",
       "      <td>-1.113009</td>\n",
       "      <td>0.670917</td>\n",
       "      <td>0.045261</td>\n",
       "      <td>0.123410</td>\n",
       "      <td>-0.944378</td>\n",
       "      <td>0.705243</td>\n",
       "      <td>1.01588</td>\n",
       "      <td>1.081816</td>\n",
       "      <td>-1.628152</td>\n",
       "      <td>-0.027962</td>\n",
       "      <td>0</td>\n",
       "    </tr>\n",
       "  </tbody>\n",
       "</table>\n",
       "</div>"
      ],
      "text/plain": [
       "       Jenis_Kelamin      Umur       SIM  Kode_Daerah  Sudah_Asuransi  \\\n",
       "41030      -1.113009 -0.981119  0.045261    -1.425006        1.114408   \n",
       "4239       -1.113009 -0.254223  0.045261     1.516984       -0.944378   \n",
       "7170        0.946297  0.340510  0.045261     1.284722       -0.944378   \n",
       "40964      -1.113009  1.463894  0.045261     1.439564       -0.944378   \n",
       "40064      -1.113009  0.670917  0.045261     0.123410       -0.944378   \n",
       "\n",
       "       Umur_Kendaraan  Kendaraan_Rusak     Premi  Kanal_Penjualan  \\\n",
       "41030       -1.102610         -1.03581 -0.548599         0.756843   \n",
       "4239         0.705243          1.01588  0.650645         0.851486   \n",
       "7170         0.705243          1.01588 -1.670935        -1.628152   \n",
       "40964        0.705243         -1.03581 -0.099055        -1.628152   \n",
       "40064        0.705243          1.01588  1.081816        -1.628152   \n",
       "\n",
       "       Lama_Berlangganan  Tertarik  \n",
       "41030           1.466593         0  \n",
       "4239           -0.873243         1  \n",
       "7170           -1.510266         0  \n",
       "40964           0.376303         0  \n",
       "40064          -0.027962         0  "
      ]
     },
     "execution_count": 395,
     "metadata": {},
     "output_type": "execute_result"
    }
   ],
   "source": [
    "df_test[numerical] = scaler.transform(df_test[numerical].values)\n",
    "df_test.sample(5)"
   ]
  },
  {
   "cell_type": "code",
   "execution_count": 396,
   "metadata": {},
   "outputs": [],
   "source": [
    "df_train_pca = df_train.copy()\n",
    "df_test_pca = df_test.copy()\n",
    "\n",
    "df_label_train = df_train['Tertarik']\n",
    "df_label_test = df_test['Tertarik']\n",
    "\n",
    "del df_train_pca['Tertarik']\n",
    "del df_test_pca['Tertarik']\n"
   ]
  },
  {
   "cell_type": "code",
   "execution_count": 397,
   "metadata": {},
   "outputs": [
    {
     "data": {
      "text/html": [
       "<div>\n",
       "<style scoped>\n",
       "    .dataframe tbody tr th:only-of-type {\n",
       "        vertical-align: middle;\n",
       "    }\n",
       "\n",
       "    .dataframe tbody tr th {\n",
       "        vertical-align: top;\n",
       "    }\n",
       "\n",
       "    .dataframe thead th {\n",
       "        text-align: right;\n",
       "    }\n",
       "</style>\n",
       "<table border=\"1\" class=\"dataframe\">\n",
       "  <thead>\n",
       "    <tr style=\"text-align: right;\">\n",
       "      <th></th>\n",
       "      <th>Component_1</th>\n",
       "      <th>Component_2</th>\n",
       "      <th>Tertarik</th>\n",
       "    </tr>\n",
       "  </thead>\n",
       "  <tbody>\n",
       "    <tr>\n",
       "      <th>247422</th>\n",
       "      <td>-2.291475</td>\n",
       "      <td>0.264669</td>\n",
       "      <td>0</td>\n",
       "    </tr>\n",
       "    <tr>\n",
       "      <th>1135</th>\n",
       "      <td>2.292304</td>\n",
       "      <td>0.090469</td>\n",
       "      <td>0</td>\n",
       "    </tr>\n",
       "    <tr>\n",
       "      <th>196550</th>\n",
       "      <td>-0.711967</td>\n",
       "      <td>0.875290</td>\n",
       "      <td>0</td>\n",
       "    </tr>\n",
       "    <tr>\n",
       "      <th>32146</th>\n",
       "      <td>-1.314255</td>\n",
       "      <td>0.771999</td>\n",
       "      <td>0</td>\n",
       "    </tr>\n",
       "    <tr>\n",
       "      <th>83087</th>\n",
       "      <td>1.369855</td>\n",
       "      <td>-0.744010</td>\n",
       "      <td>0</td>\n",
       "    </tr>\n",
       "  </tbody>\n",
       "</table>\n",
       "</div>"
      ],
      "text/plain": [
       "        Component_1  Component_2  Tertarik\n",
       "247422    -2.291475     0.264669         0\n",
       "1135       2.292304     0.090469         0\n",
       "196550    -0.711967     0.875290         0\n",
       "32146     -1.314255     0.771999         0\n",
       "83087      1.369855    -0.744010         0"
      ]
     },
     "execution_count": 397,
     "metadata": {},
     "output_type": "execute_result"
    }
   ],
   "source": [
    "from sklearn.decomposition import PCA\n",
    "\n",
    "pca = PCA(n_components=2)\n",
    "component = pca.fit_transform(df_train_pca)\n",
    "component_test = pca.transform(df_test_pca)\n",
    "\n",
    "df_train_pca = pd.DataFrame(data=component, columns=['Component_1', 'Component_2'])\n",
    "df_train_pca['Tertarik'] = df_label_train.values\n",
    "\n",
    "df_test_pca = pd.DataFrame(data=component_test, columns=['Component_1', 'Component_2'])\n",
    "df_test_pca['Tertarik'] = df_label_test.values\n",
    "\n",
    "df_train_pca.sample(5)"
   ]
  },
  {
   "cell_type": "code",
   "execution_count": 398,
   "metadata": {},
   "outputs": [],
   "source": [
    "df_train.to_csv('Dataset/kendaraan_train_clean.csv', index=False)\n",
    "df_test.to_csv('Dataset/kendaraan_test_clean.csv', index=False)\n",
    "\n",
    "df_train_pca.to_csv('Dataset/kendaraan_train_pca_clean.csv', index=False)\n",
    "df_test_pca.to_csv('Dataset/kendaraan_test_pca_clean.csv', index=False)\n"
   ]
  }
 ],
 "metadata": {
  "interpreter": {
   "hash": "2bf746931fd58f1246b6df4740a30aa94cbb7406c646ac7ef817c7ae9c273626"
  },
  "kernelspec": {
   "display_name": "Python 3.9.0 64-bit",
   "name": "python3"
  },
  "language_info": {
   "codemirror_mode": {
    "name": "ipython",
    "version": 3
   },
   "file_extension": ".py",
   "mimetype": "text/x-python",
   "name": "python",
   "nbconvert_exporter": "python",
   "pygments_lexer": "ipython3",
   "version": "3.9.0"
  },
  "orig_nbformat": 4
 },
 "nbformat": 4,
 "nbformat_minor": 2
}
