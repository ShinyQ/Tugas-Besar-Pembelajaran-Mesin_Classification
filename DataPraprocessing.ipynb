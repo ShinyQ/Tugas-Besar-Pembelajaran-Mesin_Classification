{
 "cells": [
  {
   "cell_type": "code",
   "execution_count": 1,
   "metadata": {},
   "outputs": [],
   "source": [
    "import pandas as pd\n",
    "import seaborn as sns\n",
    "import matplotlib.pyplot as plt\n",
    "\n",
    "from sklearn.preprocessing import MinMaxScaler\n",
    "from sklearn.preprocessing import StandardScaler\n",
    "from sklearn.decomposition import PCA\n"
   ]
  },
  {
   "cell_type": "code",
   "execution_count": 2,
   "metadata": {},
   "outputs": [
    {
     "name": "stdout",
     "output_type": "stream",
     "text": [
      "Total Dataset : 285831\n"
     ]
    },
    {
     "data": {
      "text/html": [
       "<div>\n",
       "<style scoped>\n",
       "    .dataframe tbody tr th:only-of-type {\n",
       "        vertical-align: middle;\n",
       "    }\n",
       "\n",
       "    .dataframe tbody tr th {\n",
       "        vertical-align: top;\n",
       "    }\n",
       "\n",
       "    .dataframe thead th {\n",
       "        text-align: right;\n",
       "    }\n",
       "</style>\n",
       "<table border=\"1\" class=\"dataframe\">\n",
       "  <thead>\n",
       "    <tr style=\"text-align: right;\">\n",
       "      <th></th>\n",
       "      <th>Jenis_Kelamin</th>\n",
       "      <th>Umur</th>\n",
       "      <th>SIM</th>\n",
       "      <th>Kode_Daerah</th>\n",
       "      <th>Sudah_Asuransi</th>\n",
       "      <th>Umur_Kendaraan</th>\n",
       "      <th>Kendaraan_Rusak</th>\n",
       "      <th>Premi</th>\n",
       "      <th>Kanal_Penjualan</th>\n",
       "      <th>Lama_Berlangganan</th>\n",
       "      <th>Tertarik</th>\n",
       "    </tr>\n",
       "  </thead>\n",
       "  <tbody>\n",
       "    <tr>\n",
       "      <th>222575</th>\n",
       "      <td>Pria</td>\n",
       "      <td>62.0</td>\n",
       "      <td>1.0</td>\n",
       "      <td>28.0</td>\n",
       "      <td>0.0</td>\n",
       "      <td>&gt; 2 Tahun</td>\n",
       "      <td>Pernah</td>\n",
       "      <td>38093.0</td>\n",
       "      <td>157.0</td>\n",
       "      <td>270.0</td>\n",
       "      <td>0</td>\n",
       "    </tr>\n",
       "    <tr>\n",
       "      <th>117039</th>\n",
       "      <td>Wanita</td>\n",
       "      <td>45.0</td>\n",
       "      <td>1.0</td>\n",
       "      <td>28.0</td>\n",
       "      <td>0.0</td>\n",
       "      <td>1-2 Tahun</td>\n",
       "      <td>Pernah</td>\n",
       "      <td>43550.0</td>\n",
       "      <td>124.0</td>\n",
       "      <td>282.0</td>\n",
       "      <td>0</td>\n",
       "    </tr>\n",
       "    <tr>\n",
       "      <th>94047</th>\n",
       "      <td>Wanita</td>\n",
       "      <td>22.0</td>\n",
       "      <td>1.0</td>\n",
       "      <td>13.0</td>\n",
       "      <td>1.0</td>\n",
       "      <td>&lt; 1 Tahun</td>\n",
       "      <td>Tidak</td>\n",
       "      <td>25841.0</td>\n",
       "      <td>152.0</td>\n",
       "      <td>249.0</td>\n",
       "      <td>0</td>\n",
       "    </tr>\n",
       "    <tr>\n",
       "      <th>52979</th>\n",
       "      <td>Pria</td>\n",
       "      <td>34.0</td>\n",
       "      <td>1.0</td>\n",
       "      <td>41.0</td>\n",
       "      <td>1.0</td>\n",
       "      <td>1-2 Tahun</td>\n",
       "      <td>Tidak</td>\n",
       "      <td>28534.0</td>\n",
       "      <td>152.0</td>\n",
       "      <td>52.0</td>\n",
       "      <td>0</td>\n",
       "    </tr>\n",
       "    <tr>\n",
       "      <th>206082</th>\n",
       "      <td>Wanita</td>\n",
       "      <td>30.0</td>\n",
       "      <td>1.0</td>\n",
       "      <td>30.0</td>\n",
       "      <td>1.0</td>\n",
       "      <td>&lt; 1 Tahun</td>\n",
       "      <td>Tidak</td>\n",
       "      <td>29802.0</td>\n",
       "      <td>152.0</td>\n",
       "      <td>202.0</td>\n",
       "      <td>0</td>\n",
       "    </tr>\n",
       "  </tbody>\n",
       "</table>\n",
       "</div>"
      ],
      "text/plain": [
       "       Jenis_Kelamin  Umur  SIM  Kode_Daerah  Sudah_Asuransi Umur_Kendaraan  \\\n",
       "222575          Pria  62.0  1.0         28.0             0.0      > 2 Tahun   \n",
       "117039        Wanita  45.0  1.0         28.0             0.0      1-2 Tahun   \n",
       "94047         Wanita  22.0  1.0         13.0             1.0      < 1 Tahun   \n",
       "52979           Pria  34.0  1.0         41.0             1.0      1-2 Tahun   \n",
       "206082        Wanita  30.0  1.0         30.0             1.0      < 1 Tahun   \n",
       "\n",
       "       Kendaraan_Rusak    Premi  Kanal_Penjualan  Lama_Berlangganan  Tertarik  \n",
       "222575          Pernah  38093.0            157.0              270.0         0  \n",
       "117039          Pernah  43550.0            124.0              282.0         0  \n",
       "94047            Tidak  25841.0            152.0              249.0         0  \n",
       "52979            Tidak  28534.0            152.0               52.0         0  \n",
       "206082           Tidak  29802.0            152.0              202.0         0  "
      ]
     },
     "execution_count": 2,
     "metadata": {},
     "output_type": "execute_result"
    }
   ],
   "source": [
    "df_train = pd.read_csv(\"Dataset/kendaraan_train.csv\")\n",
    "df_train.drop(['id'], axis=1, inplace=True)\n",
    "\n",
    "print(\"Total Dataset :\", len(df_train))\n",
    "df_train.sample(5)"
   ]
  },
  {
   "cell_type": "code",
   "execution_count": 3,
   "metadata": {},
   "outputs": [
    {
     "name": "stdout",
     "output_type": "stream",
     "text": [
      "Total Dataset : 47639\n"
     ]
    },
    {
     "data": {
      "text/html": [
       "<div>\n",
       "<style scoped>\n",
       "    .dataframe tbody tr th:only-of-type {\n",
       "        vertical-align: middle;\n",
       "    }\n",
       "\n",
       "    .dataframe tbody tr th {\n",
       "        vertical-align: top;\n",
       "    }\n",
       "\n",
       "    .dataframe thead th {\n",
       "        text-align: right;\n",
       "    }\n",
       "</style>\n",
       "<table border=\"1\" class=\"dataframe\">\n",
       "  <thead>\n",
       "    <tr style=\"text-align: right;\">\n",
       "      <th></th>\n",
       "      <th>Jenis_Kelamin</th>\n",
       "      <th>Umur</th>\n",
       "      <th>SIM</th>\n",
       "      <th>Kode_Daerah</th>\n",
       "      <th>Sudah_Asuransi</th>\n",
       "      <th>Umur_Kendaraan</th>\n",
       "      <th>Kendaraan_Rusak</th>\n",
       "      <th>Premi</th>\n",
       "      <th>Kanal_Penjualan</th>\n",
       "      <th>Lama_Berlangganan</th>\n",
       "      <th>Tertarik</th>\n",
       "    </tr>\n",
       "  </thead>\n",
       "  <tbody>\n",
       "    <tr>\n",
       "      <th>31292</th>\n",
       "      <td>Pria</td>\n",
       "      <td>27</td>\n",
       "      <td>1</td>\n",
       "      <td>50</td>\n",
       "      <td>0</td>\n",
       "      <td>1-2 Tahun</td>\n",
       "      <td>Pernah</td>\n",
       "      <td>40199</td>\n",
       "      <td>8</td>\n",
       "      <td>259</td>\n",
       "      <td>0</td>\n",
       "    </tr>\n",
       "    <tr>\n",
       "      <th>23743</th>\n",
       "      <td>Wanita</td>\n",
       "      <td>42</td>\n",
       "      <td>1</td>\n",
       "      <td>20</td>\n",
       "      <td>0</td>\n",
       "      <td>1-2 Tahun</td>\n",
       "      <td>Pernah</td>\n",
       "      <td>2630</td>\n",
       "      <td>156</td>\n",
       "      <td>145</td>\n",
       "      <td>1</td>\n",
       "    </tr>\n",
       "    <tr>\n",
       "      <th>25742</th>\n",
       "      <td>Wanita</td>\n",
       "      <td>27</td>\n",
       "      <td>1</td>\n",
       "      <td>28</td>\n",
       "      <td>1</td>\n",
       "      <td>&lt; 1 Tahun</td>\n",
       "      <td>Tidak</td>\n",
       "      <td>27690</td>\n",
       "      <td>152</td>\n",
       "      <td>35</td>\n",
       "      <td>0</td>\n",
       "    </tr>\n",
       "    <tr>\n",
       "      <th>46665</th>\n",
       "      <td>Pria</td>\n",
       "      <td>29</td>\n",
       "      <td>1</td>\n",
       "      <td>28</td>\n",
       "      <td>1</td>\n",
       "      <td>&lt; 1 Tahun</td>\n",
       "      <td>Tidak</td>\n",
       "      <td>30911</td>\n",
       "      <td>152</td>\n",
       "      <td>46</td>\n",
       "      <td>0</td>\n",
       "    </tr>\n",
       "    <tr>\n",
       "      <th>34276</th>\n",
       "      <td>Pria</td>\n",
       "      <td>35</td>\n",
       "      <td>1</td>\n",
       "      <td>15</td>\n",
       "      <td>0</td>\n",
       "      <td>1-2 Tahun</td>\n",
       "      <td>Pernah</td>\n",
       "      <td>32884</td>\n",
       "      <td>124</td>\n",
       "      <td>22</td>\n",
       "      <td>1</td>\n",
       "    </tr>\n",
       "  </tbody>\n",
       "</table>\n",
       "</div>"
      ],
      "text/plain": [
       "      Jenis_Kelamin  Umur  SIM  Kode_Daerah  Sudah_Asuransi Umur_Kendaraan  \\\n",
       "31292          Pria    27    1           50               0      1-2 Tahun   \n",
       "23743        Wanita    42    1           20               0      1-2 Tahun   \n",
       "25742        Wanita    27    1           28               1      < 1 Tahun   \n",
       "46665          Pria    29    1           28               1      < 1 Tahun   \n",
       "34276          Pria    35    1           15               0      1-2 Tahun   \n",
       "\n",
       "      Kendaraan_Rusak  Premi  Kanal_Penjualan  Lama_Berlangganan  Tertarik  \n",
       "31292          Pernah  40199                8                259         0  \n",
       "23743          Pernah   2630              156                145         1  \n",
       "25742           Tidak  27690              152                 35         0  \n",
       "46665           Tidak  30911              152                 46         0  \n",
       "34276          Pernah  32884              124                 22         1  "
      ]
     },
     "execution_count": 3,
     "metadata": {},
     "output_type": "execute_result"
    }
   ],
   "source": [
    "df_test = pd.read_csv(\"Dataset/kendaraan_test.csv\")\n",
    "\n",
    "print(\"Total Dataset :\", len(df_test))\n",
    "df_test.sample(5)"
   ]
  },
  {
   "cell_type": "code",
   "execution_count": 4,
   "metadata": {},
   "outputs": [
    {
     "name": "stdout",
     "output_type": "stream",
     "text": [
      "<class 'pandas.core.frame.DataFrame'>\n",
      "RangeIndex: 285831 entries, 0 to 285830\n",
      "Data columns (total 11 columns):\n",
      " #   Column             Non-Null Count   Dtype  \n",
      "---  ------             --------------   -----  \n",
      " 0   Jenis_Kelamin      271391 non-null  object \n",
      " 1   Umur               271617 non-null  float64\n",
      " 2   SIM                271427 non-null  float64\n",
      " 3   Kode_Daerah        271525 non-null  float64\n",
      " 4   Sudah_Asuransi     271602 non-null  float64\n",
      " 5   Umur_Kendaraan     271556 non-null  object \n",
      " 6   Kendaraan_Rusak    271643 non-null  object \n",
      " 7   Premi              271262 non-null  float64\n",
      " 8   Kanal_Penjualan    271532 non-null  float64\n",
      " 9   Lama_Berlangganan  271839 non-null  float64\n",
      " 10  Tertarik           285831 non-null  int64  \n",
      "dtypes: float64(7), int64(1), object(3)\n",
      "memory usage: 24.0+ MB\n"
     ]
    }
   ],
   "source": [
    "df_train.info()"
   ]
  },
  {
   "cell_type": "code",
   "execution_count": 5,
   "metadata": {},
   "outputs": [
    {
     "data": {
      "text/plain": [
       "Jenis_Kelamin        14440\n",
       "Umur                 14214\n",
       "SIM                  14404\n",
       "Kode_Daerah          14306\n",
       "Sudah_Asuransi       14229\n",
       "Umur_Kendaraan       14275\n",
       "Kendaraan_Rusak      14188\n",
       "Premi                14569\n",
       "Kanal_Penjualan      14299\n",
       "Lama_Berlangganan    13992\n",
       "Tertarik                 0\n",
       "dtype: int64"
      ]
     },
     "execution_count": 5,
     "metadata": {},
     "output_type": "execute_result"
    }
   ],
   "source": [
    "df_train.isna().sum()\n"
   ]
  },
  {
   "cell_type": "code",
   "execution_count": 6,
   "metadata": {},
   "outputs": [
    {
     "data": {
      "text/plain": [
       "Jenis_Kelamin        0\n",
       "Umur                 0\n",
       "SIM                  0\n",
       "Kode_Daerah          0\n",
       "Sudah_Asuransi       0\n",
       "Umur_Kendaraan       0\n",
       "Kendaraan_Rusak      0\n",
       "Premi                0\n",
       "Kanal_Penjualan      0\n",
       "Lama_Berlangganan    0\n",
       "Tertarik             0\n",
       "dtype: int64"
      ]
     },
     "execution_count": 6,
     "metadata": {},
     "output_type": "execute_result"
    }
   ],
   "source": [
    "df_test.isna().sum()\n"
   ]
  },
  {
   "cell_type": "code",
   "execution_count": 7,
   "metadata": {},
   "outputs": [
    {
     "name": "stdout",
     "output_type": "stream",
     "text": [
      "Data Duplikasi : 169\n"
     ]
    }
   ],
   "source": [
    "duplicate = list(df_train.duplicated())\n",
    "print(\"Data Duplikasi :\", duplicate.count(True))"
   ]
  },
  {
   "cell_type": "code",
   "execution_count": 8,
   "metadata": {},
   "outputs": [],
   "source": [
    "df_train.drop_duplicates(inplace=True)"
   ]
  },
  {
   "cell_type": "code",
   "execution_count": 9,
   "metadata": {},
   "outputs": [
    {
     "name": "stdout",
     "output_type": "stream",
     "text": [
      "Data Duplikasi : 0\n"
     ]
    }
   ],
   "source": [
    "duplicate = list(df_train.duplicated())\n",
    "print(\"Data Duplikasi :\", duplicate.count(True))"
   ]
  },
  {
   "cell_type": "markdown",
   "metadata": {},
   "source": [
    "## **Label Encoding**\n"
   ]
  },
  {
   "cell_type": "code",
   "execution_count": 10,
   "metadata": {},
   "outputs": [],
   "source": [
    "def label_encoding(df):\n",
    "    df['Jenis_Kelamin'] = df['Jenis_Kelamin'].replace(['Wanita', 'Pria'], [0, 1])\n",
    "    df['Umur_Kendaraan'] = df['Umur_Kendaraan'].replace(['< 1 Tahun', '1-2 Tahun', '> 2 Tahun'], [0, 1, 2])\n",
    "    df['Kendaraan_Rusak'] = df['Kendaraan_Rusak'].replace(['Tidak', 'Pernah'], [0, 1])\n",
    "\n",
    "label_encoding(df_train)\n",
    "label_encoding(df_test)\n"
   ]
  },
  {
   "cell_type": "code",
   "execution_count": 11,
   "metadata": {},
   "outputs": [],
   "source": [
    "# -2 Ke 2 Diisi Mean Berdasarkan Skewnessn Selain Itu Median\n",
    "df_train['SIM'] = df_train['SIM'].fillna(df_train['SIM'].median())\n",
    "df_train = df_train.fillna(df_train.mean())\n"
   ]
  },
  {
   "cell_type": "code",
   "execution_count": 12,
   "metadata": {},
   "outputs": [
    {
     "data": {
      "text/plain": [
       "Jenis_Kelamin        0\n",
       "Umur                 0\n",
       "SIM                  0\n",
       "Kode_Daerah          0\n",
       "Sudah_Asuransi       0\n",
       "Umur_Kendaraan       0\n",
       "Kendaraan_Rusak      0\n",
       "Premi                0\n",
       "Kanal_Penjualan      0\n",
       "Lama_Berlangganan    0\n",
       "Tertarik             0\n",
       "dtype: int64"
      ]
     },
     "execution_count": 12,
     "metadata": {},
     "output_type": "execute_result"
    }
   ],
   "source": [
    "df_train.isna().sum()"
   ]
  },
  {
   "cell_type": "code",
   "execution_count": 13,
   "metadata": {},
   "outputs": [
    {
     "data": {
      "image/png": "[encoded data removed]",
      "text/plain": [
       "<Figure size 1152x288 with 3 Axes>"
      ]
     },
     "metadata": {
      "needs_background": "light"
     },
     "output_type": "display_data"
    }
   ],
   "source": [
    "fig, ax = plt.subplots(ncols=3, figsize=(16, 4))\n",
    "sns.boxplot(y='Premi', data=df_train, ax=ax[0])\n",
    "sns.boxplot(y='Lama_Berlangganan', data=df_train, ax=ax[1])\n",
    "sns.boxplot(y='Kanal_Penjualan', data=df_train, ax=ax[2])\n",
    "plt.show()\n"
   ]
  },
  {
   "cell_type": "code",
   "execution_count": 14,
   "metadata": {},
   "outputs": [
    {
     "name": "stdout",
     "output_type": "stream",
     "text": [
      "Batas Atas :  59721.625\n",
      "Batas Bawah :  4066.625\n"
     ]
    },
    {
     "data": {
      "image/png": "[encoded data removed]",
      "text/plain": [
       "<Figure size 1152x288 with 3 Axes>"
      ]
     },
     "metadata": {
      "needs_background": "light"
     },
     "output_type": "display_data"
    }
   ],
   "source": [
    "Q1 = df_train[\"Premi\"].quantile(0.25)\n",
    "Q3 = df_train[\"Premi\"].quantile(0.75)\n",
    "IQR = Q3 - Q1\n",
    "\n",
    "BB = Q1 - (1.5 * IQR)\n",
    "BA = Q3 + (1.5 * IQR)\n",
    "\n",
    "print(\"Batas Atas : \", BA)\n",
    "print(\"Batas Bawah : \", BB)\n",
    "\n",
    "df_train = df_train[~((df_train[\"Premi\"] < BB) | (df_train[\"Premi\"] > BA))]\n",
    "\n",
    "fig, ax = plt.subplots(ncols=3, figsize=(16, 4))\n",
    "sns.boxplot(y='Premi', data=df_train, ax=ax[0])\n",
    "sns.boxplot(y='Lama_Berlangganan', data=df_train, ax=ax[1])\n",
    "sns.boxplot(y='Kanal_Penjualan', data=df_train, ax=ax[2])\n",
    "plt.show()\n"
   ]
  },
  {
   "cell_type": "markdown",
   "metadata": {},
   "source": [
    "## **Min Max Scaler**"
   ]
  },
  {
   "cell_type": "code",
   "execution_count": 15,
   "metadata": {},
   "outputs": [
    {
     "data": {
      "text/html": [
       "<div>\n",
       "<style scoped>\n",
       "    .dataframe tbody tr th:only-of-type {\n",
       "        vertical-align: middle;\n",
       "    }\n",
       "\n",
       "    .dataframe tbody tr th {\n",
       "        vertical-align: top;\n",
       "    }\n",
       "\n",
       "    .dataframe thead th {\n",
       "        text-align: right;\n",
       "    }\n",
       "</style>\n",
       "<table border=\"1\" class=\"dataframe\">\n",
       "  <thead>\n",
       "    <tr style=\"text-align: right;\">\n",
       "      <th></th>\n",
       "      <th>Jenis_Kelamin</th>\n",
       "      <th>Umur</th>\n",
       "      <th>SIM</th>\n",
       "      <th>Kode_Daerah</th>\n",
       "      <th>Sudah_Asuransi</th>\n",
       "      <th>Umur_Kendaraan</th>\n",
       "      <th>Kendaraan_Rusak</th>\n",
       "      <th>Premi</th>\n",
       "      <th>Kanal_Penjualan</th>\n",
       "      <th>Lama_Berlangganan</th>\n",
       "      <th>Tertarik</th>\n",
       "    </tr>\n",
       "  </thead>\n",
       "  <tbody>\n",
       "    <tr>\n",
       "      <th>179523</th>\n",
       "      <td>-1.099543</td>\n",
       "      <td>1.044288</td>\n",
       "      <td>0.044705</td>\n",
       "      <td>0.119618</td>\n",
       "      <td>-0.982998</td>\n",
       "      <td>0.755505</td>\n",
       "      <td>1.051748</td>\n",
       "      <td>2.248904</td>\n",
       "      <td>-1.647398</td>\n",
       "      <td>-0.076711</td>\n",
       "      <td>0</td>\n",
       "    </tr>\n",
       "    <tr>\n",
       "      <th>5970</th>\n",
       "      <td>0.957913</td>\n",
       "      <td>0.041243</td>\n",
       "      <td>0.044705</td>\n",
       "      <td>0.119618</td>\n",
       "      <td>-0.982998</td>\n",
       "      <td>0.755505</td>\n",
       "      <td>1.051748</td>\n",
       "      <td>-0.382787</td>\n",
       "      <td>0.223363</td>\n",
       "      <td>-0.382893</td>\n",
       "      <td>0</td>\n",
       "    </tr>\n",
       "    <tr>\n",
       "      <th>266385</th>\n",
       "      <td>0.957913</td>\n",
       "      <td>-0.875367</td>\n",
       "      <td>0.044705</td>\n",
       "      <td>0.434297</td>\n",
       "      <td>-0.982998</td>\n",
       "      <td>-1.049090</td>\n",
       "      <td>1.051748</td>\n",
       "      <td>-0.457834</td>\n",
       "      <td>0.910581</td>\n",
       "      <td>-0.284915</td>\n",
       "      <td>0</td>\n",
       "    </tr>\n",
       "    <tr>\n",
       "      <th>149127</th>\n",
       "      <td>-1.099543</td>\n",
       "      <td>0.713313</td>\n",
       "      <td>0.044705</td>\n",
       "      <td>0.119618</td>\n",
       "      <td>1.070422</td>\n",
       "      <td>0.755505</td>\n",
       "      <td>-1.000477</td>\n",
       "      <td>-0.493660</td>\n",
       "      <td>0.223363</td>\n",
       "      <td>1.527687</td>\n",
       "      <td>0</td>\n",
       "    </tr>\n",
       "    <tr>\n",
       "      <th>122054</th>\n",
       "      <td>-1.099543</td>\n",
       "      <td>-1.140147</td>\n",
       "      <td>0.044705</td>\n",
       "      <td>-0.005783</td>\n",
       "      <td>1.070422</td>\n",
       "      <td>-1.049090</td>\n",
       "      <td>-1.000477</td>\n",
       "      <td>0.236675</td>\n",
       "      <td>0.910581</td>\n",
       "      <td>0.829590</td>\n",
       "      <td>0</td>\n",
       "    </tr>\n",
       "  </tbody>\n",
       "</table>\n",
       "</div>"
      ],
      "text/plain": [
       "        Jenis_Kelamin      Umur       SIM  Kode_Daerah  Sudah_Asuransi  \\\n",
       "179523      -1.099543  1.044288  0.044705     0.119618       -0.982998   \n",
       "5970         0.957913  0.041243  0.044705     0.119618       -0.982998   \n",
       "266385       0.957913 -0.875367  0.044705     0.434297       -0.982998   \n",
       "149127      -1.099543  0.713313  0.044705     0.119618        1.070422   \n",
       "122054      -1.099543 -1.140147  0.044705    -0.005783        1.070422   \n",
       "\n",
       "        Umur_Kendaraan  Kendaraan_Rusak     Premi  Kanal_Penjualan  \\\n",
       "179523        0.755505         1.051748  2.248904        -1.647398   \n",
       "5970          0.755505         1.051748 -0.382787         0.223363   \n",
       "266385       -1.049090         1.051748 -0.457834         0.910581   \n",
       "149127        0.755505        -1.000477 -0.493660         0.223363   \n",
       "122054       -1.049090        -1.000477  0.236675         0.910581   \n",
       "\n",
       "        Lama_Berlangganan  Tertarik  \n",
       "179523          -0.076711         0  \n",
       "5970            -0.382893         0  \n",
       "266385          -0.284915         0  \n",
       "149127           1.527687         0  \n",
       "122054           0.829590         0  "
      ]
     },
     "execution_count": 15,
     "metadata": {},
     "output_type": "execute_result"
    }
   ],
   "source": [
    "numerical = [\n",
    "    'Premi', 'Lama_Berlangganan', 'Umur', 'Kode_Daerah', 'Kanal_Penjualan', \n",
    "    'Jenis_Kelamin', 'SIM', 'Kendaraan_Rusak', 'Sudah_Asuransi', 'Umur_Kendaraan'\n",
    "]\n",
    "\n",
    "scaler = StandardScaler()\n",
    "\n",
    "df_train[numerical] = scaler.fit_transform(df_train[numerical].values)\n",
    "df_train.sample(5)\n"
   ]
  },
  {
   "cell_type": "code",
   "execution_count": 16,
   "metadata": {},
   "outputs": [
    {
     "data": {
      "text/html": [
       "<div>\n",
       "<style scoped>\n",
       "    .dataframe tbody tr th:only-of-type {\n",
       "        vertical-align: middle;\n",
       "    }\n",
       "\n",
       "    .dataframe tbody tr th {\n",
       "        vertical-align: top;\n",
       "    }\n",
       "\n",
       "    .dataframe thead th {\n",
       "        text-align: right;\n",
       "    }\n",
       "</style>\n",
       "<table border=\"1\" class=\"dataframe\">\n",
       "  <thead>\n",
       "    <tr style=\"text-align: right;\">\n",
       "      <th></th>\n",
       "      <th>Jenis_Kelamin</th>\n",
       "      <th>Umur</th>\n",
       "      <th>SIM</th>\n",
       "      <th>Kode_Daerah</th>\n",
       "      <th>Sudah_Asuransi</th>\n",
       "      <th>Umur_Kendaraan</th>\n",
       "      <th>Kendaraan_Rusak</th>\n",
       "      <th>Premi</th>\n",
       "      <th>Kanal_Penjualan</th>\n",
       "      <th>Lama_Berlangganan</th>\n",
       "      <th>Tertarik</th>\n",
       "    </tr>\n",
       "  </thead>\n",
       "  <tbody>\n",
       "    <tr>\n",
       "      <th>36027</th>\n",
       "      <td>0.957913</td>\n",
       "      <td>-0.544392</td>\n",
       "      <td>0.044705</td>\n",
       "      <td>-1.453781</td>\n",
       "      <td>-0.982998</td>\n",
       "      <td>-1.049090</td>\n",
       "      <td>1.051748</td>\n",
       "      <td>1.161245</td>\n",
       "      <td>0.967849</td>\n",
       "      <td>0.315203</td>\n",
       "      <td>0</td>\n",
       "    </tr>\n",
       "    <tr>\n",
       "      <th>39318</th>\n",
       "      <td>-1.099543</td>\n",
       "      <td>-0.941562</td>\n",
       "      <td>0.044705</td>\n",
       "      <td>-0.667081</td>\n",
       "      <td>1.070422</td>\n",
       "      <td>-1.049090</td>\n",
       "      <td>-1.000477</td>\n",
       "      <td>0.804858</td>\n",
       "      <td>0.757866</td>\n",
       "      <td>1.650160</td>\n",
       "      <td>0</td>\n",
       "    </tr>\n",
       "    <tr>\n",
       "      <th>32775</th>\n",
       "      <td>0.957913</td>\n",
       "      <td>0.713313</td>\n",
       "      <td>0.044705</td>\n",
       "      <td>-1.453781</td>\n",
       "      <td>1.070422</td>\n",
       "      <td>0.755505</td>\n",
       "      <td>-1.000477</td>\n",
       "      <td>0.747957</td>\n",
       "      <td>-1.647398</td>\n",
       "      <td>1.466450</td>\n",
       "      <td>0</td>\n",
       "    </tr>\n",
       "    <tr>\n",
       "      <th>12605</th>\n",
       "      <td>-1.099543</td>\n",
       "      <td>-0.809172</td>\n",
       "      <td>0.044705</td>\n",
       "      <td>-1.611120</td>\n",
       "      <td>1.070422</td>\n",
       "      <td>-1.049090</td>\n",
       "      <td>-1.000477</td>\n",
       "      <td>0.657807</td>\n",
       "      <td>0.757866</td>\n",
       "      <td>1.086784</td>\n",
       "      <td>0</td>\n",
       "    </tr>\n",
       "    <tr>\n",
       "      <th>29001</th>\n",
       "      <td>0.957913</td>\n",
       "      <td>-1.140147</td>\n",
       "      <td>0.044705</td>\n",
       "      <td>-0.903091</td>\n",
       "      <td>-0.982998</td>\n",
       "      <td>-1.049090</td>\n",
       "      <td>1.051748</td>\n",
       "      <td>-0.277416</td>\n",
       "      <td>0.910581</td>\n",
       "      <td>-0.346151</td>\n",
       "      <td>0</td>\n",
       "    </tr>\n",
       "  </tbody>\n",
       "</table>\n",
       "</div>"
      ],
      "text/plain": [
       "       Jenis_Kelamin      Umur       SIM  Kode_Daerah  Sudah_Asuransi  \\\n",
       "36027       0.957913 -0.544392  0.044705    -1.453781       -0.982998   \n",
       "39318      -1.099543 -0.941562  0.044705    -0.667081        1.070422   \n",
       "32775       0.957913  0.713313  0.044705    -1.453781        1.070422   \n",
       "12605      -1.099543 -0.809172  0.044705    -1.611120        1.070422   \n",
       "29001       0.957913 -1.140147  0.044705    -0.903091       -0.982998   \n",
       "\n",
       "       Umur_Kendaraan  Kendaraan_Rusak     Premi  Kanal_Penjualan  \\\n",
       "36027       -1.049090         1.051748  1.161245         0.967849   \n",
       "39318       -1.049090        -1.000477  0.804858         0.757866   \n",
       "32775        0.755505        -1.000477  0.747957        -1.647398   \n",
       "12605       -1.049090        -1.000477  0.657807         0.757866   \n",
       "29001       -1.049090         1.051748 -0.277416         0.910581   \n",
       "\n",
       "       Lama_Berlangganan  Tertarik  \n",
       "36027           0.315203         0  \n",
       "39318           1.650160         0  \n",
       "32775           1.466450         0  \n",
       "12605           1.086784         0  \n",
       "29001          -0.346151         0  "
      ]
     },
     "execution_count": 16,
     "metadata": {},
     "output_type": "execute_result"
    }
   ],
   "source": [
    "df_test[numerical] = scaler.transform(df_test[numerical].values)\n",
    "df_test.sample(5)"
   ]
  },
  {
   "cell_type": "code",
   "execution_count": 17,
   "metadata": {},
   "outputs": [],
   "source": [
    "df_train_pca = df_train.copy()\n",
    "df_test_pca = df_test.copy()\n",
    "\n",
    "df_label_train = df_train['Tertarik']\n",
    "df_label_test = df_test['Tertarik']\n",
    "\n",
    "del df_train_pca['Tertarik']\n",
    "del df_test_pca['Tertarik']\n"
   ]
  },
  {
   "cell_type": "code",
   "execution_count": 18,
   "metadata": {},
   "outputs": [
    {
     "data": {
      "text/html": [
       "<div>\n",
       "<style scoped>\n",
       "    .dataframe tbody tr th:only-of-type {\n",
       "        vertical-align: middle;\n",
       "    }\n",
       "\n",
       "    .dataframe tbody tr th {\n",
       "        vertical-align: top;\n",
       "    }\n",
       "\n",
       "    .dataframe thead th {\n",
       "        text-align: right;\n",
       "    }\n",
       "</style>\n",
       "<table border=\"1\" class=\"dataframe\">\n",
       "  <thead>\n",
       "    <tr style=\"text-align: right;\">\n",
       "      <th></th>\n",
       "      <th>Component_1</th>\n",
       "      <th>Component_2</th>\n",
       "      <th>Tertarik</th>\n",
       "    </tr>\n",
       "  </thead>\n",
       "  <tbody>\n",
       "    <tr>\n",
       "      <th>115472</th>\n",
       "      <td>-2.006328</td>\n",
       "      <td>0.468654</td>\n",
       "      <td>0</td>\n",
       "    </tr>\n",
       "    <tr>\n",
       "      <th>31197</th>\n",
       "      <td>0.914143</td>\n",
       "      <td>-1.225218</td>\n",
       "      <td>1</td>\n",
       "    </tr>\n",
       "    <tr>\n",
       "      <th>89843</th>\n",
       "      <td>-0.167326</td>\n",
       "      <td>1.628612</td>\n",
       "      <td>0</td>\n",
       "    </tr>\n",
       "    <tr>\n",
       "      <th>83406</th>\n",
       "      <td>-2.035756</td>\n",
       "      <td>0.399173</td>\n",
       "      <td>0</td>\n",
       "    </tr>\n",
       "    <tr>\n",
       "      <th>16502</th>\n",
       "      <td>2.157348</td>\n",
       "      <td>-0.253012</td>\n",
       "      <td>0</td>\n",
       "    </tr>\n",
       "  </tbody>\n",
       "</table>\n",
       "</div>"
      ],
      "text/plain": [
       "        Component_1  Component_2  Tertarik\n",
       "115472    -2.006328     0.468654         0\n",
       "31197      0.914143    -1.225218         1\n",
       "89843     -0.167326     1.628612         0\n",
       "83406     -2.035756     0.399173         0\n",
       "16502      2.157348    -0.253012         0"
      ]
     },
     "execution_count": 18,
     "metadata": {},
     "output_type": "execute_result"
    }
   ],
   "source": [
    "from sklearn.decomposition import PCA\n",
    "\n",
    "pca = PCA(n_components=2)\n",
    "component = pca.fit_transform(df_train_pca)\n",
    "component_test = pca.transform(df_test_pca)\n",
    "\n",
    "df_train_pca = pd.DataFrame(data=component, columns=['Component_1', 'Component_2'])\n",
    "df_train_pca['Tertarik'] = df_label_train.values\n",
    "\n",
    "df_test_pca = pd.DataFrame(data=component_test, columns=['Component_1', 'Component_2'])\n",
    "df_test_pca['Tertarik'] = df_label_test.values\n",
    "\n",
    "df_train_pca.sample(5)"
   ]
  },
  {
   "cell_type": "code",
   "execution_count": 19,
   "metadata": {},
   "outputs": [],
   "source": [
    "df_train.to_csv('Dataset/kendaraan_train_clean.csv', index=False)\n",
    "df_test.to_csv('Dataset/kendaraan_test_clean.csv', index=False)\n",
    "\n",
    "df_train_pca.to_csv('Dataset/kendaraan_train_pca_clean.csv', index=False)\n",
    "df_test_pca.to_csv('Dataset/kendaraan_test_pca_clean.csv', index=False)\n"
   ]
  }
 ],
 "metadata": {
  "interpreter": {
   "hash": "2bf746931fd58f1246b6df4740a30aa94cbb7406c646ac7ef817c7ae9c273626"
  },
  "kernelspec": {
   "display_name": "Python 3.9.0 64-bit",
   "name": "python3"
  },
  "language_info": {
   "codemirror_mode": {
    "name": "ipython",
    "version": 3
   },
   "file_extension": ".py",
   "mimetype": "text/x-python",
   "name": "python",
   "nbconvert_exporter": "python",
   "pygments_lexer": "ipython3",
   "version": "3.9.0"
  },
  "orig_nbformat": 4
 },
 "nbformat": 4,
 "nbformat_minor": 2
}
